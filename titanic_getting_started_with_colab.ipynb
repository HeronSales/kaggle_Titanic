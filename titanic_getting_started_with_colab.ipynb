{
  "nbformat": 4,
  "nbformat_minor": 0,
  "metadata": {
    "kernelspec": {
      "language": "python",
      "display_name": "Python 3",
      "name": "python3"
    },
    "language_info": {
      "name": "python",
      "version": "3.7.10",
      "mimetype": "text/x-python",
      "codemirror_mode": {
        "name": "ipython",
        "version": 3
      },
      "pygments_lexer": "ipython3",
      "nbconvert_exporter": "python",
      "file_extension": ".py"
    },
    "colab": {
      "name": "titanic-getting-started-with-titanic.ipynb",
      "provenance": [],
      "include_colab_link": true
    }
  },
  "cells": [
    {
      "cell_type": "markdown",
      "metadata": {
        "id": "view-in-github",
        "colab_type": "text"
      },
      "source": [
        "<a href=\"https://colab.research.google.com/github/HeronSales/kaggle_Titanic/blob/main/titanic_getting_started_with_colab.ipynb\" target=\"_parent\"><img src=\"https://colab.research.google.com/assets/colab-badge.svg\" alt=\"Open In Colab\"/></a>"
      ]
    },
    {
      "cell_type": "markdown",
      "metadata": {
        "id": "ufD68CSaQOZZ"
      },
      "source": [
        "# Introduction\n",
        "\n",
        "This is my first analysis publishing in kaggle, I hope that you like and let me a feed back about anything including grammar.\n",
        "\n",
        "I chose to compare some Machine Learning models who usually works as decision tree classifiers. The final chose model it's that have the best hit percentage, after that the model will be use to answer the test data set.\n",
        "\n",
        "This kernel has four main sections; Null data, Extracting Features, Training data analysis and Model. If you have any idea that might improve this kernel, please be sure to comment, or fork and experiment as you like. If you didn't understand any part, feel free to ask."
      ]
    },
    {
      "cell_type": "code",
      "metadata": {
        "_uuid": "8f2839f25d086af736a60e9eeb907d3b93b6e0e5",
        "_cell_guid": "b1076dfc-b9ad-4769-8c92-a6c4dae69d19",
        "execution": {
          "iopub.status.busy": "2021-07-23T02:17:07.208193Z",
          "iopub.execute_input": "2021-07-23T02:17:07.208883Z",
          "iopub.status.idle": "2021-07-23T02:17:07.258427Z",
          "shell.execute_reply.started": "2021-07-23T02:17:07.208757Z",
          "shell.execute_reply": "2021-07-23T02:17:07.257321Z"
        },
        "trusted": true,
        "id": "fnN-dECWQOZe"
      },
      "source": [
        "\n",
        "import numpy as np # linear algebra\n",
        "import pandas as pd # data processing, CSV file I/O (e.g. pd.read_csv)   "
      ],
      "execution_count": 5,
      "outputs": []
    },
    {
      "cell_type": "code",
      "metadata": {
        "execution": {
          "iopub.status.busy": "2021-07-23T02:17:07.260438Z",
          "iopub.execute_input": "2021-07-23T02:17:07.260773Z",
          "iopub.status.idle": "2021-07-23T02:17:07.678613Z",
          "shell.execute_reply.started": "2021-07-23T02:17:07.260743Z",
          "shell.execute_reply": "2021-07-23T02:17:07.677913Z"
        },
        "trusted": true,
        "id": "I0J9hBnrQOZf"
      },
      "source": [
        "# Import data\n",
        "train_data = pd.read_csv('/content/train.csv')\n",
        "test_data_final = pd.read_csv('/content/test.csv')"
      ],
      "execution_count": 6,
      "outputs": []
    },
    {
      "cell_type": "code",
      "metadata": {
        "execution": {
          "iopub.status.busy": "2021-07-23T02:17:07.68016Z",
          "iopub.execute_input": "2021-07-23T02:17:07.680584Z",
          "iopub.status.idle": "2021-07-23T02:17:07.708578Z",
          "shell.execute_reply.started": "2021-07-23T02:17:07.680554Z",
          "shell.execute_reply": "2021-07-23T02:17:07.707802Z"
        },
        "trusted": true,
        "colab": {
          "base_uri": "https://localhost:8080/",
          "height": 197
        },
        "id": "0z4UYaAsQOZg",
        "outputId": "5fc82ffa-38b0-42d0-aa51-207b63eeac41"
      },
      "source": [
        "# Looking until fifth row of dataframe\n",
        "train_data.head()"
      ],
      "execution_count": 7,
      "outputs": [
        {
          "output_type": "execute_result",
          "data": {
            "text/html": [
              "<div>\n",
              "<style scoped>\n",
              "    .dataframe tbody tr th:only-of-type {\n",
              "        vertical-align: middle;\n",
              "    }\n",
              "\n",
              "    .dataframe tbody tr th {\n",
              "        vertical-align: top;\n",
              "    }\n",
              "\n",
              "    .dataframe thead th {\n",
              "        text-align: right;\n",
              "    }\n",
              "</style>\n",
              "<table border=\"1\" class=\"dataframe\">\n",
              "  <thead>\n",
              "    <tr style=\"text-align: right;\">\n",
              "      <th></th>\n",
              "      <th>PassengerId</th>\n",
              "      <th>Survived</th>\n",
              "      <th>Pclass</th>\n",
              "      <th>Name</th>\n",
              "      <th>Sex</th>\n",
              "      <th>Age</th>\n",
              "      <th>SibSp</th>\n",
              "      <th>Parch</th>\n",
              "      <th>Ticket</th>\n",
              "      <th>Fare</th>\n",
              "      <th>Cabin</th>\n",
              "      <th>Embarked</th>\n",
              "    </tr>\n",
              "  </thead>\n",
              "  <tbody>\n",
              "    <tr>\n",
              "      <th>0</th>\n",
              "      <td>1</td>\n",
              "      <td>0</td>\n",
              "      <td>3</td>\n",
              "      <td>Braund, Mr. Owen Harris</td>\n",
              "      <td>male</td>\n",
              "      <td>22.0</td>\n",
              "      <td>1</td>\n",
              "      <td>0</td>\n",
              "      <td>A/5 21171</td>\n",
              "      <td>7.2500</td>\n",
              "      <td>NaN</td>\n",
              "      <td>S</td>\n",
              "    </tr>\n",
              "    <tr>\n",
              "      <th>1</th>\n",
              "      <td>2</td>\n",
              "      <td>1</td>\n",
              "      <td>1</td>\n",
              "      <td>Cumings, Mrs. John Bradley (Florence Briggs Th...</td>\n",
              "      <td>female</td>\n",
              "      <td>38.0</td>\n",
              "      <td>1</td>\n",
              "      <td>0</td>\n",
              "      <td>PC 17599</td>\n",
              "      <td>71.2833</td>\n",
              "      <td>C85</td>\n",
              "      <td>C</td>\n",
              "    </tr>\n",
              "    <tr>\n",
              "      <th>2</th>\n",
              "      <td>3</td>\n",
              "      <td>1</td>\n",
              "      <td>3</td>\n",
              "      <td>Heikkinen, Miss. Laina</td>\n",
              "      <td>female</td>\n",
              "      <td>26.0</td>\n",
              "      <td>0</td>\n",
              "      <td>0</td>\n",
              "      <td>STON/O2. 3101282</td>\n",
              "      <td>7.9250</td>\n",
              "      <td>NaN</td>\n",
              "      <td>S</td>\n",
              "    </tr>\n",
              "    <tr>\n",
              "      <th>3</th>\n",
              "      <td>4</td>\n",
              "      <td>1</td>\n",
              "      <td>1</td>\n",
              "      <td>Futrelle, Mrs. Jacques Heath (Lily May Peel)</td>\n",
              "      <td>female</td>\n",
              "      <td>35.0</td>\n",
              "      <td>1</td>\n",
              "      <td>0</td>\n",
              "      <td>113803</td>\n",
              "      <td>53.1000</td>\n",
              "      <td>C123</td>\n",
              "      <td>S</td>\n",
              "    </tr>\n",
              "    <tr>\n",
              "      <th>4</th>\n",
              "      <td>5</td>\n",
              "      <td>0</td>\n",
              "      <td>3</td>\n",
              "      <td>Allen, Mr. William Henry</td>\n",
              "      <td>male</td>\n",
              "      <td>35.0</td>\n",
              "      <td>0</td>\n",
              "      <td>0</td>\n",
              "      <td>373450</td>\n",
              "      <td>8.0500</td>\n",
              "      <td>NaN</td>\n",
              "      <td>S</td>\n",
              "    </tr>\n",
              "  </tbody>\n",
              "</table>\n",
              "</div>"
            ],
            "text/plain": [
              "   PassengerId  Survived  Pclass  ...     Fare Cabin  Embarked\n",
              "0            1         0       3  ...   7.2500   NaN         S\n",
              "1            2         1       1  ...  71.2833   C85         C\n",
              "2            3         1       3  ...   7.9250   NaN         S\n",
              "3            4         1       1  ...  53.1000  C123         S\n",
              "4            5         0       3  ...   8.0500   NaN         S\n",
              "\n",
              "[5 rows x 12 columns]"
            ]
          },
          "metadata": {
            "tags": []
          },
          "execution_count": 7
        }
      ]
    },
    {
      "cell_type": "code",
      "metadata": {
        "execution": {
          "iopub.status.busy": "2021-07-23T02:17:07.710061Z",
          "iopub.execute_input": "2021-07-23T02:17:07.710558Z",
          "iopub.status.idle": "2021-07-23T02:17:07.7283Z",
          "shell.execute_reply.started": "2021-07-23T02:17:07.710511Z",
          "shell.execute_reply": "2021-07-23T02:17:07.727345Z"
        },
        "trusted": true,
        "colab": {
          "base_uri": "https://localhost:8080/",
          "height": 197
        },
        "id": "Jr2qip0wQOZg",
        "outputId": "b2dff121-1c5f-4d23-b836-01315d99ae38"
      },
      "source": [
        "test_data_final.head()"
      ],
      "execution_count": 8,
      "outputs": [
        {
          "output_type": "execute_result",
          "data": {
            "text/html": [
              "<div>\n",
              "<style scoped>\n",
              "    .dataframe tbody tr th:only-of-type {\n",
              "        vertical-align: middle;\n",
              "    }\n",
              "\n",
              "    .dataframe tbody tr th {\n",
              "        vertical-align: top;\n",
              "    }\n",
              "\n",
              "    .dataframe thead th {\n",
              "        text-align: right;\n",
              "    }\n",
              "</style>\n",
              "<table border=\"1\" class=\"dataframe\">\n",
              "  <thead>\n",
              "    <tr style=\"text-align: right;\">\n",
              "      <th></th>\n",
              "      <th>PassengerId</th>\n",
              "      <th>Pclass</th>\n",
              "      <th>Name</th>\n",
              "      <th>Sex</th>\n",
              "      <th>Age</th>\n",
              "      <th>SibSp</th>\n",
              "      <th>Parch</th>\n",
              "      <th>Ticket</th>\n",
              "      <th>Fare</th>\n",
              "      <th>Cabin</th>\n",
              "      <th>Embarked</th>\n",
              "    </tr>\n",
              "  </thead>\n",
              "  <tbody>\n",
              "    <tr>\n",
              "      <th>0</th>\n",
              "      <td>892</td>\n",
              "      <td>3</td>\n",
              "      <td>Kelly, Mr. James</td>\n",
              "      <td>male</td>\n",
              "      <td>34.5</td>\n",
              "      <td>0</td>\n",
              "      <td>0</td>\n",
              "      <td>330911</td>\n",
              "      <td>7.8292</td>\n",
              "      <td>NaN</td>\n",
              "      <td>Q</td>\n",
              "    </tr>\n",
              "    <tr>\n",
              "      <th>1</th>\n",
              "      <td>893</td>\n",
              "      <td>3</td>\n",
              "      <td>Wilkes, Mrs. James (Ellen Needs)</td>\n",
              "      <td>female</td>\n",
              "      <td>47.0</td>\n",
              "      <td>1</td>\n",
              "      <td>0</td>\n",
              "      <td>363272</td>\n",
              "      <td>7.0000</td>\n",
              "      <td>NaN</td>\n",
              "      <td>S</td>\n",
              "    </tr>\n",
              "    <tr>\n",
              "      <th>2</th>\n",
              "      <td>894</td>\n",
              "      <td>2</td>\n",
              "      <td>Myles, Mr. Thomas Francis</td>\n",
              "      <td>male</td>\n",
              "      <td>62.0</td>\n",
              "      <td>0</td>\n",
              "      <td>0</td>\n",
              "      <td>240276</td>\n",
              "      <td>9.6875</td>\n",
              "      <td>NaN</td>\n",
              "      <td>Q</td>\n",
              "    </tr>\n",
              "    <tr>\n",
              "      <th>3</th>\n",
              "      <td>895</td>\n",
              "      <td>3</td>\n",
              "      <td>Wirz, Mr. Albert</td>\n",
              "      <td>male</td>\n",
              "      <td>27.0</td>\n",
              "      <td>0</td>\n",
              "      <td>0</td>\n",
              "      <td>315154</td>\n",
              "      <td>8.6625</td>\n",
              "      <td>NaN</td>\n",
              "      <td>S</td>\n",
              "    </tr>\n",
              "    <tr>\n",
              "      <th>4</th>\n",
              "      <td>896</td>\n",
              "      <td>3</td>\n",
              "      <td>Hirvonen, Mrs. Alexander (Helga E Lindqvist)</td>\n",
              "      <td>female</td>\n",
              "      <td>22.0</td>\n",
              "      <td>1</td>\n",
              "      <td>1</td>\n",
              "      <td>3101298</td>\n",
              "      <td>12.2875</td>\n",
              "      <td>NaN</td>\n",
              "      <td>S</td>\n",
              "    </tr>\n",
              "  </tbody>\n",
              "</table>\n",
              "</div>"
            ],
            "text/plain": [
              "   PassengerId  Pclass  ... Cabin Embarked\n",
              "0          892       3  ...   NaN        Q\n",
              "1          893       3  ...   NaN        S\n",
              "2          894       2  ...   NaN        Q\n",
              "3          895       3  ...   NaN        S\n",
              "4          896       3  ...   NaN        S\n",
              "\n",
              "[5 rows x 11 columns]"
            ]
          },
          "metadata": {
            "tags": []
          },
          "execution_count": 8
        }
      ]
    },
    {
      "cell_type": "markdown",
      "metadata": {
        "id": "PXENFazZQOZh"
      },
      "source": [
        "## Information Provided by the Kaggle\n",
        "\n",
        "* PassengerId is the unique id of the row and it doesn't have any effect on target\n",
        "* Survived is the target variable we are trying to predict (0 or 1):\n",
        " * 1 = Survived\n",
        " * 0 = Not Survived\n",
        "* Pclass (Passenger Class) is the socio-economic status of the passenger and it is a categorical ordinal feature which has 3 unique values (1, 2 or 3):\n",
        " * 1 = Upper Class\n",
        " * 2 = Middle Class\n",
        " * 3 = Lower Class\n",
        "* Name, Sex and Age\n",
        "* SibSp is the total number of the passengers' siblings and spouse\n",
        "* Parch is the total number of the passengers' parents and children\n",
        "* Ticket is the ticket number of the passenger\n",
        "* Fare is the passenger fare\n",
        "* Cabin is the cabin number of the passenger\n",
        "* Embarked is port of embarkation and it is a categorical feature which has 3 unique values (C, Q or S):\n",
        " * C = Cherbourg\n",
        " * Q = Queenstown\n",
        " * S = Southampton"
      ]
    },
    {
      "cell_type": "code",
      "metadata": {
        "execution": {
          "iopub.status.busy": "2021-07-23T02:17:07.729598Z",
          "iopub.execute_input": "2021-07-23T02:17:07.72992Z",
          "iopub.status.idle": "2021-07-23T02:17:07.753786Z",
          "shell.execute_reply.started": "2021-07-23T02:17:07.72987Z",
          "shell.execute_reply": "2021-07-23T02:17:07.752616Z"
        },
        "trusted": true,
        "colab": {
          "base_uri": "https://localhost:8080/"
        },
        "id": "mUlbznhvQOZh",
        "outputId": "8dc6e025-d255-475d-de2d-9b2b6d131b06"
      },
      "source": [
        "train_data.info()"
      ],
      "execution_count": 9,
      "outputs": [
        {
          "output_type": "stream",
          "text": [
            "<class 'pandas.core.frame.DataFrame'>\n",
            "RangeIndex: 891 entries, 0 to 890\n",
            "Data columns (total 12 columns):\n",
            " #   Column       Non-Null Count  Dtype  \n",
            "---  ------       --------------  -----  \n",
            " 0   PassengerId  891 non-null    int64  \n",
            " 1   Survived     891 non-null    int64  \n",
            " 2   Pclass       891 non-null    int64  \n",
            " 3   Name         891 non-null    object \n",
            " 4   Sex          891 non-null    object \n",
            " 5   Age          714 non-null    float64\n",
            " 6   SibSp        891 non-null    int64  \n",
            " 7   Parch        891 non-null    int64  \n",
            " 8   Ticket       891 non-null    object \n",
            " 9   Fare         891 non-null    float64\n",
            " 10  Cabin        204 non-null    object \n",
            " 11  Embarked     889 non-null    object \n",
            "dtypes: float64(2), int64(5), object(5)\n",
            "memory usage: 83.7+ KB\n"
          ],
          "name": "stdout"
        }
      ]
    },
    {
      "cell_type": "code",
      "metadata": {
        "execution": {
          "iopub.status.busy": "2021-07-23T02:17:07.755425Z",
          "iopub.execute_input": "2021-07-23T02:17:07.75583Z",
          "iopub.status.idle": "2021-07-23T02:17:07.776258Z",
          "shell.execute_reply.started": "2021-07-23T02:17:07.755786Z",
          "shell.execute_reply": "2021-07-23T02:17:07.775066Z"
        },
        "trusted": true,
        "colab": {
          "base_uri": "https://localhost:8080/"
        },
        "id": "Ai8W5tRGQOZi",
        "outputId": "6f5b254f-39e9-4e96-80ea-e3c067ba6b92"
      },
      "source": [
        "test_data_final.info()"
      ],
      "execution_count": 10,
      "outputs": [
        {
          "output_type": "stream",
          "text": [
            "<class 'pandas.core.frame.DataFrame'>\n",
            "RangeIndex: 418 entries, 0 to 417\n",
            "Data columns (total 11 columns):\n",
            " #   Column       Non-Null Count  Dtype  \n",
            "---  ------       --------------  -----  \n",
            " 0   PassengerId  418 non-null    int64  \n",
            " 1   Pclass       418 non-null    int64  \n",
            " 2   Name         418 non-null    object \n",
            " 3   Sex          418 non-null    object \n",
            " 4   Age          332 non-null    float64\n",
            " 5   SibSp        418 non-null    int64  \n",
            " 6   Parch        418 non-null    int64  \n",
            " 7   Ticket       418 non-null    object \n",
            " 8   Fare         417 non-null    float64\n",
            " 9   Cabin        91 non-null     object \n",
            " 10  Embarked     418 non-null    object \n",
            "dtypes: float64(2), int64(4), object(5)\n",
            "memory usage: 36.0+ KB\n"
          ],
          "name": "stdout"
        }
      ]
    },
    {
      "cell_type": "markdown",
      "metadata": {
        "id": "Ja6Q_tnBQOZj"
      },
      "source": [
        "Null values in both the training and test data, in both the Cabin and Age column. Thus, the Cabin column of this analysis was discarded, for the Age column the missing values were replaced, based on the average age of the passengers considering the Pclass and Sex."
      ]
    },
    {
      "cell_type": "markdown",
      "metadata": {
        "id": "3lFGGxI6QOZj"
      },
      "source": [
        "# Null data"
      ]
    },
    {
      "cell_type": "code",
      "metadata": {
        "execution": {
          "iopub.status.busy": "2021-07-23T02:17:07.777715Z",
          "iopub.execute_input": "2021-07-23T02:17:07.778188Z",
          "iopub.status.idle": "2021-07-23T02:17:07.813258Z",
          "shell.execute_reply.started": "2021-07-23T02:17:07.778143Z",
          "shell.execute_reply": "2021-07-23T02:17:07.812234Z"
        },
        "trusted": true,
        "colab": {
          "base_uri": "https://localhost:8080/",
          "height": 107
        },
        "id": "0YhUOYfVQOZj",
        "outputId": "f10f1673-0724-4f7a-c8a6-99af8362219f"
      },
      "source": [
        "null_train = train_data.isnull().sum()\n",
        "null_test = test_data_final.isnull().sum()\n",
        "pd.DataFrame([null_train, null_test],index=['Train_Data', 'Test_Data'])"
      ],
      "execution_count": 11,
      "outputs": [
        {
          "output_type": "execute_result",
          "data": {
            "text/html": [
              "<div>\n",
              "<style scoped>\n",
              "    .dataframe tbody tr th:only-of-type {\n",
              "        vertical-align: middle;\n",
              "    }\n",
              "\n",
              "    .dataframe tbody tr th {\n",
              "        vertical-align: top;\n",
              "    }\n",
              "\n",
              "    .dataframe thead th {\n",
              "        text-align: right;\n",
              "    }\n",
              "</style>\n",
              "<table border=\"1\" class=\"dataframe\">\n",
              "  <thead>\n",
              "    <tr style=\"text-align: right;\">\n",
              "      <th></th>\n",
              "      <th>PassengerId</th>\n",
              "      <th>Survived</th>\n",
              "      <th>Pclass</th>\n",
              "      <th>Name</th>\n",
              "      <th>Sex</th>\n",
              "      <th>Age</th>\n",
              "      <th>SibSp</th>\n",
              "      <th>Parch</th>\n",
              "      <th>Ticket</th>\n",
              "      <th>Fare</th>\n",
              "      <th>Cabin</th>\n",
              "      <th>Embarked</th>\n",
              "    </tr>\n",
              "  </thead>\n",
              "  <tbody>\n",
              "    <tr>\n",
              "      <th>Train_Data</th>\n",
              "      <td>0.0</td>\n",
              "      <td>0.0</td>\n",
              "      <td>0.0</td>\n",
              "      <td>0.0</td>\n",
              "      <td>0.0</td>\n",
              "      <td>177.0</td>\n",
              "      <td>0.0</td>\n",
              "      <td>0.0</td>\n",
              "      <td>0.0</td>\n",
              "      <td>0.0</td>\n",
              "      <td>687.0</td>\n",
              "      <td>2.0</td>\n",
              "    </tr>\n",
              "    <tr>\n",
              "      <th>Test_Data</th>\n",
              "      <td>0.0</td>\n",
              "      <td>NaN</td>\n",
              "      <td>0.0</td>\n",
              "      <td>0.0</td>\n",
              "      <td>0.0</td>\n",
              "      <td>86.0</td>\n",
              "      <td>0.0</td>\n",
              "      <td>0.0</td>\n",
              "      <td>0.0</td>\n",
              "      <td>1.0</td>\n",
              "      <td>327.0</td>\n",
              "      <td>0.0</td>\n",
              "    </tr>\n",
              "  </tbody>\n",
              "</table>\n",
              "</div>"
            ],
            "text/plain": [
              "            PassengerId  Survived  Pclass  Name  ...  Ticket  Fare  Cabin  Embarked\n",
              "Train_Data          0.0       0.0     0.0   0.0  ...     0.0   0.0  687.0       2.0\n",
              "Test_Data           0.0       NaN     0.0   0.0  ...     0.0   1.0  327.0       0.0\n",
              "\n",
              "[2 rows x 12 columns]"
            ]
          },
          "metadata": {
            "tags": []
          },
          "execution_count": 11
        }
      ]
    },
    {
      "cell_type": "markdown",
      "metadata": {
        "id": "qRW0cT1FQOZk"
      },
      "source": [
        "Null data at columns Age, Fare e Embarked. The Test_Data's Survived column, because it isn't have this column."
      ]
    },
    {
      "cell_type": "markdown",
      "metadata": {
        "id": "C8rRl6sAQOZk"
      },
      "source": [
        "## Fare"
      ]
    },
    {
      "cell_type": "code",
      "metadata": {
        "execution": {
          "iopub.status.busy": "2021-07-23T02:17:07.817792Z",
          "iopub.execute_input": "2021-07-23T02:17:07.818142Z",
          "iopub.status.idle": "2021-07-23T02:17:07.832673Z",
          "shell.execute_reply.started": "2021-07-23T02:17:07.818111Z",
          "shell.execute_reply": "2021-07-23T02:17:07.832019Z"
        },
        "trusted": true,
        "colab": {
          "base_uri": "https://localhost:8080/",
          "height": 77
        },
        "id": "LCpo61-JQOZl",
        "outputId": "f4e7e334-9cfd-4fe7-f45d-1040ead685d6"
      },
      "source": [
        "test_data_final[test_data_final['Fare'].isnull()]"
      ],
      "execution_count": 12,
      "outputs": [
        {
          "output_type": "execute_result",
          "data": {
            "text/html": [
              "<div>\n",
              "<style scoped>\n",
              "    .dataframe tbody tr th:only-of-type {\n",
              "        vertical-align: middle;\n",
              "    }\n",
              "\n",
              "    .dataframe tbody tr th {\n",
              "        vertical-align: top;\n",
              "    }\n",
              "\n",
              "    .dataframe thead th {\n",
              "        text-align: right;\n",
              "    }\n",
              "</style>\n",
              "<table border=\"1\" class=\"dataframe\">\n",
              "  <thead>\n",
              "    <tr style=\"text-align: right;\">\n",
              "      <th></th>\n",
              "      <th>PassengerId</th>\n",
              "      <th>Pclass</th>\n",
              "      <th>Name</th>\n",
              "      <th>Sex</th>\n",
              "      <th>Age</th>\n",
              "      <th>SibSp</th>\n",
              "      <th>Parch</th>\n",
              "      <th>Ticket</th>\n",
              "      <th>Fare</th>\n",
              "      <th>Cabin</th>\n",
              "      <th>Embarked</th>\n",
              "    </tr>\n",
              "  </thead>\n",
              "  <tbody>\n",
              "    <tr>\n",
              "      <th>152</th>\n",
              "      <td>1044</td>\n",
              "      <td>3</td>\n",
              "      <td>Storey, Mr. Thomas</td>\n",
              "      <td>male</td>\n",
              "      <td>60.5</td>\n",
              "      <td>0</td>\n",
              "      <td>0</td>\n",
              "      <td>3701</td>\n",
              "      <td>NaN</td>\n",
              "      <td>NaN</td>\n",
              "      <td>S</td>\n",
              "    </tr>\n",
              "  </tbody>\n",
              "</table>\n",
              "</div>"
            ],
            "text/plain": [
              "     PassengerId  Pclass                Name   Sex  ...  Ticket  Fare  Cabin Embarked\n",
              "152         1044       3  Storey, Mr. Thomas  male  ...    3701   NaN    NaN        S\n",
              "\n",
              "[1 rows x 11 columns]"
            ]
          },
          "metadata": {
            "tags": []
          },
          "execution_count": 12
        }
      ]
    },
    {
      "cell_type": "code",
      "metadata": {
        "execution": {
          "iopub.status.busy": "2021-07-23T02:17:07.83426Z",
          "iopub.execute_input": "2021-07-23T02:17:07.834559Z",
          "iopub.status.idle": "2021-07-23T02:17:07.869977Z",
          "shell.execute_reply.started": "2021-07-23T02:17:07.834531Z",
          "shell.execute_reply": "2021-07-23T02:17:07.868993Z"
        },
        "trusted": true,
        "colab": {
          "base_uri": "https://localhost:8080/"
        },
        "id": "95VUwqanQOZl",
        "outputId": "e05ec53d-2dd0-4215-fc7e-065289a9974d"
      },
      "source": [
        "# finding a fare value for Storey, Mr. Thomas.\n",
        "Fare_Mr_Thomas = train_data.query('Pclass == 3 & Embarked == \"S\" & Sex == \"male\" & Age >= 60').Fare.mean()\n",
        "Fare_Mr_Thomas"
      ],
      "execution_count": 13,
      "outputs": [
        {
          "output_type": "execute_result",
          "data": {
            "text/plain": [
              "7.00625"
            ]
          },
          "metadata": {
            "tags": []
          },
          "execution_count": 13
        }
      ]
    },
    {
      "cell_type": "code",
      "metadata": {
        "execution": {
          "iopub.status.busy": "2021-07-23T02:17:07.871168Z",
          "iopub.execute_input": "2021-07-23T02:17:07.871448Z",
          "iopub.status.idle": "2021-07-23T02:17:07.883942Z",
          "shell.execute_reply.started": "2021-07-23T02:17:07.871421Z",
          "shell.execute_reply": "2021-07-23T02:17:07.882764Z"
        },
        "trusted": true,
        "colab": {
          "base_uri": "https://localhost:8080/"
        },
        "id": "dp_fY2PAQOZl",
        "outputId": "10886b56-4c22-4ecc-8850-9bb0567b1eaf"
      },
      "source": [
        "test_data_final['Fare'].fillna(Fare_Mr_Thomas, inplace = True)\n",
        "test_data_final[test_data_final['Fare'].isnull()].sum()"
      ],
      "execution_count": 14,
      "outputs": [
        {
          "output_type": "execute_result",
          "data": {
            "text/plain": [
              "PassengerId    0.0\n",
              "Pclass         0.0\n",
              "Name           0.0\n",
              "Sex            0.0\n",
              "Age            0.0\n",
              "SibSp          0.0\n",
              "Parch          0.0\n",
              "Ticket         0.0\n",
              "Fare           0.0\n",
              "Cabin          0.0\n",
              "Embarked       0.0\n",
              "dtype: float64"
            ]
          },
          "metadata": {
            "tags": []
          },
          "execution_count": 14
        }
      ]
    },
    {
      "cell_type": "markdown",
      "metadata": {
        "id": "qKXRlsWNQOZm"
      },
      "source": [
        "## Embarked"
      ]
    },
    {
      "cell_type": "code",
      "metadata": {
        "execution": {
          "iopub.status.busy": "2021-07-23T02:17:07.885332Z",
          "iopub.execute_input": "2021-07-23T02:17:07.88574Z",
          "iopub.status.idle": "2021-07-23T02:17:07.909791Z",
          "shell.execute_reply.started": "2021-07-23T02:17:07.885697Z",
          "shell.execute_reply": "2021-07-23T02:17:07.908537Z"
        },
        "trusted": true,
        "colab": {
          "base_uri": "https://localhost:8080/",
          "height": 107
        },
        "id": "HA-tRS6pQOZm",
        "outputId": "48ee30a6-ef71-4acf-b8c1-865660c97fc9"
      },
      "source": [
        "train_data[train_data['Embarked'].isnull()] "
      ],
      "execution_count": 15,
      "outputs": [
        {
          "output_type": "execute_result",
          "data": {
            "text/html": [
              "<div>\n",
              "<style scoped>\n",
              "    .dataframe tbody tr th:only-of-type {\n",
              "        vertical-align: middle;\n",
              "    }\n",
              "\n",
              "    .dataframe tbody tr th {\n",
              "        vertical-align: top;\n",
              "    }\n",
              "\n",
              "    .dataframe thead th {\n",
              "        text-align: right;\n",
              "    }\n",
              "</style>\n",
              "<table border=\"1\" class=\"dataframe\">\n",
              "  <thead>\n",
              "    <tr style=\"text-align: right;\">\n",
              "      <th></th>\n",
              "      <th>PassengerId</th>\n",
              "      <th>Survived</th>\n",
              "      <th>Pclass</th>\n",
              "      <th>Name</th>\n",
              "      <th>Sex</th>\n",
              "      <th>Age</th>\n",
              "      <th>SibSp</th>\n",
              "      <th>Parch</th>\n",
              "      <th>Ticket</th>\n",
              "      <th>Fare</th>\n",
              "      <th>Cabin</th>\n",
              "      <th>Embarked</th>\n",
              "    </tr>\n",
              "  </thead>\n",
              "  <tbody>\n",
              "    <tr>\n",
              "      <th>61</th>\n",
              "      <td>62</td>\n",
              "      <td>1</td>\n",
              "      <td>1</td>\n",
              "      <td>Icard, Miss. Amelie</td>\n",
              "      <td>female</td>\n",
              "      <td>38.0</td>\n",
              "      <td>0</td>\n",
              "      <td>0</td>\n",
              "      <td>113572</td>\n",
              "      <td>80.0</td>\n",
              "      <td>B28</td>\n",
              "      <td>NaN</td>\n",
              "    </tr>\n",
              "    <tr>\n",
              "      <th>829</th>\n",
              "      <td>830</td>\n",
              "      <td>1</td>\n",
              "      <td>1</td>\n",
              "      <td>Stone, Mrs. George Nelson (Martha Evelyn)</td>\n",
              "      <td>female</td>\n",
              "      <td>62.0</td>\n",
              "      <td>0</td>\n",
              "      <td>0</td>\n",
              "      <td>113572</td>\n",
              "      <td>80.0</td>\n",
              "      <td>B28</td>\n",
              "      <td>NaN</td>\n",
              "    </tr>\n",
              "  </tbody>\n",
              "</table>\n",
              "</div>"
            ],
            "text/plain": [
              "     PassengerId  Survived  Pclass  ...  Fare Cabin  Embarked\n",
              "61            62         1       1  ...  80.0   B28       NaN\n",
              "829          830         1       1  ...  80.0   B28       NaN\n",
              "\n",
              "[2 rows x 12 columns]"
            ]
          },
          "metadata": {
            "tags": []
          },
          "execution_count": 15
        }
      ]
    },
    {
      "cell_type": "code",
      "metadata": {
        "execution": {
          "iopub.status.busy": "2021-07-23T02:17:07.911277Z",
          "iopub.execute_input": "2021-07-23T02:17:07.911871Z",
          "iopub.status.idle": "2021-07-23T02:17:07.929201Z",
          "shell.execute_reply.started": "2021-07-23T02:17:07.911824Z",
          "shell.execute_reply": "2021-07-23T02:17:07.92806Z"
        },
        "trusted": true,
        "colab": {
          "base_uri": "https://localhost:8080/"
        },
        "id": "VrE_xc6rQOZm",
        "outputId": "dbd15b92-24c4-46e1-d08c-d70f6c6797b6"
      },
      "source": [
        "train_data.query('Pclass == 1  & Fare > 70  & Fare < 90 ')['Embarked'].unique()"
      ],
      "execution_count": 16,
      "outputs": [
        {
          "output_type": "execute_result",
          "data": {
            "text/plain": [
              "array(['C', nan, 'S'], dtype=object)"
            ]
          },
          "metadata": {
            "tags": []
          },
          "execution_count": 16
        }
      ]
    },
    {
      "cell_type": "markdown",
      "metadata": {
        "id": "zWg4g4-vQOZn"
      },
      "source": [
        "Missing values in Embarked are filled with S with this information.\n",
        "\n",
        "> \"When I googled Stone, Mrs. George Nelson (Martha Evelyn), I found that she embarked from S (Southampton) with her maid Amelie Icard, in this page Martha Evelyn Stone: Titanic Survivor.\"\n",
        "\n",
        "> \"Mrs Stone boarded the Titanic in Southampton on 10 April 1912 and was travelling in first class with her maid Amelie Icard. She occupied cabin B-28.\"\n",
        "\n",
        "**Reference**: https://www.kaggle.com/gunesevitan/titanic-advanced-feature-engineering-tutorial/notebook\n",
        "\n",
        "\n",
        "---"
      ]
    },
    {
      "cell_type": "code",
      "metadata": {
        "execution": {
          "iopub.status.busy": "2021-07-23T02:17:07.930569Z",
          "iopub.execute_input": "2021-07-23T02:17:07.930867Z",
          "iopub.status.idle": "2021-07-23T02:17:07.942943Z",
          "shell.execute_reply.started": "2021-07-23T02:17:07.930831Z",
          "shell.execute_reply": "2021-07-23T02:17:07.942124Z"
        },
        "trusted": true,
        "colab": {
          "base_uri": "https://localhost:8080/"
        },
        "id": "7KqucQGGQOZn",
        "outputId": "e938c9f9-7de1-4e85-9c64-c3c645d5b0d9"
      },
      "source": [
        "# Substuctin the values of Miss. Amelie ans Mrs. Gerorge\n",
        "train_data['Embarked'].fillna('S', inplace = True)\n",
        "train_data[train_data['Embarked'].isnull()].sum()"
      ],
      "execution_count": 17,
      "outputs": [
        {
          "output_type": "execute_result",
          "data": {
            "text/plain": [
              "PassengerId    0.0\n",
              "Survived       0.0\n",
              "Pclass         0.0\n",
              "Name           0.0\n",
              "Sex            0.0\n",
              "Age            0.0\n",
              "SibSp          0.0\n",
              "Parch          0.0\n",
              "Ticket         0.0\n",
              "Fare           0.0\n",
              "Cabin          0.0\n",
              "Embarked       0.0\n",
              "dtype: float64"
            ]
          },
          "metadata": {
            "tags": []
          },
          "execution_count": 17
        }
      ]
    },
    {
      "cell_type": "markdown",
      "metadata": {
        "id": "uQHizm0kQOZn"
      },
      "source": [
        "## Age"
      ]
    },
    {
      "cell_type": "code",
      "metadata": {
        "execution": {
          "iopub.status.busy": "2021-07-23T02:17:07.944055Z",
          "iopub.execute_input": "2021-07-23T02:17:07.944508Z",
          "iopub.status.idle": "2021-07-23T02:17:07.963657Z",
          "shell.execute_reply.started": "2021-07-23T02:17:07.944478Z",
          "shell.execute_reply": "2021-07-23T02:17:07.962968Z"
        },
        "trusted": true,
        "colab": {
          "base_uri": "https://localhost:8080/",
          "height": 197
        },
        "id": "9_x4xPT9QOZo",
        "outputId": "26e0d125-c1b1-4604-dd40-7bb342f84bfc"
      },
      "source": [
        "age_null = train_data[train_data['Age'].isnull()]\n",
        "age_null.sample(5)"
      ],
      "execution_count": 18,
      "outputs": [
        {
          "output_type": "execute_result",
          "data": {
            "text/html": [
              "<div>\n",
              "<style scoped>\n",
              "    .dataframe tbody tr th:only-of-type {\n",
              "        vertical-align: middle;\n",
              "    }\n",
              "\n",
              "    .dataframe tbody tr th {\n",
              "        vertical-align: top;\n",
              "    }\n",
              "\n",
              "    .dataframe thead th {\n",
              "        text-align: right;\n",
              "    }\n",
              "</style>\n",
              "<table border=\"1\" class=\"dataframe\">\n",
              "  <thead>\n",
              "    <tr style=\"text-align: right;\">\n",
              "      <th></th>\n",
              "      <th>PassengerId</th>\n",
              "      <th>Survived</th>\n",
              "      <th>Pclass</th>\n",
              "      <th>Name</th>\n",
              "      <th>Sex</th>\n",
              "      <th>Age</th>\n",
              "      <th>SibSp</th>\n",
              "      <th>Parch</th>\n",
              "      <th>Ticket</th>\n",
              "      <th>Fare</th>\n",
              "      <th>Cabin</th>\n",
              "      <th>Embarked</th>\n",
              "    </tr>\n",
              "  </thead>\n",
              "  <tbody>\n",
              "    <tr>\n",
              "      <th>229</th>\n",
              "      <td>230</td>\n",
              "      <td>0</td>\n",
              "      <td>3</td>\n",
              "      <td>Lefebre, Miss. Mathilde</td>\n",
              "      <td>female</td>\n",
              "      <td>NaN</td>\n",
              "      <td>3</td>\n",
              "      <td>1</td>\n",
              "      <td>4133</td>\n",
              "      <td>25.4667</td>\n",
              "      <td>NaN</td>\n",
              "      <td>S</td>\n",
              "    </tr>\n",
              "    <tr>\n",
              "      <th>732</th>\n",
              "      <td>733</td>\n",
              "      <td>0</td>\n",
              "      <td>2</td>\n",
              "      <td>Knight, Mr. Robert J</td>\n",
              "      <td>male</td>\n",
              "      <td>NaN</td>\n",
              "      <td>0</td>\n",
              "      <td>0</td>\n",
              "      <td>239855</td>\n",
              "      <td>0.0000</td>\n",
              "      <td>NaN</td>\n",
              "      <td>S</td>\n",
              "    </tr>\n",
              "    <tr>\n",
              "      <th>760</th>\n",
              "      <td>761</td>\n",
              "      <td>0</td>\n",
              "      <td>3</td>\n",
              "      <td>Garfirth, Mr. John</td>\n",
              "      <td>male</td>\n",
              "      <td>NaN</td>\n",
              "      <td>0</td>\n",
              "      <td>0</td>\n",
              "      <td>358585</td>\n",
              "      <td>14.5000</td>\n",
              "      <td>NaN</td>\n",
              "      <td>S</td>\n",
              "    </tr>\n",
              "    <tr>\n",
              "      <th>497</th>\n",
              "      <td>498</td>\n",
              "      <td>0</td>\n",
              "      <td>3</td>\n",
              "      <td>Shellard, Mr. Frederick William</td>\n",
              "      <td>male</td>\n",
              "      <td>NaN</td>\n",
              "      <td>0</td>\n",
              "      <td>0</td>\n",
              "      <td>C.A. 6212</td>\n",
              "      <td>15.1000</td>\n",
              "      <td>NaN</td>\n",
              "      <td>S</td>\n",
              "    </tr>\n",
              "    <tr>\n",
              "      <th>596</th>\n",
              "      <td>597</td>\n",
              "      <td>1</td>\n",
              "      <td>2</td>\n",
              "      <td>Leitch, Miss. Jessie Wills</td>\n",
              "      <td>female</td>\n",
              "      <td>NaN</td>\n",
              "      <td>0</td>\n",
              "      <td>0</td>\n",
              "      <td>248727</td>\n",
              "      <td>33.0000</td>\n",
              "      <td>NaN</td>\n",
              "      <td>S</td>\n",
              "    </tr>\n",
              "  </tbody>\n",
              "</table>\n",
              "</div>"
            ],
            "text/plain": [
              "     PassengerId  Survived  Pclass  ...     Fare Cabin  Embarked\n",
              "229          230         0       3  ...  25.4667   NaN         S\n",
              "732          733         0       2  ...   0.0000   NaN         S\n",
              "760          761         0       3  ...  14.5000   NaN         S\n",
              "497          498         0       3  ...  15.1000   NaN         S\n",
              "596          597         1       2  ...  33.0000   NaN         S\n",
              "\n",
              "[5 rows x 12 columns]"
            ]
          },
          "metadata": {
            "tags": []
          },
          "execution_count": 18
        }
      ]
    },
    {
      "cell_type": "code",
      "metadata": {
        "execution": {
          "iopub.status.busy": "2021-07-23T02:17:07.964859Z",
          "iopub.execute_input": "2021-07-23T02:17:07.965185Z",
          "iopub.status.idle": "2021-07-23T02:17:07.985166Z",
          "shell.execute_reply.started": "2021-07-23T02:17:07.965157Z",
          "shell.execute_reply": "2021-07-23T02:17:07.984094Z"
        },
        "trusted": true,
        "colab": {
          "base_uri": "https://localhost:8080/"
        },
        "id": "INFSavS6QOZo",
        "outputId": "37701389-18ad-436c-9c60-3ee5bac51b10"
      },
      "source": [
        "age_null.groupby(['Pclass','Embarked', 'Sex']).Sex.count()"
      ],
      "execution_count": 19,
      "outputs": [
        {
          "output_type": "execute_result",
          "data": {
            "text/plain": [
              "Pclass  Embarked  Sex   \n",
              "1       C         female     5\n",
              "                  male       6\n",
              "        S         female     4\n",
              "                  male      15\n",
              "2       C         male       2\n",
              "        Q         female     1\n",
              "        S         female     1\n",
              "                  male       7\n",
              "3       C         female     7\n",
              "                  male      18\n",
              "        Q         female    23\n",
              "                  male      25\n",
              "        S         female    12\n",
              "                  male      51\n",
              "Name: Sex, dtype: int64"
            ]
          },
          "metadata": {
            "tags": []
          },
          "execution_count": 19
        }
      ]
    },
    {
      "cell_type": "code",
      "metadata": {
        "execution": {
          "iopub.status.busy": "2021-07-23T02:17:07.986605Z",
          "iopub.execute_input": "2021-07-23T02:17:07.987065Z",
          "iopub.status.idle": "2021-07-23T02:17:08.005478Z",
          "shell.execute_reply.started": "2021-07-23T02:17:07.987029Z",
          "shell.execute_reply": "2021-07-23T02:17:08.004634Z"
        },
        "trusted": true,
        "colab": {
          "base_uri": "https://localhost:8080/"
        },
        "id": "uWKb0vWJQOZr",
        "outputId": "31ff5642-d948-457b-b0c6-e975a3200e78"
      },
      "source": [
        "# adopted values\n",
        "colunaum = train_data.groupby(['Sex', 'Pclass']).Age.mean().round()\n",
        "colunaum"
      ],
      "execution_count": 20,
      "outputs": [
        {
          "output_type": "execute_result",
          "data": {
            "text/plain": [
              "Sex     Pclass\n",
              "female  1         35.0\n",
              "        2         29.0\n",
              "        3         22.0\n",
              "male    1         41.0\n",
              "        2         31.0\n",
              "        3         27.0\n",
              "Name: Age, dtype: float64"
            ]
          },
          "metadata": {
            "tags": []
          },
          "execution_count": 20
        }
      ]
    },
    {
      "cell_type": "markdown",
      "metadata": {
        "id": "dykiMxQMQOZs"
      },
      "source": [
        "correcting dataframe ages "
      ]
    },
    {
      "cell_type": "code",
      "metadata": {
        "execution": {
          "iopub.status.busy": "2021-07-23T02:17:08.006627Z",
          "iopub.execute_input": "2021-07-23T02:17:08.007124Z",
          "iopub.status.idle": "2021-07-23T02:17:08.011755Z",
          "shell.execute_reply.started": "2021-07-23T02:17:08.00709Z",
          "shell.execute_reply": "2021-07-23T02:17:08.01102Z"
        },
        "trusted": true,
        "id": "SWET8VevQOZs"
      },
      "source": [
        "conveter = colunaum.to_dict()"
      ],
      "execution_count": 21,
      "outputs": []
    },
    {
      "cell_type": "code",
      "metadata": {
        "execution": {
          "iopub.status.busy": "2021-07-23T02:17:08.012879Z",
          "iopub.execute_input": "2021-07-23T02:17:08.013331Z",
          "iopub.status.idle": "2021-07-23T02:17:08.139838Z",
          "shell.execute_reply.started": "2021-07-23T02:17:08.013299Z",
          "shell.execute_reply": "2021-07-23T02:17:08.13904Z"
        },
        "trusted": true,
        "colab": {
          "base_uri": "https://localhost:8080/",
          "height": 406
        },
        "id": "UXUxcQEcQOZs",
        "outputId": "927d6ed7-cd86-4960-ccfd-47a33423d0c6"
      },
      "source": [
        "# Train_Data\n",
        "coluna_final = []\n",
        "\n",
        "for index, row in train_data.iterrows():\n",
        "  Sex = row['Sex']\n",
        "  pclass = row['Pclass']\n",
        "  Age_nan = np.isnan(row['Age'])\n",
        "  Age_table = row['Age']\n",
        "  if (Age_nan == True):\n",
        "    objeto_valo = conveter[Sex, pclass]\n",
        "    coluna = [Age_nan, Sex, pclass, objeto_valo]\n",
        "    coluna_final.append(coluna)\n",
        "  else:\n",
        "    coluna = [Age_nan, Sex, pclass, Age_table]\n",
        "    coluna_final.append(coluna)\n",
        "\n",
        "\n",
        "Corret_age = pd.DataFrame(coluna_final, columns = ['Age_cond', 'Sex', 'Pclass', 'key'])\n",
        "Corret_age"
      ],
      "execution_count": 22,
      "outputs": [
        {
          "output_type": "execute_result",
          "data": {
            "text/html": [
              "<div>\n",
              "<style scoped>\n",
              "    .dataframe tbody tr th:only-of-type {\n",
              "        vertical-align: middle;\n",
              "    }\n",
              "\n",
              "    .dataframe tbody tr th {\n",
              "        vertical-align: top;\n",
              "    }\n",
              "\n",
              "    .dataframe thead th {\n",
              "        text-align: right;\n",
              "    }\n",
              "</style>\n",
              "<table border=\"1\" class=\"dataframe\">\n",
              "  <thead>\n",
              "    <tr style=\"text-align: right;\">\n",
              "      <th></th>\n",
              "      <th>Age_cond</th>\n",
              "      <th>Sex</th>\n",
              "      <th>Pclass</th>\n",
              "      <th>key</th>\n",
              "    </tr>\n",
              "  </thead>\n",
              "  <tbody>\n",
              "    <tr>\n",
              "      <th>0</th>\n",
              "      <td>False</td>\n",
              "      <td>male</td>\n",
              "      <td>3</td>\n",
              "      <td>22.0</td>\n",
              "    </tr>\n",
              "    <tr>\n",
              "      <th>1</th>\n",
              "      <td>False</td>\n",
              "      <td>female</td>\n",
              "      <td>1</td>\n",
              "      <td>38.0</td>\n",
              "    </tr>\n",
              "    <tr>\n",
              "      <th>2</th>\n",
              "      <td>False</td>\n",
              "      <td>female</td>\n",
              "      <td>3</td>\n",
              "      <td>26.0</td>\n",
              "    </tr>\n",
              "    <tr>\n",
              "      <th>3</th>\n",
              "      <td>False</td>\n",
              "      <td>female</td>\n",
              "      <td>1</td>\n",
              "      <td>35.0</td>\n",
              "    </tr>\n",
              "    <tr>\n",
              "      <th>4</th>\n",
              "      <td>False</td>\n",
              "      <td>male</td>\n",
              "      <td>3</td>\n",
              "      <td>35.0</td>\n",
              "    </tr>\n",
              "    <tr>\n",
              "      <th>...</th>\n",
              "      <td>...</td>\n",
              "      <td>...</td>\n",
              "      <td>...</td>\n",
              "      <td>...</td>\n",
              "    </tr>\n",
              "    <tr>\n",
              "      <th>886</th>\n",
              "      <td>False</td>\n",
              "      <td>male</td>\n",
              "      <td>2</td>\n",
              "      <td>27.0</td>\n",
              "    </tr>\n",
              "    <tr>\n",
              "      <th>887</th>\n",
              "      <td>False</td>\n",
              "      <td>female</td>\n",
              "      <td>1</td>\n",
              "      <td>19.0</td>\n",
              "    </tr>\n",
              "    <tr>\n",
              "      <th>888</th>\n",
              "      <td>True</td>\n",
              "      <td>female</td>\n",
              "      <td>3</td>\n",
              "      <td>22.0</td>\n",
              "    </tr>\n",
              "    <tr>\n",
              "      <th>889</th>\n",
              "      <td>False</td>\n",
              "      <td>male</td>\n",
              "      <td>1</td>\n",
              "      <td>26.0</td>\n",
              "    </tr>\n",
              "    <tr>\n",
              "      <th>890</th>\n",
              "      <td>False</td>\n",
              "      <td>male</td>\n",
              "      <td>3</td>\n",
              "      <td>32.0</td>\n",
              "    </tr>\n",
              "  </tbody>\n",
              "</table>\n",
              "<p>891 rows × 4 columns</p>\n",
              "</div>"
            ],
            "text/plain": [
              "     Age_cond     Sex  Pclass   key\n",
              "0       False    male       3  22.0\n",
              "1       False  female       1  38.0\n",
              "2       False  female       3  26.0\n",
              "3       False  female       1  35.0\n",
              "4       False    male       3  35.0\n",
              "..        ...     ...     ...   ...\n",
              "886     False    male       2  27.0\n",
              "887     False  female       1  19.0\n",
              "888      True  female       3  22.0\n",
              "889     False    male       1  26.0\n",
              "890     False    male       3  32.0\n",
              "\n",
              "[891 rows x 4 columns]"
            ]
          },
          "metadata": {
            "tags": []
          },
          "execution_count": 22
        }
      ]
    },
    {
      "cell_type": "code",
      "metadata": {
        "execution": {
          "iopub.status.busy": "2021-07-23T02:17:08.141048Z",
          "iopub.execute_input": "2021-07-23T02:17:08.141502Z",
          "iopub.status.idle": "2021-07-23T02:17:08.145656Z",
          "shell.execute_reply.started": "2021-07-23T02:17:08.141461Z",
          "shell.execute_reply": "2021-07-23T02:17:08.144452Z"
        },
        "trusted": true,
        "id": "i8Hui5aVQOZt"
      },
      "source": [
        "# replacing the values\n",
        "train_data['Age'] = Corret_age.key"
      ],
      "execution_count": 23,
      "outputs": []
    },
    {
      "cell_type": "code",
      "metadata": {
        "execution": {
          "iopub.status.busy": "2021-07-23T02:17:08.147044Z",
          "iopub.execute_input": "2021-07-23T02:17:08.147363Z",
          "iopub.status.idle": "2021-07-23T02:17:08.22124Z",
          "shell.execute_reply.started": "2021-07-23T02:17:08.147334Z",
          "shell.execute_reply": "2021-07-23T02:17:08.220181Z"
        },
        "trusted": true,
        "colab": {
          "base_uri": "https://localhost:8080/",
          "height": 406
        },
        "id": "DFPgbVEIQOZt",
        "outputId": "ca2aad91-4026-473f-cf6b-c72afdb66a2a"
      },
      "source": [
        "# Test_data\n",
        "coluna_final = []\n",
        "\n",
        "for index, row in test_data_final.iterrows():\n",
        "  Sex = row['Sex']\n",
        "  pclass = row['Pclass']\n",
        "  Age_nan = np.isnan(row['Age'])\n",
        "  Age_table = row['Age']\n",
        "  if (Age_nan == True):\n",
        "    objeto_valo = conveter[Sex, pclass]\n",
        "    coluna = [Age_nan, Sex, pclass, objeto_valo]\n",
        "    coluna_final.append(coluna)\n",
        "  else:\n",
        "    coluna = [Age_nan, Sex, pclass, Age_table]\n",
        "    coluna_final.append(coluna)\n",
        "\n",
        "\n",
        "Corret_age = pd.DataFrame(coluna_final, columns = ['Age_cond', 'Sex', 'Pclass', 'key'])\n",
        "Corret_age"
      ],
      "execution_count": 24,
      "outputs": [
        {
          "output_type": "execute_result",
          "data": {
            "text/html": [
              "<div>\n",
              "<style scoped>\n",
              "    .dataframe tbody tr th:only-of-type {\n",
              "        vertical-align: middle;\n",
              "    }\n",
              "\n",
              "    .dataframe tbody tr th {\n",
              "        vertical-align: top;\n",
              "    }\n",
              "\n",
              "    .dataframe thead th {\n",
              "        text-align: right;\n",
              "    }\n",
              "</style>\n",
              "<table border=\"1\" class=\"dataframe\">\n",
              "  <thead>\n",
              "    <tr style=\"text-align: right;\">\n",
              "      <th></th>\n",
              "      <th>Age_cond</th>\n",
              "      <th>Sex</th>\n",
              "      <th>Pclass</th>\n",
              "      <th>key</th>\n",
              "    </tr>\n",
              "  </thead>\n",
              "  <tbody>\n",
              "    <tr>\n",
              "      <th>0</th>\n",
              "      <td>False</td>\n",
              "      <td>male</td>\n",
              "      <td>3</td>\n",
              "      <td>34.5</td>\n",
              "    </tr>\n",
              "    <tr>\n",
              "      <th>1</th>\n",
              "      <td>False</td>\n",
              "      <td>female</td>\n",
              "      <td>3</td>\n",
              "      <td>47.0</td>\n",
              "    </tr>\n",
              "    <tr>\n",
              "      <th>2</th>\n",
              "      <td>False</td>\n",
              "      <td>male</td>\n",
              "      <td>2</td>\n",
              "      <td>62.0</td>\n",
              "    </tr>\n",
              "    <tr>\n",
              "      <th>3</th>\n",
              "      <td>False</td>\n",
              "      <td>male</td>\n",
              "      <td>3</td>\n",
              "      <td>27.0</td>\n",
              "    </tr>\n",
              "    <tr>\n",
              "      <th>4</th>\n",
              "      <td>False</td>\n",
              "      <td>female</td>\n",
              "      <td>3</td>\n",
              "      <td>22.0</td>\n",
              "    </tr>\n",
              "    <tr>\n",
              "      <th>...</th>\n",
              "      <td>...</td>\n",
              "      <td>...</td>\n",
              "      <td>...</td>\n",
              "      <td>...</td>\n",
              "    </tr>\n",
              "    <tr>\n",
              "      <th>413</th>\n",
              "      <td>True</td>\n",
              "      <td>male</td>\n",
              "      <td>3</td>\n",
              "      <td>27.0</td>\n",
              "    </tr>\n",
              "    <tr>\n",
              "      <th>414</th>\n",
              "      <td>False</td>\n",
              "      <td>female</td>\n",
              "      <td>1</td>\n",
              "      <td>39.0</td>\n",
              "    </tr>\n",
              "    <tr>\n",
              "      <th>415</th>\n",
              "      <td>False</td>\n",
              "      <td>male</td>\n",
              "      <td>3</td>\n",
              "      <td>38.5</td>\n",
              "    </tr>\n",
              "    <tr>\n",
              "      <th>416</th>\n",
              "      <td>True</td>\n",
              "      <td>male</td>\n",
              "      <td>3</td>\n",
              "      <td>27.0</td>\n",
              "    </tr>\n",
              "    <tr>\n",
              "      <th>417</th>\n",
              "      <td>True</td>\n",
              "      <td>male</td>\n",
              "      <td>3</td>\n",
              "      <td>27.0</td>\n",
              "    </tr>\n",
              "  </tbody>\n",
              "</table>\n",
              "<p>418 rows × 4 columns</p>\n",
              "</div>"
            ],
            "text/plain": [
              "     Age_cond     Sex  Pclass   key\n",
              "0       False    male       3  34.5\n",
              "1       False  female       3  47.0\n",
              "2       False    male       2  62.0\n",
              "3       False    male       3  27.0\n",
              "4       False  female       3  22.0\n",
              "..        ...     ...     ...   ...\n",
              "413      True    male       3  27.0\n",
              "414     False  female       1  39.0\n",
              "415     False    male       3  38.5\n",
              "416      True    male       3  27.0\n",
              "417      True    male       3  27.0\n",
              "\n",
              "[418 rows x 4 columns]"
            ]
          },
          "metadata": {
            "tags": []
          },
          "execution_count": 24
        }
      ]
    },
    {
      "cell_type": "code",
      "metadata": {
        "execution": {
          "iopub.status.busy": "2021-07-23T02:17:08.222464Z",
          "iopub.execute_input": "2021-07-23T02:17:08.222748Z",
          "iopub.status.idle": "2021-07-23T02:17:08.226666Z",
          "shell.execute_reply.started": "2021-07-23T02:17:08.222721Z",
          "shell.execute_reply": "2021-07-23T02:17:08.225956Z"
        },
        "trusted": true,
        "id": "PeOwmq_zQOZt"
      },
      "source": [
        "# replacing the values\n",
        "test_data_final['Age'] = Corret_age.key"
      ],
      "execution_count": 25,
      "outputs": []
    },
    {
      "cell_type": "markdown",
      "metadata": {
        "id": "DGkMgGK-QOZu"
      },
      "source": [
        "# Extracting Features"
      ]
    },
    {
      "cell_type": "markdown",
      "metadata": {
        "id": "5B1WAEmIQOZu"
      },
      "source": [
        "The treatment pronouns contained in the data, in the Name column, provide important information. In this way the feature class was added to the data."
      ]
    },
    {
      "cell_type": "code",
      "metadata": {
        "execution": {
          "iopub.status.busy": "2021-07-23T02:17:08.228256Z",
          "iopub.execute_input": "2021-07-23T02:17:08.228582Z",
          "iopub.status.idle": "2021-07-23T02:17:08.252483Z",
          "shell.execute_reply.started": "2021-07-23T02:17:08.22855Z",
          "shell.execute_reply": "2021-07-23T02:17:08.251144Z"
        },
        "trusted": true,
        "id": "02Nnf9DeQOZu"
      },
      "source": [
        "pronoun_train = train_data['Name']\n",
        "pronoun_train = pronoun_train.str.split('(', expand=True)[0]\n",
        "pronoun_test = test_data_final['Name'].str.split('(', expand=True)[0]"
      ],
      "execution_count": 26,
      "outputs": []
    },
    {
      "cell_type": "code",
      "metadata": {
        "execution": {
          "iopub.status.busy": "2021-07-23T02:17:08.256748Z",
          "iopub.execute_input": "2021-07-23T02:17:08.257131Z",
          "iopub.status.idle": "2021-07-23T02:17:08.292363Z",
          "shell.execute_reply.started": "2021-07-23T02:17:08.257097Z",
          "shell.execute_reply": "2021-07-23T02:17:08.291364Z"
        },
        "trusted": true,
        "colab": {
          "base_uri": "https://localhost:8080/"
        },
        "id": "7eWscfv-QOZu",
        "outputId": "edaed095-93e7-47fc-ee22-b45563b80588"
      },
      "source": [
        "lista_de_nomes = ['Mr','Mrs','Miss','Ms','Sir','Lady','Dr','Mme','Mlle','Countess','Col','Major','Capt','Don','Rev','Master','Jonkheer']\n",
        "teste = pronoun_train.str[0:].str.extractall(r\"(?P<pronome>\\w+)\")\n",
        "teste = teste.rename(columns={'pronome': 'nomes'})\n",
        "teste = teste.value_counts()\n",
        "teste.loc[lista_de_nomes]"
      ],
      "execution_count": 27,
      "outputs": [
        {
          "output_type": "execute_result",
          "data": {
            "text/plain": [
              "nomes   \n",
              "Mr          517\n",
              "Mrs         125\n",
              "Miss        182\n",
              "Ms            1\n",
              "Sir           1\n",
              "Lady          1\n",
              "Dr            7\n",
              "Mme           1\n",
              "Mlle          2\n",
              "Countess      1\n",
              "Col           2\n",
              "Major         2\n",
              "Capt          1\n",
              "Don           1\n",
              "Rev           6\n",
              "Master       40\n",
              "Jonkheer      1\n",
              "dtype: int64"
            ]
          },
          "metadata": {
            "tags": []
          },
          "execution_count": 27
        }
      ]
    },
    {
      "cell_type": "code",
      "metadata": {
        "execution": {
          "iopub.status.busy": "2021-07-23T02:17:08.294659Z",
          "iopub.execute_input": "2021-07-23T02:17:08.294998Z",
          "iopub.status.idle": "2021-07-23T02:17:08.304488Z",
          "shell.execute_reply.started": "2021-07-23T02:17:08.294968Z",
          "shell.execute_reply": "2021-07-23T02:17:08.302828Z"
        },
        "trusted": true,
        "colab": {
          "base_uri": "https://localhost:8080/"
        },
        "id": "zOTQnQzwQOZv",
        "outputId": "14344539-712f-460b-fe46-10be4ed9ffd6"
      },
      "source": [
        "contar = teste.loc[['Mr','Mrs','Miss','Ms','Sir','Lady','Dr','Mme','Mlle','Countess','Col','Major','Capt','Don','Rev','Master','Jonkheer']].sum()\n",
        "contar"
      ],
      "execution_count": 28,
      "outputs": [
        {
          "output_type": "execute_result",
          "data": {
            "text/plain": [
              "891"
            ]
          },
          "metadata": {
            "tags": []
          },
          "execution_count": 28
        }
      ]
    },
    {
      "cell_type": "markdown",
      "metadata": {
        "id": "kkOX5exXQOZv"
      },
      "source": [
        "Based on the quantitative above, it was considered the classification into three categories:\n",
        "* Mr - all male pronouns\n",
        "* Miss - All feminine pronouns except Countess\n",
        "* Dr.\\Sir.\\Capt.\\Rev. - All other treatment pronouns found"
      ]
    },
    {
      "cell_type": "code",
      "metadata": {
        "execution": {
          "iopub.status.busy": "2021-07-23T02:17:08.306365Z",
          "iopub.execute_input": "2021-07-23T02:17:08.3067Z",
          "iopub.status.idle": "2021-07-23T02:17:08.349719Z",
          "shell.execute_reply.started": "2021-07-23T02:17:08.306672Z",
          "shell.execute_reply": "2021-07-23T02:17:08.348626Z"
        },
        "trusted": true,
        "colab": {
          "base_uri": "https://localhost:8080/",
          "height": 347
        },
        "id": "I9v7KPE1QOZv",
        "outputId": "d4f1e3d0-8d21-45ab-fe86-419906788082"
      },
      "source": [
        "female_pronouns = ['Mrs','Miss','Ms','Lady','Mme','Mlle']\n",
        "female_pronouns_test_data = ['Mrs','Miss','Ms','Lady','Mme','Mlle','Dona']\n",
        "pronoun_other_categories = ['Sir','Dr','Col','Major','Capt','Don','Rev','Jonkheer', 'Countess', 'Master', 'the Countess']\n",
        "# train_data['Name'].str.replace(('Mrs','Miss','Ms','Lady','Mme','Mlle','Countess'), 'Miss')\n",
        "\n",
        "train_data['classes'] = pronoun_train.str[0:].str.split(', ', expand=True)[1].str.split('.', expand=True)[0]\n",
        "test_data_final['classes'] = pronoun_test.str[0:].str.split(', ', expand=True)[1].str.split('.', expand=True)[0]\n",
        "train_data.sample(10)"
      ],
      "execution_count": 29,
      "outputs": [
        {
          "output_type": "execute_result",
          "data": {
            "text/html": [
              "<div>\n",
              "<style scoped>\n",
              "    .dataframe tbody tr th:only-of-type {\n",
              "        vertical-align: middle;\n",
              "    }\n",
              "\n",
              "    .dataframe tbody tr th {\n",
              "        vertical-align: top;\n",
              "    }\n",
              "\n",
              "    .dataframe thead th {\n",
              "        text-align: right;\n",
              "    }\n",
              "</style>\n",
              "<table border=\"1\" class=\"dataframe\">\n",
              "  <thead>\n",
              "    <tr style=\"text-align: right;\">\n",
              "      <th></th>\n",
              "      <th>PassengerId</th>\n",
              "      <th>Survived</th>\n",
              "      <th>Pclass</th>\n",
              "      <th>Name</th>\n",
              "      <th>Sex</th>\n",
              "      <th>Age</th>\n",
              "      <th>SibSp</th>\n",
              "      <th>Parch</th>\n",
              "      <th>Ticket</th>\n",
              "      <th>Fare</th>\n",
              "      <th>Cabin</th>\n",
              "      <th>Embarked</th>\n",
              "      <th>classes</th>\n",
              "    </tr>\n",
              "  </thead>\n",
              "  <tbody>\n",
              "    <tr>\n",
              "      <th>481</th>\n",
              "      <td>482</td>\n",
              "      <td>0</td>\n",
              "      <td>2</td>\n",
              "      <td>Frost, Mr. Anthony Wood \"Archie\"</td>\n",
              "      <td>male</td>\n",
              "      <td>31.0</td>\n",
              "      <td>0</td>\n",
              "      <td>0</td>\n",
              "      <td>239854</td>\n",
              "      <td>0.0000</td>\n",
              "      <td>NaN</td>\n",
              "      <td>S</td>\n",
              "      <td>Mr</td>\n",
              "    </tr>\n",
              "    <tr>\n",
              "      <th>405</th>\n",
              "      <td>406</td>\n",
              "      <td>0</td>\n",
              "      <td>2</td>\n",
              "      <td>Gale, Mr. Shadrach</td>\n",
              "      <td>male</td>\n",
              "      <td>34.0</td>\n",
              "      <td>1</td>\n",
              "      <td>0</td>\n",
              "      <td>28664</td>\n",
              "      <td>21.0000</td>\n",
              "      <td>NaN</td>\n",
              "      <td>S</td>\n",
              "      <td>Mr</td>\n",
              "    </tr>\n",
              "    <tr>\n",
              "      <th>142</th>\n",
              "      <td>143</td>\n",
              "      <td>1</td>\n",
              "      <td>3</td>\n",
              "      <td>Hakkarainen, Mrs. Pekka Pietari (Elin Matilda ...</td>\n",
              "      <td>female</td>\n",
              "      <td>24.0</td>\n",
              "      <td>1</td>\n",
              "      <td>0</td>\n",
              "      <td>STON/O2. 3101279</td>\n",
              "      <td>15.8500</td>\n",
              "      <td>NaN</td>\n",
              "      <td>S</td>\n",
              "      <td>Mrs</td>\n",
              "    </tr>\n",
              "    <tr>\n",
              "      <th>51</th>\n",
              "      <td>52</td>\n",
              "      <td>0</td>\n",
              "      <td>3</td>\n",
              "      <td>Nosworthy, Mr. Richard Cater</td>\n",
              "      <td>male</td>\n",
              "      <td>21.0</td>\n",
              "      <td>0</td>\n",
              "      <td>0</td>\n",
              "      <td>A/4. 39886</td>\n",
              "      <td>7.8000</td>\n",
              "      <td>NaN</td>\n",
              "      <td>S</td>\n",
              "      <td>Mr</td>\n",
              "    </tr>\n",
              "    <tr>\n",
              "      <th>310</th>\n",
              "      <td>311</td>\n",
              "      <td>1</td>\n",
              "      <td>1</td>\n",
              "      <td>Hays, Miss. Margaret Bechstein</td>\n",
              "      <td>female</td>\n",
              "      <td>24.0</td>\n",
              "      <td>0</td>\n",
              "      <td>0</td>\n",
              "      <td>11767</td>\n",
              "      <td>83.1583</td>\n",
              "      <td>C54</td>\n",
              "      <td>C</td>\n",
              "      <td>Miss</td>\n",
              "    </tr>\n",
              "    <tr>\n",
              "      <th>688</th>\n",
              "      <td>689</td>\n",
              "      <td>0</td>\n",
              "      <td>3</td>\n",
              "      <td>Fischer, Mr. Eberhard Thelander</td>\n",
              "      <td>male</td>\n",
              "      <td>18.0</td>\n",
              "      <td>0</td>\n",
              "      <td>0</td>\n",
              "      <td>350036</td>\n",
              "      <td>7.7958</td>\n",
              "      <td>NaN</td>\n",
              "      <td>S</td>\n",
              "      <td>Mr</td>\n",
              "    </tr>\n",
              "    <tr>\n",
              "      <th>21</th>\n",
              "      <td>22</td>\n",
              "      <td>1</td>\n",
              "      <td>2</td>\n",
              "      <td>Beesley, Mr. Lawrence</td>\n",
              "      <td>male</td>\n",
              "      <td>34.0</td>\n",
              "      <td>0</td>\n",
              "      <td>0</td>\n",
              "      <td>248698</td>\n",
              "      <td>13.0000</td>\n",
              "      <td>D56</td>\n",
              "      <td>S</td>\n",
              "      <td>Mr</td>\n",
              "    </tr>\n",
              "    <tr>\n",
              "      <th>450</th>\n",
              "      <td>451</td>\n",
              "      <td>0</td>\n",
              "      <td>2</td>\n",
              "      <td>West, Mr. Edwy Arthur</td>\n",
              "      <td>male</td>\n",
              "      <td>36.0</td>\n",
              "      <td>1</td>\n",
              "      <td>2</td>\n",
              "      <td>C.A. 34651</td>\n",
              "      <td>27.7500</td>\n",
              "      <td>NaN</td>\n",
              "      <td>S</td>\n",
              "      <td>Mr</td>\n",
              "    </tr>\n",
              "    <tr>\n",
              "      <th>873</th>\n",
              "      <td>874</td>\n",
              "      <td>0</td>\n",
              "      <td>3</td>\n",
              "      <td>Vander Cruyssen, Mr. Victor</td>\n",
              "      <td>male</td>\n",
              "      <td>47.0</td>\n",
              "      <td>0</td>\n",
              "      <td>0</td>\n",
              "      <td>345765</td>\n",
              "      <td>9.0000</td>\n",
              "      <td>NaN</td>\n",
              "      <td>S</td>\n",
              "      <td>Mr</td>\n",
              "    </tr>\n",
              "    <tr>\n",
              "      <th>273</th>\n",
              "      <td>274</td>\n",
              "      <td>0</td>\n",
              "      <td>1</td>\n",
              "      <td>Natsch, Mr. Charles H</td>\n",
              "      <td>male</td>\n",
              "      <td>37.0</td>\n",
              "      <td>0</td>\n",
              "      <td>1</td>\n",
              "      <td>PC 17596</td>\n",
              "      <td>29.7000</td>\n",
              "      <td>C118</td>\n",
              "      <td>C</td>\n",
              "      <td>Mr</td>\n",
              "    </tr>\n",
              "  </tbody>\n",
              "</table>\n",
              "</div>"
            ],
            "text/plain": [
              "     PassengerId  Survived  Pclass  ... Cabin Embarked  classes\n",
              "481          482         0       2  ...   NaN        S       Mr\n",
              "405          406         0       2  ...   NaN        S       Mr\n",
              "142          143         1       3  ...   NaN        S      Mrs\n",
              "51            52         0       3  ...   NaN        S       Mr\n",
              "310          311         1       1  ...   C54        C     Miss\n",
              "688          689         0       3  ...   NaN        S       Mr\n",
              "21            22         1       2  ...   D56        S       Mr\n",
              "450          451         0       2  ...   NaN        S       Mr\n",
              "873          874         0       3  ...   NaN        S       Mr\n",
              "273          274         0       1  ...  C118        C       Mr\n",
              "\n",
              "[10 rows x 13 columns]"
            ]
          },
          "metadata": {
            "tags": []
          },
          "execution_count": 29
        }
      ]
    },
    {
      "cell_type": "code",
      "metadata": {
        "execution": {
          "iopub.status.busy": "2021-07-23T02:17:08.351033Z",
          "iopub.execute_input": "2021-07-23T02:17:08.351341Z",
          "iopub.status.idle": "2021-07-23T02:17:08.363428Z",
          "shell.execute_reply.started": "2021-07-23T02:17:08.351312Z",
          "shell.execute_reply": "2021-07-23T02:17:08.362266Z"
        },
        "trusted": true,
        "id": "XKzwqs0LQOZw"
      },
      "source": [
        "train_data['classes'].replace(female_pronouns, 'Miss',inplace=True)\n",
        "train_data['classes'].replace(pronoun_other_categories, 'Dr.\\Sir.\\Capt.\\Rev.',inplace=True)\n",
        "test_data_final['classes'].replace(female_pronouns_test_data, 'Miss',inplace=True)\n",
        "test_data_final['classes'].replace(pronoun_other_categories, 'Dr.\\Sir.\\Capt.\\Rev.',inplace=True)"
      ],
      "execution_count": 30,
      "outputs": []
    },
    {
      "cell_type": "code",
      "metadata": {
        "execution": {
          "iopub.status.busy": "2021-07-23T02:17:08.365137Z",
          "iopub.execute_input": "2021-07-23T02:17:08.365598Z",
          "iopub.status.idle": "2021-07-23T02:17:08.377541Z",
          "shell.execute_reply.started": "2021-07-23T02:17:08.365552Z",
          "shell.execute_reply": "2021-07-23T02:17:08.37641Z"
        },
        "trusted": true,
        "colab": {
          "base_uri": "https://localhost:8080/"
        },
        "id": "CPKCtTIpQOZw",
        "outputId": "60883f1d-2db8-47c2-fd52-d2a91ad1ca4b"
      },
      "source": [
        "train_data.classes.value_counts()"
      ],
      "execution_count": 31,
      "outputs": [
        {
          "output_type": "execute_result",
          "data": {
            "text/plain": [
              "Mr                     517\n",
              "Miss                   312\n",
              "Dr.\\Sir.\\Capt.\\Rev.     62\n",
              "Name: classes, dtype: int64"
            ]
          },
          "metadata": {
            "tags": []
          },
          "execution_count": 31
        }
      ]
    },
    {
      "cell_type": "code",
      "metadata": {
        "execution": {
          "iopub.status.busy": "2021-07-23T02:17:08.379037Z",
          "iopub.execute_input": "2021-07-23T02:17:08.379505Z",
          "iopub.status.idle": "2021-07-23T02:17:08.403763Z",
          "shell.execute_reply.started": "2021-07-23T02:17:08.379473Z",
          "shell.execute_reply": "2021-07-23T02:17:08.403024Z"
        },
        "trusted": true,
        "colab": {
          "base_uri": "https://localhost:8080/",
          "height": 347
        },
        "id": "UcLd7JP9QOZx",
        "outputId": "cf925b88-f884-4b66-8a9e-55715426ba44"
      },
      "source": [
        "test_data_final.sample(10)"
      ],
      "execution_count": 32,
      "outputs": [
        {
          "output_type": "execute_result",
          "data": {
            "text/html": [
              "<div>\n",
              "<style scoped>\n",
              "    .dataframe tbody tr th:only-of-type {\n",
              "        vertical-align: middle;\n",
              "    }\n",
              "\n",
              "    .dataframe tbody tr th {\n",
              "        vertical-align: top;\n",
              "    }\n",
              "\n",
              "    .dataframe thead th {\n",
              "        text-align: right;\n",
              "    }\n",
              "</style>\n",
              "<table border=\"1\" class=\"dataframe\">\n",
              "  <thead>\n",
              "    <tr style=\"text-align: right;\">\n",
              "      <th></th>\n",
              "      <th>PassengerId</th>\n",
              "      <th>Pclass</th>\n",
              "      <th>Name</th>\n",
              "      <th>Sex</th>\n",
              "      <th>Age</th>\n",
              "      <th>SibSp</th>\n",
              "      <th>Parch</th>\n",
              "      <th>Ticket</th>\n",
              "      <th>Fare</th>\n",
              "      <th>Cabin</th>\n",
              "      <th>Embarked</th>\n",
              "      <th>classes</th>\n",
              "    </tr>\n",
              "  </thead>\n",
              "  <tbody>\n",
              "    <tr>\n",
              "      <th>130</th>\n",
              "      <td>1022</td>\n",
              "      <td>3</td>\n",
              "      <td>Spinner, Mr. Henry John</td>\n",
              "      <td>male</td>\n",
              "      <td>32.0</td>\n",
              "      <td>0</td>\n",
              "      <td>0</td>\n",
              "      <td>STON/OQ. 369943</td>\n",
              "      <td>8.0500</td>\n",
              "      <td>NaN</td>\n",
              "      <td>S</td>\n",
              "      <td>Mr</td>\n",
              "    </tr>\n",
              "    <tr>\n",
              "      <th>125</th>\n",
              "      <td>1017</td>\n",
              "      <td>3</td>\n",
              "      <td>Cribb, Miss. Laura Alice</td>\n",
              "      <td>female</td>\n",
              "      <td>17.0</td>\n",
              "      <td>0</td>\n",
              "      <td>1</td>\n",
              "      <td>371362</td>\n",
              "      <td>16.1000</td>\n",
              "      <td>NaN</td>\n",
              "      <td>S</td>\n",
              "      <td>Miss</td>\n",
              "    </tr>\n",
              "    <tr>\n",
              "      <th>224</th>\n",
              "      <td>1116</td>\n",
              "      <td>1</td>\n",
              "      <td>Candee, Mrs. Edward (Helen Churchill Hungerford)</td>\n",
              "      <td>female</td>\n",
              "      <td>53.0</td>\n",
              "      <td>0</td>\n",
              "      <td>0</td>\n",
              "      <td>PC 17606</td>\n",
              "      <td>27.4458</td>\n",
              "      <td>NaN</td>\n",
              "      <td>C</td>\n",
              "      <td>Miss</td>\n",
              "    </tr>\n",
              "    <tr>\n",
              "      <th>314</th>\n",
              "      <td>1206</td>\n",
              "      <td>1</td>\n",
              "      <td>White, Mrs. John Stuart (Ella Holmes)</td>\n",
              "      <td>female</td>\n",
              "      <td>55.0</td>\n",
              "      <td>0</td>\n",
              "      <td>0</td>\n",
              "      <td>PC 17760</td>\n",
              "      <td>135.6333</td>\n",
              "      <td>C32</td>\n",
              "      <td>C</td>\n",
              "      <td>Miss</td>\n",
              "    </tr>\n",
              "    <tr>\n",
              "      <th>318</th>\n",
              "      <td>1210</td>\n",
              "      <td>3</td>\n",
              "      <td>Jonsson, Mr. Nils Hilding</td>\n",
              "      <td>male</td>\n",
              "      <td>27.0</td>\n",
              "      <td>0</td>\n",
              "      <td>0</td>\n",
              "      <td>350408</td>\n",
              "      <td>7.8542</td>\n",
              "      <td>NaN</td>\n",
              "      <td>S</td>\n",
              "      <td>Mr</td>\n",
              "    </tr>\n",
              "    <tr>\n",
              "      <th>375</th>\n",
              "      <td>1267</td>\n",
              "      <td>1</td>\n",
              "      <td>Bowen, Miss. Grace Scott</td>\n",
              "      <td>female</td>\n",
              "      <td>45.0</td>\n",
              "      <td>0</td>\n",
              "      <td>0</td>\n",
              "      <td>PC 17608</td>\n",
              "      <td>262.3750</td>\n",
              "      <td>NaN</td>\n",
              "      <td>C</td>\n",
              "      <td>Miss</td>\n",
              "    </tr>\n",
              "    <tr>\n",
              "      <th>175</th>\n",
              "      <td>1067</td>\n",
              "      <td>2</td>\n",
              "      <td>Brown, Miss. Edith Eileen</td>\n",
              "      <td>female</td>\n",
              "      <td>15.0</td>\n",
              "      <td>0</td>\n",
              "      <td>2</td>\n",
              "      <td>29750</td>\n",
              "      <td>39.0000</td>\n",
              "      <td>NaN</td>\n",
              "      <td>S</td>\n",
              "      <td>Miss</td>\n",
              "    </tr>\n",
              "    <tr>\n",
              "      <th>187</th>\n",
              "      <td>1079</td>\n",
              "      <td>3</td>\n",
              "      <td>Davies, Mr. Joseph</td>\n",
              "      <td>male</td>\n",
              "      <td>17.0</td>\n",
              "      <td>2</td>\n",
              "      <td>0</td>\n",
              "      <td>A/4 48873</td>\n",
              "      <td>8.0500</td>\n",
              "      <td>NaN</td>\n",
              "      <td>S</td>\n",
              "      <td>Mr</td>\n",
              "    </tr>\n",
              "    <tr>\n",
              "      <th>305</th>\n",
              "      <td>1197</td>\n",
              "      <td>1</td>\n",
              "      <td>Crosby, Mrs. Edward Gifford (Catherine Elizabe...</td>\n",
              "      <td>female</td>\n",
              "      <td>64.0</td>\n",
              "      <td>1</td>\n",
              "      <td>1</td>\n",
              "      <td>112901</td>\n",
              "      <td>26.5500</td>\n",
              "      <td>B26</td>\n",
              "      <td>S</td>\n",
              "      <td>Miss</td>\n",
              "    </tr>\n",
              "    <tr>\n",
              "      <th>349</th>\n",
              "      <td>1241</td>\n",
              "      <td>2</td>\n",
              "      <td>Walcroft, Miss. Nellie</td>\n",
              "      <td>female</td>\n",
              "      <td>31.0</td>\n",
              "      <td>0</td>\n",
              "      <td>0</td>\n",
              "      <td>F.C.C. 13528</td>\n",
              "      <td>21.0000</td>\n",
              "      <td>NaN</td>\n",
              "      <td>S</td>\n",
              "      <td>Miss</td>\n",
              "    </tr>\n",
              "  </tbody>\n",
              "</table>\n",
              "</div>"
            ],
            "text/plain": [
              "     PassengerId  Pclass  ... Embarked classes\n",
              "130         1022       3  ...        S      Mr\n",
              "125         1017       3  ...        S    Miss\n",
              "224         1116       1  ...        C    Miss\n",
              "314         1206       1  ...        C    Miss\n",
              "318         1210       3  ...        S      Mr\n",
              "375         1267       1  ...        C    Miss\n",
              "175         1067       2  ...        S    Miss\n",
              "187         1079       3  ...        S      Mr\n",
              "305         1197       1  ...        S    Miss\n",
              "349         1241       2  ...        S    Miss\n",
              "\n",
              "[10 rows x 12 columns]"
            ]
          },
          "metadata": {
            "tags": []
          },
          "execution_count": 32
        }
      ]
    },
    {
      "cell_type": "markdown",
      "metadata": {
        "id": "YtYddFIAQOZx"
      },
      "source": [
        "## Families"
      ]
    },
    {
      "cell_type": "code",
      "metadata": {
        "execution": {
          "iopub.status.busy": "2021-07-23T02:17:08.405072Z",
          "iopub.execute_input": "2021-07-23T02:17:08.405549Z",
          "iopub.status.idle": "2021-07-23T02:17:08.426208Z",
          "shell.execute_reply.started": "2021-07-23T02:17:08.405514Z",
          "shell.execute_reply": "2021-07-23T02:17:08.425227Z"
        },
        "trusted": true,
        "id": "mc1vgQNYQOZx"
      },
      "source": [
        "testando = pd.concat([train_data['Name'].str[0:].str.split(', ', expand=True)[0], test_data_final['Name'].str[0:].str.split(', ', expand=True)[0]])\n",
        "totais = pd.Series(testando.value_counts())\n",
        "totais = totais.to_dict()"
      ],
      "execution_count": 33,
      "outputs": []
    },
    {
      "cell_type": "code",
      "metadata": {
        "execution": {
          "iopub.status.busy": "2021-07-23T02:17:08.427365Z",
          "iopub.execute_input": "2021-07-23T02:17:08.427798Z",
          "iopub.status.idle": "2021-07-23T02:17:08.544765Z",
          "shell.execute_reply.started": "2021-07-23T02:17:08.427757Z",
          "shell.execute_reply": "2021-07-23T02:17:08.54398Z"
        },
        "trusted": true,
        "colab": {
          "base_uri": "https://localhost:8080/",
          "height": 0
        },
        "id": "jwDxcO0QQOZy",
        "outputId": "34951202-4991-4687-a8b6-b0fd49034286"
      },
      "source": [
        "lista_da_familia = []\n",
        "for index, row in train_data.iterrows():\n",
        "  nome = row['Name'].split(',')[0]\n",
        "  if (totais[nome] <= 1):\n",
        "    lista_da_familia.append('Alone')\n",
        "  elif (totais[nome] <= 3):\n",
        "    lista_da_familia.append('Small')\n",
        "  elif (totais[nome] <= 6):\n",
        "    lista_da_familia.append('Medium')\n",
        "  else:\n",
        "    lista_da_familia.append('Large')\n",
        "  \n",
        "train_data['Family_size'] = lista_da_familia\n",
        "train_data"
      ],
      "execution_count": 34,
      "outputs": [
        {
          "output_type": "execute_result",
          "data": {
            "text/html": [
              "<div>\n",
              "<style scoped>\n",
              "    .dataframe tbody tr th:only-of-type {\n",
              "        vertical-align: middle;\n",
              "    }\n",
              "\n",
              "    .dataframe tbody tr th {\n",
              "        vertical-align: top;\n",
              "    }\n",
              "\n",
              "    .dataframe thead th {\n",
              "        text-align: right;\n",
              "    }\n",
              "</style>\n",
              "<table border=\"1\" class=\"dataframe\">\n",
              "  <thead>\n",
              "    <tr style=\"text-align: right;\">\n",
              "      <th></th>\n",
              "      <th>PassengerId</th>\n",
              "      <th>Survived</th>\n",
              "      <th>Pclass</th>\n",
              "      <th>Name</th>\n",
              "      <th>Sex</th>\n",
              "      <th>Age</th>\n",
              "      <th>SibSp</th>\n",
              "      <th>Parch</th>\n",
              "      <th>Ticket</th>\n",
              "      <th>Fare</th>\n",
              "      <th>Cabin</th>\n",
              "      <th>Embarked</th>\n",
              "      <th>classes</th>\n",
              "      <th>Family_size</th>\n",
              "    </tr>\n",
              "  </thead>\n",
              "  <tbody>\n",
              "    <tr>\n",
              "      <th>0</th>\n",
              "      <td>1</td>\n",
              "      <td>0</td>\n",
              "      <td>3</td>\n",
              "      <td>Braund, Mr. Owen Harris</td>\n",
              "      <td>male</td>\n",
              "      <td>22.0</td>\n",
              "      <td>1</td>\n",
              "      <td>0</td>\n",
              "      <td>A/5 21171</td>\n",
              "      <td>7.2500</td>\n",
              "      <td>NaN</td>\n",
              "      <td>S</td>\n",
              "      <td>Mr</td>\n",
              "      <td>Small</td>\n",
              "    </tr>\n",
              "    <tr>\n",
              "      <th>1</th>\n",
              "      <td>2</td>\n",
              "      <td>1</td>\n",
              "      <td>1</td>\n",
              "      <td>Cumings, Mrs. John Bradley (Florence Briggs Th...</td>\n",
              "      <td>female</td>\n",
              "      <td>38.0</td>\n",
              "      <td>1</td>\n",
              "      <td>0</td>\n",
              "      <td>PC 17599</td>\n",
              "      <td>71.2833</td>\n",
              "      <td>C85</td>\n",
              "      <td>C</td>\n",
              "      <td>Miss</td>\n",
              "      <td>Small</td>\n",
              "    </tr>\n",
              "    <tr>\n",
              "      <th>2</th>\n",
              "      <td>3</td>\n",
              "      <td>1</td>\n",
              "      <td>3</td>\n",
              "      <td>Heikkinen, Miss. Laina</td>\n",
              "      <td>female</td>\n",
              "      <td>26.0</td>\n",
              "      <td>0</td>\n",
              "      <td>0</td>\n",
              "      <td>STON/O2. 3101282</td>\n",
              "      <td>7.9250</td>\n",
              "      <td>NaN</td>\n",
              "      <td>S</td>\n",
              "      <td>Miss</td>\n",
              "      <td>Alone</td>\n",
              "    </tr>\n",
              "    <tr>\n",
              "      <th>3</th>\n",
              "      <td>4</td>\n",
              "      <td>1</td>\n",
              "      <td>1</td>\n",
              "      <td>Futrelle, Mrs. Jacques Heath (Lily May Peel)</td>\n",
              "      <td>female</td>\n",
              "      <td>35.0</td>\n",
              "      <td>1</td>\n",
              "      <td>0</td>\n",
              "      <td>113803</td>\n",
              "      <td>53.1000</td>\n",
              "      <td>C123</td>\n",
              "      <td>S</td>\n",
              "      <td>Miss</td>\n",
              "      <td>Small</td>\n",
              "    </tr>\n",
              "    <tr>\n",
              "      <th>4</th>\n",
              "      <td>5</td>\n",
              "      <td>0</td>\n",
              "      <td>3</td>\n",
              "      <td>Allen, Mr. William Henry</td>\n",
              "      <td>male</td>\n",
              "      <td>35.0</td>\n",
              "      <td>0</td>\n",
              "      <td>0</td>\n",
              "      <td>373450</td>\n",
              "      <td>8.0500</td>\n",
              "      <td>NaN</td>\n",
              "      <td>S</td>\n",
              "      <td>Mr</td>\n",
              "      <td>Small</td>\n",
              "    </tr>\n",
              "    <tr>\n",
              "      <th>...</th>\n",
              "      <td>...</td>\n",
              "      <td>...</td>\n",
              "      <td>...</td>\n",
              "      <td>...</td>\n",
              "      <td>...</td>\n",
              "      <td>...</td>\n",
              "      <td>...</td>\n",
              "      <td>...</td>\n",
              "      <td>...</td>\n",
              "      <td>...</td>\n",
              "      <td>...</td>\n",
              "      <td>...</td>\n",
              "      <td>...</td>\n",
              "      <td>...</td>\n",
              "    </tr>\n",
              "    <tr>\n",
              "      <th>886</th>\n",
              "      <td>887</td>\n",
              "      <td>0</td>\n",
              "      <td>2</td>\n",
              "      <td>Montvila, Rev. Juozas</td>\n",
              "      <td>male</td>\n",
              "      <td>27.0</td>\n",
              "      <td>0</td>\n",
              "      <td>0</td>\n",
              "      <td>211536</td>\n",
              "      <td>13.0000</td>\n",
              "      <td>NaN</td>\n",
              "      <td>S</td>\n",
              "      <td>Dr.\\Sir.\\Capt.\\Rev.</td>\n",
              "      <td>Alone</td>\n",
              "    </tr>\n",
              "    <tr>\n",
              "      <th>887</th>\n",
              "      <td>888</td>\n",
              "      <td>1</td>\n",
              "      <td>1</td>\n",
              "      <td>Graham, Miss. Margaret Edith</td>\n",
              "      <td>female</td>\n",
              "      <td>19.0</td>\n",
              "      <td>0</td>\n",
              "      <td>0</td>\n",
              "      <td>112053</td>\n",
              "      <td>30.0000</td>\n",
              "      <td>B42</td>\n",
              "      <td>S</td>\n",
              "      <td>Miss</td>\n",
              "      <td>Small</td>\n",
              "    </tr>\n",
              "    <tr>\n",
              "      <th>888</th>\n",
              "      <td>889</td>\n",
              "      <td>0</td>\n",
              "      <td>3</td>\n",
              "      <td>Johnston, Miss. Catherine Helen \"Carrie\"</td>\n",
              "      <td>female</td>\n",
              "      <td>22.0</td>\n",
              "      <td>1</td>\n",
              "      <td>2</td>\n",
              "      <td>W./C. 6607</td>\n",
              "      <td>23.4500</td>\n",
              "      <td>NaN</td>\n",
              "      <td>S</td>\n",
              "      <td>Miss</td>\n",
              "      <td>Medium</td>\n",
              "    </tr>\n",
              "    <tr>\n",
              "      <th>889</th>\n",
              "      <td>890</td>\n",
              "      <td>1</td>\n",
              "      <td>1</td>\n",
              "      <td>Behr, Mr. Karl Howell</td>\n",
              "      <td>male</td>\n",
              "      <td>26.0</td>\n",
              "      <td>0</td>\n",
              "      <td>0</td>\n",
              "      <td>111369</td>\n",
              "      <td>30.0000</td>\n",
              "      <td>C148</td>\n",
              "      <td>C</td>\n",
              "      <td>Mr</td>\n",
              "      <td>Alone</td>\n",
              "    </tr>\n",
              "    <tr>\n",
              "      <th>890</th>\n",
              "      <td>891</td>\n",
              "      <td>0</td>\n",
              "      <td>3</td>\n",
              "      <td>Dooley, Mr. Patrick</td>\n",
              "      <td>male</td>\n",
              "      <td>32.0</td>\n",
              "      <td>0</td>\n",
              "      <td>0</td>\n",
              "      <td>370376</td>\n",
              "      <td>7.7500</td>\n",
              "      <td>NaN</td>\n",
              "      <td>Q</td>\n",
              "      <td>Mr</td>\n",
              "      <td>Alone</td>\n",
              "    </tr>\n",
              "  </tbody>\n",
              "</table>\n",
              "<p>891 rows × 14 columns</p>\n",
              "</div>"
            ],
            "text/plain": [
              "     PassengerId  Survived  Pclass  ... Embarked              classes  Family_size\n",
              "0              1         0       3  ...        S                   Mr        Small\n",
              "1              2         1       1  ...        C                 Miss        Small\n",
              "2              3         1       3  ...        S                 Miss        Alone\n",
              "3              4         1       1  ...        S                 Miss        Small\n",
              "4              5         0       3  ...        S                   Mr        Small\n",
              "..           ...       ...     ...  ...      ...                  ...          ...\n",
              "886          887         0       2  ...        S  Dr.\\Sir.\\Capt.\\Rev.        Alone\n",
              "887          888         1       1  ...        S                 Miss        Small\n",
              "888          889         0       3  ...        S                 Miss       Medium\n",
              "889          890         1       1  ...        C                   Mr        Alone\n",
              "890          891         0       3  ...        Q                   Mr        Alone\n",
              "\n",
              "[891 rows x 14 columns]"
            ]
          },
          "metadata": {
            "tags": []
          },
          "execution_count": 34
        }
      ]
    },
    {
      "cell_type": "code",
      "metadata": {
        "execution": {
          "iopub.status.busy": "2021-07-23T02:17:08.546073Z",
          "iopub.execute_input": "2021-07-23T02:17:08.546603Z",
          "iopub.status.idle": "2021-07-23T02:17:08.620717Z",
          "shell.execute_reply.started": "2021-07-23T02:17:08.546545Z",
          "shell.execute_reply": "2021-07-23T02:17:08.62001Z"
        },
        "trusted": true,
        "colab": {
          "base_uri": "https://localhost:8080/",
          "height": 0
        },
        "id": "dx7WC7CSQOZy",
        "outputId": "d814c5e8-b87e-447a-ebb5-2a18dbdf5733"
      },
      "source": [
        "lista_da_familia = []\n",
        "for index, row in test_data_final.iterrows():\n",
        "  nome = row['Name'].split(',')[0]\n",
        "  if (totais[nome] <= 1):\n",
        "    lista_da_familia.append('Alone')\n",
        "  elif (totais[nome] <= 3):\n",
        "    lista_da_familia.append('Small')\n",
        "  elif (totais[nome] <= 6):\n",
        "    lista_da_familia.append('Medium')\n",
        "  else:\n",
        "    lista_da_familia.append('Large')\n",
        "  \n",
        "test_data_final['Family_size'] = lista_da_familia\n",
        "test_data_final"
      ],
      "execution_count": 35,
      "outputs": [
        {
          "output_type": "execute_result",
          "data": {
            "text/html": [
              "<div>\n",
              "<style scoped>\n",
              "    .dataframe tbody tr th:only-of-type {\n",
              "        vertical-align: middle;\n",
              "    }\n",
              "\n",
              "    .dataframe tbody tr th {\n",
              "        vertical-align: top;\n",
              "    }\n",
              "\n",
              "    .dataframe thead th {\n",
              "        text-align: right;\n",
              "    }\n",
              "</style>\n",
              "<table border=\"1\" class=\"dataframe\">\n",
              "  <thead>\n",
              "    <tr style=\"text-align: right;\">\n",
              "      <th></th>\n",
              "      <th>PassengerId</th>\n",
              "      <th>Pclass</th>\n",
              "      <th>Name</th>\n",
              "      <th>Sex</th>\n",
              "      <th>Age</th>\n",
              "      <th>SibSp</th>\n",
              "      <th>Parch</th>\n",
              "      <th>Ticket</th>\n",
              "      <th>Fare</th>\n",
              "      <th>Cabin</th>\n",
              "      <th>Embarked</th>\n",
              "      <th>classes</th>\n",
              "      <th>Family_size</th>\n",
              "    </tr>\n",
              "  </thead>\n",
              "  <tbody>\n",
              "    <tr>\n",
              "      <th>0</th>\n",
              "      <td>892</td>\n",
              "      <td>3</td>\n",
              "      <td>Kelly, Mr. James</td>\n",
              "      <td>male</td>\n",
              "      <td>34.5</td>\n",
              "      <td>0</td>\n",
              "      <td>0</td>\n",
              "      <td>330911</td>\n",
              "      <td>7.8292</td>\n",
              "      <td>NaN</td>\n",
              "      <td>Q</td>\n",
              "      <td>Mr</td>\n",
              "      <td>Medium</td>\n",
              "    </tr>\n",
              "    <tr>\n",
              "      <th>1</th>\n",
              "      <td>893</td>\n",
              "      <td>3</td>\n",
              "      <td>Wilkes, Mrs. James (Ellen Needs)</td>\n",
              "      <td>female</td>\n",
              "      <td>47.0</td>\n",
              "      <td>1</td>\n",
              "      <td>0</td>\n",
              "      <td>363272</td>\n",
              "      <td>7.0000</td>\n",
              "      <td>NaN</td>\n",
              "      <td>S</td>\n",
              "      <td>Miss</td>\n",
              "      <td>Alone</td>\n",
              "    </tr>\n",
              "    <tr>\n",
              "      <th>2</th>\n",
              "      <td>894</td>\n",
              "      <td>2</td>\n",
              "      <td>Myles, Mr. Thomas Francis</td>\n",
              "      <td>male</td>\n",
              "      <td>62.0</td>\n",
              "      <td>0</td>\n",
              "      <td>0</td>\n",
              "      <td>240276</td>\n",
              "      <td>9.6875</td>\n",
              "      <td>NaN</td>\n",
              "      <td>Q</td>\n",
              "      <td>Mr</td>\n",
              "      <td>Alone</td>\n",
              "    </tr>\n",
              "    <tr>\n",
              "      <th>3</th>\n",
              "      <td>895</td>\n",
              "      <td>3</td>\n",
              "      <td>Wirz, Mr. Albert</td>\n",
              "      <td>male</td>\n",
              "      <td>27.0</td>\n",
              "      <td>0</td>\n",
              "      <td>0</td>\n",
              "      <td>315154</td>\n",
              "      <td>8.6625</td>\n",
              "      <td>NaN</td>\n",
              "      <td>S</td>\n",
              "      <td>Mr</td>\n",
              "      <td>Alone</td>\n",
              "    </tr>\n",
              "    <tr>\n",
              "      <th>4</th>\n",
              "      <td>896</td>\n",
              "      <td>3</td>\n",
              "      <td>Hirvonen, Mrs. Alexander (Helga E Lindqvist)</td>\n",
              "      <td>female</td>\n",
              "      <td>22.0</td>\n",
              "      <td>1</td>\n",
              "      <td>1</td>\n",
              "      <td>3101298</td>\n",
              "      <td>12.2875</td>\n",
              "      <td>NaN</td>\n",
              "      <td>S</td>\n",
              "      <td>Miss</td>\n",
              "      <td>Small</td>\n",
              "    </tr>\n",
              "    <tr>\n",
              "      <th>...</th>\n",
              "      <td>...</td>\n",
              "      <td>...</td>\n",
              "      <td>...</td>\n",
              "      <td>...</td>\n",
              "      <td>...</td>\n",
              "      <td>...</td>\n",
              "      <td>...</td>\n",
              "      <td>...</td>\n",
              "      <td>...</td>\n",
              "      <td>...</td>\n",
              "      <td>...</td>\n",
              "      <td>...</td>\n",
              "      <td>...</td>\n",
              "    </tr>\n",
              "    <tr>\n",
              "      <th>413</th>\n",
              "      <td>1305</td>\n",
              "      <td>3</td>\n",
              "      <td>Spector, Mr. Woolf</td>\n",
              "      <td>male</td>\n",
              "      <td>27.0</td>\n",
              "      <td>0</td>\n",
              "      <td>0</td>\n",
              "      <td>A.5. 3236</td>\n",
              "      <td>8.0500</td>\n",
              "      <td>NaN</td>\n",
              "      <td>S</td>\n",
              "      <td>Mr</td>\n",
              "      <td>Alone</td>\n",
              "    </tr>\n",
              "    <tr>\n",
              "      <th>414</th>\n",
              "      <td>1306</td>\n",
              "      <td>1</td>\n",
              "      <td>Oliva y Ocana, Dona. Fermina</td>\n",
              "      <td>female</td>\n",
              "      <td>39.0</td>\n",
              "      <td>0</td>\n",
              "      <td>0</td>\n",
              "      <td>PC 17758</td>\n",
              "      <td>108.9000</td>\n",
              "      <td>C105</td>\n",
              "      <td>C</td>\n",
              "      <td>Miss</td>\n",
              "      <td>Alone</td>\n",
              "    </tr>\n",
              "    <tr>\n",
              "      <th>415</th>\n",
              "      <td>1307</td>\n",
              "      <td>3</td>\n",
              "      <td>Saether, Mr. Simon Sivertsen</td>\n",
              "      <td>male</td>\n",
              "      <td>38.5</td>\n",
              "      <td>0</td>\n",
              "      <td>0</td>\n",
              "      <td>SOTON/O.Q. 3101262</td>\n",
              "      <td>7.2500</td>\n",
              "      <td>NaN</td>\n",
              "      <td>S</td>\n",
              "      <td>Mr</td>\n",
              "      <td>Alone</td>\n",
              "    </tr>\n",
              "    <tr>\n",
              "      <th>416</th>\n",
              "      <td>1308</td>\n",
              "      <td>3</td>\n",
              "      <td>Ware, Mr. Frederick</td>\n",
              "      <td>male</td>\n",
              "      <td>27.0</td>\n",
              "      <td>0</td>\n",
              "      <td>0</td>\n",
              "      <td>359309</td>\n",
              "      <td>8.0500</td>\n",
              "      <td>NaN</td>\n",
              "      <td>S</td>\n",
              "      <td>Mr</td>\n",
              "      <td>Medium</td>\n",
              "    </tr>\n",
              "    <tr>\n",
              "      <th>417</th>\n",
              "      <td>1309</td>\n",
              "      <td>3</td>\n",
              "      <td>Peter, Master. Michael J</td>\n",
              "      <td>male</td>\n",
              "      <td>27.0</td>\n",
              "      <td>1</td>\n",
              "      <td>1</td>\n",
              "      <td>2668</td>\n",
              "      <td>22.3583</td>\n",
              "      <td>NaN</td>\n",
              "      <td>C</td>\n",
              "      <td>Dr.\\Sir.\\Capt.\\Rev.</td>\n",
              "      <td>Small</td>\n",
              "    </tr>\n",
              "  </tbody>\n",
              "</table>\n",
              "<p>418 rows × 13 columns</p>\n",
              "</div>"
            ],
            "text/plain": [
              "     PassengerId  Pclass  ...              classes Family_size\n",
              "0            892       3  ...                   Mr      Medium\n",
              "1            893       3  ...                 Miss       Alone\n",
              "2            894       2  ...                   Mr       Alone\n",
              "3            895       3  ...                   Mr       Alone\n",
              "4            896       3  ...                 Miss       Small\n",
              "..           ...     ...  ...                  ...         ...\n",
              "413         1305       3  ...                   Mr       Alone\n",
              "414         1306       1  ...                 Miss       Alone\n",
              "415         1307       3  ...                   Mr       Alone\n",
              "416         1308       3  ...                   Mr      Medium\n",
              "417         1309       3  ...  Dr.\\Sir.\\Capt.\\Rev.       Small\n",
              "\n",
              "[418 rows x 13 columns]"
            ]
          },
          "metadata": {
            "tags": []
          },
          "execution_count": 35
        }
      ]
    },
    {
      "cell_type": "code",
      "metadata": {
        "execution": {
          "iopub.status.busy": "2021-07-23T02:17:08.621854Z",
          "iopub.execute_input": "2021-07-23T02:17:08.622177Z",
          "iopub.status.idle": "2021-07-23T02:17:08.634182Z",
          "shell.execute_reply.started": "2021-07-23T02:17:08.62215Z",
          "shell.execute_reply": "2021-07-23T02:17:08.633298Z"
        },
        "trusted": true,
        "colab": {
          "base_uri": "https://localhost:8080/"
        },
        "id": "QiCE-lZBQOZz",
        "outputId": "725e33a4-92a2-4875-da00-4eb0d42fd397"
      },
      "source": [
        "train_data[['Family_size', 'Survived']].value_counts()"
      ],
      "execution_count": 36,
      "outputs": [
        {
          "output_type": "execute_result",
          "data": {
            "text/plain": [
              "Family_size  Survived\n",
              "Alone        0           298\n",
              "             1           149\n",
              "Small        0           146\n",
              "             1           143\n",
              "Medium       0            82\n",
              "             1            44\n",
              "Large        0            23\n",
              "             1             6\n",
              "dtype: int64"
            ]
          },
          "metadata": {
            "tags": []
          },
          "execution_count": 36
        }
      ]
    },
    {
      "cell_type": "markdown",
      "metadata": {
        "id": "Gb-pFYurQOZz"
      },
      "source": [
        "# Training data analysis"
      ]
    },
    {
      "cell_type": "code",
      "metadata": {
        "execution": {
          "iopub.status.busy": "2021-07-23T02:17:08.635188Z",
          "iopub.execute_input": "2021-07-23T02:17:08.635526Z",
          "iopub.status.idle": "2021-07-23T02:17:08.673341Z",
          "shell.execute_reply.started": "2021-07-23T02:17:08.635496Z",
          "shell.execute_reply": "2021-07-23T02:17:08.6724Z"
        },
        "trusted": true,
        "colab": {
          "base_uri": "https://localhost:8080/",
          "height": 287
        },
        "id": "swj5GjTuQOZz",
        "outputId": "bb2cbe7c-c9ee-4a07-da35-619be3d33719"
      },
      "source": [
        "train_data.describe()"
      ],
      "execution_count": 37,
      "outputs": [
        {
          "output_type": "execute_result",
          "data": {
            "text/html": [
              "<div>\n",
              "<style scoped>\n",
              "    .dataframe tbody tr th:only-of-type {\n",
              "        vertical-align: middle;\n",
              "    }\n",
              "\n",
              "    .dataframe tbody tr th {\n",
              "        vertical-align: top;\n",
              "    }\n",
              "\n",
              "    .dataframe thead th {\n",
              "        text-align: right;\n",
              "    }\n",
              "</style>\n",
              "<table border=\"1\" class=\"dataframe\">\n",
              "  <thead>\n",
              "    <tr style=\"text-align: right;\">\n",
              "      <th></th>\n",
              "      <th>PassengerId</th>\n",
              "      <th>Survived</th>\n",
              "      <th>Pclass</th>\n",
              "      <th>Age</th>\n",
              "      <th>SibSp</th>\n",
              "      <th>Parch</th>\n",
              "      <th>Fare</th>\n",
              "    </tr>\n",
              "  </thead>\n",
              "  <tbody>\n",
              "    <tr>\n",
              "      <th>count</th>\n",
              "      <td>891.000000</td>\n",
              "      <td>891.000000</td>\n",
              "      <td>891.000000</td>\n",
              "      <td>891.000000</td>\n",
              "      <td>891.000000</td>\n",
              "      <td>891.000000</td>\n",
              "      <td>891.000000</td>\n",
              "    </tr>\n",
              "    <tr>\n",
              "      <th>mean</th>\n",
              "      <td>446.000000</td>\n",
              "      <td>0.383838</td>\n",
              "      <td>2.308642</td>\n",
              "      <td>29.382907</td>\n",
              "      <td>0.523008</td>\n",
              "      <td>0.381594</td>\n",
              "      <td>32.204208</td>\n",
              "    </tr>\n",
              "    <tr>\n",
              "      <th>std</th>\n",
              "      <td>257.353842</td>\n",
              "      <td>0.486592</td>\n",
              "      <td>0.836071</td>\n",
              "      <td>13.260272</td>\n",
              "      <td>1.102743</td>\n",
              "      <td>0.806057</td>\n",
              "      <td>49.693429</td>\n",
              "    </tr>\n",
              "    <tr>\n",
              "      <th>min</th>\n",
              "      <td>1.000000</td>\n",
              "      <td>0.000000</td>\n",
              "      <td>1.000000</td>\n",
              "      <td>0.420000</td>\n",
              "      <td>0.000000</td>\n",
              "      <td>0.000000</td>\n",
              "      <td>0.000000</td>\n",
              "    </tr>\n",
              "    <tr>\n",
              "      <th>25%</th>\n",
              "      <td>223.500000</td>\n",
              "      <td>0.000000</td>\n",
              "      <td>2.000000</td>\n",
              "      <td>22.000000</td>\n",
              "      <td>0.000000</td>\n",
              "      <td>0.000000</td>\n",
              "      <td>7.910400</td>\n",
              "    </tr>\n",
              "    <tr>\n",
              "      <th>50%</th>\n",
              "      <td>446.000000</td>\n",
              "      <td>0.000000</td>\n",
              "      <td>3.000000</td>\n",
              "      <td>27.000000</td>\n",
              "      <td>0.000000</td>\n",
              "      <td>0.000000</td>\n",
              "      <td>14.454200</td>\n",
              "    </tr>\n",
              "    <tr>\n",
              "      <th>75%</th>\n",
              "      <td>668.500000</td>\n",
              "      <td>1.000000</td>\n",
              "      <td>3.000000</td>\n",
              "      <td>36.000000</td>\n",
              "      <td>1.000000</td>\n",
              "      <td>0.000000</td>\n",
              "      <td>31.000000</td>\n",
              "    </tr>\n",
              "    <tr>\n",
              "      <th>max</th>\n",
              "      <td>891.000000</td>\n",
              "      <td>1.000000</td>\n",
              "      <td>3.000000</td>\n",
              "      <td>80.000000</td>\n",
              "      <td>8.000000</td>\n",
              "      <td>6.000000</td>\n",
              "      <td>512.329200</td>\n",
              "    </tr>\n",
              "  </tbody>\n",
              "</table>\n",
              "</div>"
            ],
            "text/plain": [
              "       PassengerId    Survived      Pclass  ...       SibSp       Parch        Fare\n",
              "count   891.000000  891.000000  891.000000  ...  891.000000  891.000000  891.000000\n",
              "mean    446.000000    0.383838    2.308642  ...    0.523008    0.381594   32.204208\n",
              "std     257.353842    0.486592    0.836071  ...    1.102743    0.806057   49.693429\n",
              "min       1.000000    0.000000    1.000000  ...    0.000000    0.000000    0.000000\n",
              "25%     223.500000    0.000000    2.000000  ...    0.000000    0.000000    7.910400\n",
              "50%     446.000000    0.000000    3.000000  ...    0.000000    0.000000   14.454200\n",
              "75%     668.500000    1.000000    3.000000  ...    1.000000    0.000000   31.000000\n",
              "max     891.000000    1.000000    3.000000  ...    8.000000    6.000000  512.329200\n",
              "\n",
              "[8 rows x 7 columns]"
            ]
          },
          "metadata": {
            "tags": []
          },
          "execution_count": 37
        }
      ]
    },
    {
      "cell_type": "code",
      "metadata": {
        "execution": {
          "iopub.status.busy": "2021-07-23T02:17:08.674601Z",
          "iopub.execute_input": "2021-07-23T02:17:08.674918Z",
          "iopub.status.idle": "2021-07-23T02:17:08.691873Z",
          "shell.execute_reply.started": "2021-07-23T02:17:08.674868Z",
          "shell.execute_reply": "2021-07-23T02:17:08.690882Z"
        },
        "trusted": true,
        "colab": {
          "base_uri": "https://localhost:8080/",
          "height": 257
        },
        "id": "U55v0HKUQOZ0",
        "outputId": "dd4c2969-a3c7-408e-abe2-3f0fe0966d10"
      },
      "source": [
        "corr = train_data.corr()\n",
        "corr"
      ],
      "execution_count": 38,
      "outputs": [
        {
          "output_type": "execute_result",
          "data": {
            "text/html": [
              "<div>\n",
              "<style scoped>\n",
              "    .dataframe tbody tr th:only-of-type {\n",
              "        vertical-align: middle;\n",
              "    }\n",
              "\n",
              "    .dataframe tbody tr th {\n",
              "        vertical-align: top;\n",
              "    }\n",
              "\n",
              "    .dataframe thead th {\n",
              "        text-align: right;\n",
              "    }\n",
              "</style>\n",
              "<table border=\"1\" class=\"dataframe\">\n",
              "  <thead>\n",
              "    <tr style=\"text-align: right;\">\n",
              "      <th></th>\n",
              "      <th>PassengerId</th>\n",
              "      <th>Survived</th>\n",
              "      <th>Pclass</th>\n",
              "      <th>Age</th>\n",
              "      <th>SibSp</th>\n",
              "      <th>Parch</th>\n",
              "      <th>Fare</th>\n",
              "    </tr>\n",
              "  </thead>\n",
              "  <tbody>\n",
              "    <tr>\n",
              "      <th>PassengerId</th>\n",
              "      <td>1.000000</td>\n",
              "      <td>-0.005007</td>\n",
              "      <td>-0.035144</td>\n",
              "      <td>0.039494</td>\n",
              "      <td>-0.057527</td>\n",
              "      <td>-0.001652</td>\n",
              "      <td>0.012658</td>\n",
              "    </tr>\n",
              "    <tr>\n",
              "      <th>Survived</th>\n",
              "      <td>-0.005007</td>\n",
              "      <td>1.000000</td>\n",
              "      <td>-0.338481</td>\n",
              "      <td>-0.069008</td>\n",
              "      <td>-0.035322</td>\n",
              "      <td>0.081629</td>\n",
              "      <td>0.257307</td>\n",
              "    </tr>\n",
              "    <tr>\n",
              "      <th>Pclass</th>\n",
              "      <td>-0.035144</td>\n",
              "      <td>-0.338481</td>\n",
              "      <td>1.000000</td>\n",
              "      <td>-0.403445</td>\n",
              "      <td>0.083081</td>\n",
              "      <td>0.018443</td>\n",
              "      <td>-0.549500</td>\n",
              "    </tr>\n",
              "    <tr>\n",
              "      <th>Age</th>\n",
              "      <td>0.039494</td>\n",
              "      <td>-0.069008</td>\n",
              "      <td>-0.403445</td>\n",
              "      <td>1.000000</td>\n",
              "      <td>-0.251112</td>\n",
              "      <td>-0.182099</td>\n",
              "      <td>0.116836</td>\n",
              "    </tr>\n",
              "    <tr>\n",
              "      <th>SibSp</th>\n",
              "      <td>-0.057527</td>\n",
              "      <td>-0.035322</td>\n",
              "      <td>0.083081</td>\n",
              "      <td>-0.251112</td>\n",
              "      <td>1.000000</td>\n",
              "      <td>0.414838</td>\n",
              "      <td>0.159651</td>\n",
              "    </tr>\n",
              "    <tr>\n",
              "      <th>Parch</th>\n",
              "      <td>-0.001652</td>\n",
              "      <td>0.081629</td>\n",
              "      <td>0.018443</td>\n",
              "      <td>-0.182099</td>\n",
              "      <td>0.414838</td>\n",
              "      <td>1.000000</td>\n",
              "      <td>0.216225</td>\n",
              "    </tr>\n",
              "    <tr>\n",
              "      <th>Fare</th>\n",
              "      <td>0.012658</td>\n",
              "      <td>0.257307</td>\n",
              "      <td>-0.549500</td>\n",
              "      <td>0.116836</td>\n",
              "      <td>0.159651</td>\n",
              "      <td>0.216225</td>\n",
              "      <td>1.000000</td>\n",
              "    </tr>\n",
              "  </tbody>\n",
              "</table>\n",
              "</div>"
            ],
            "text/plain": [
              "             PassengerId  Survived    Pclass  ...     SibSp     Parch      Fare\n",
              "PassengerId     1.000000 -0.005007 -0.035144  ... -0.057527 -0.001652  0.012658\n",
              "Survived       -0.005007  1.000000 -0.338481  ... -0.035322  0.081629  0.257307\n",
              "Pclass         -0.035144 -0.338481  1.000000  ...  0.083081  0.018443 -0.549500\n",
              "Age             0.039494 -0.069008 -0.403445  ... -0.251112 -0.182099  0.116836\n",
              "SibSp          -0.057527 -0.035322  0.083081  ...  1.000000  0.414838  0.159651\n",
              "Parch          -0.001652  0.081629  0.018443  ...  0.414838  1.000000  0.216225\n",
              "Fare            0.012658  0.257307 -0.549500  ...  0.159651  0.216225  1.000000\n",
              "\n",
              "[7 rows x 7 columns]"
            ]
          },
          "metadata": {
            "tags": []
          },
          "execution_count": 38
        }
      ]
    },
    {
      "cell_type": "code",
      "metadata": {
        "execution": {
          "iopub.status.busy": "2021-07-23T02:17:08.6936Z",
          "iopub.execute_input": "2021-07-23T02:17:08.694285Z",
          "iopub.status.idle": "2021-07-23T02:17:10.855977Z",
          "shell.execute_reply.started": "2021-07-23T02:17:08.694239Z",
          "shell.execute_reply": "2021-07-23T02:17:10.854831Z"
        },
        "trusted": true,
        "colab": {
          "base_uri": "https://localhost:8080/",
          "height": 231
        },
        "id": "bkTvpem6QOZ0",
        "outputId": "20aefeb7-bf22-404c-8528-2b53e0997543"
      },
      "source": [
        "import seaborn as sns\n",
        "ax = sns.pairplot(train_data, y_vars=\"Survived\", x_vars=[\"Pclass\", 'Age', 'SibSp', 'Parch', 'Fare'],kind='reg', diag_kind=None)\n",
        "ax.fig.suptitle('Dispersão entre as Varíaveis', fontsize=20, y=1.05)\n",
        "ax"
      ],
      "execution_count": 39,
      "outputs": [
        {
          "output_type": "execute_result",
          "data": {
            "text/plain": [
              "<seaborn.axisgrid.PairGrid at 0x7f46acc8f1d0>"
            ]
          },
          "metadata": {
            "tags": []
          },
          "execution_count": 39
        },
        {
          "output_type": "display_data",
          "data": {
            "image/png": "[encoded data removed]",
            "text/plain": [
              "<Figure size 900x180 with 5 Axes>"
            ]
          },
          "metadata": {
            "tags": [],
            "needs_background": "light"
          }
        }
      ]
    },
    {
      "cell_type": "code",
      "metadata": {
        "execution": {
          "iopub.status.busy": "2021-07-23T02:17:10.857276Z",
          "iopub.execute_input": "2021-07-23T02:17:10.857597Z",
          "iopub.status.idle": "2021-07-23T02:17:11.212719Z",
          "shell.execute_reply.started": "2021-07-23T02:17:10.857567Z",
          "shell.execute_reply": "2021-07-23T02:17:11.211683Z"
        },
        "trusted": true,
        "colab": {
          "base_uri": "https://localhost:8080/",
          "height": 337
        },
        "id": "8gPvnJpyQOZ0",
        "outputId": "14347d46-a9ad-4671-9216-eab900073f2e"
      },
      "source": [
        "import seaborn as sns\n",
        "ax = sns.heatmap(corr)\n",
        "ax"
      ],
      "execution_count": 40,
      "outputs": [
        {
          "output_type": "execute_result",
          "data": {
            "text/plain": [
              "<matplotlib.axes._subplots.AxesSubplot at 0x7f469588a590>"
            ]
          },
          "metadata": {
            "tags": []
          },
          "execution_count": 40
        },
        {
          "output_type": "display_data",
          "data": {
            "image/png": "[encoded data removed]",
            "text/plain": [
              "<Figure size 432x288 with 2 Axes>"
            ]
          },
          "metadata": {
            "tags": [],
            "needs_background": "light"
          }
        }
      ]
    },
    {
      "cell_type": "markdown",
      "metadata": {
        "id": "0VqFb-80QOZ0"
      },
      "source": [
        "Based on the table and correlation graphs, one realizes that there is no linear relationship considerably between features. Emphasizing only that Pclass and Fare have a significant and expected negative correlation, since the price increases and the class decreases and if the price decreases the class increases, inversely proportional. Another relationship is between Parch and Sibsp, which has to do with the degree of kinship, showing a positive correlation."
      ]
    },
    {
      "cell_type": "code",
      "metadata": {
        "trusted": true,
        "id": "6TIM2G8MQOZ1"
      },
      "source": [
        ""
      ],
      "execution_count": 40,
      "outputs": []
    },
    {
      "cell_type": "code",
      "metadata": {
        "execution": {
          "iopub.status.busy": "2021-07-23T02:17:11.214081Z",
          "iopub.execute_input": "2021-07-23T02:17:11.214393Z",
          "iopub.status.idle": "2021-07-23T02:17:12.075014Z",
          "shell.execute_reply.started": "2021-07-23T02:17:11.214363Z",
          "shell.execute_reply": "2021-07-23T02:17:12.074026Z"
        },
        "trusted": true,
        "colab": {
          "base_uri": "https://localhost:8080/",
          "height": 1000
        },
        "id": "ViQK1raCQOZ1",
        "outputId": "c8150f1e-5ee0-4709-f948-bcbacebc453d"
      },
      "source": [
        "import matplotlib.pyplot as plt\n",
        "import matplotlib.gridspec as gridspec\n",
        "\n",
        "family_freq = testando.value_counts().value_counts() \n",
        "\n",
        "legenda = train_data.Family_size.value_counts().index\n",
        "\n",
        "\n",
        "fig2 = plt.figure(constrained_layout=True, figsize=(10,16))\n",
        "\n",
        "spec2 = gridspec.GridSpec(ncols=1, nrows=3, figure=fig2)\n",
        "f2_ax1 = fig2.add_subplot(spec2[1, 0])\n",
        "f2_ax2 = fig2.add_subplot(spec2[0, 0])\n",
        "f2_ax3 = fig2.add_subplot(spec2[2, 0])\n",
        "\n",
        "\n",
        "f2_ax1.bar(legenda, train_data.Family_size.value_counts())\n",
        "f2_ax1.set_title('Total people by category', fontsize=25, pad=15)\n",
        "f2_ax1.set_ylabel('Total', fontsize=15)\n",
        "f2_ax1.tick_params(labelsize=15)\n",
        "\n",
        "# Frequancia de pessoas por familia\n",
        "f2_ax2.bar(family_freq.index.values, family_freq.values)\n",
        "f2_ax2.set_xticks(range(0,9))\n",
        "f2_ax2.set_xticklabels(family_freq.index.values)\n",
        "f2_ax2.set_title('Frequency of people per family', fontsize=25, pad=15)\n",
        "f2_ax2.set_xlabel('Number of people in the same family', fontsize=15)\n",
        "f2_ax2.set_ylabel('Frequency', fontsize=15)\n",
        "f2_ax2.tick_params(labelsize=15)\n",
        "\n",
        "f2_ax3.bar(range(0,8,2), train_data[['Family_size', 'Survived']].value_counts()[:,0],color='red', label='C1',align= 'edge')\n",
        "f2_ax3.bar(range(1,8,2), train_data[['Family_size', 'Survived']].value_counts()[:,1], color='green', label='C2',align= 'edge')\n",
        "f2_ax3.set_xticks(range(1,8,2))\n",
        "f2_ax3.set_xticklabels(legenda)\n",
        "f2_ax3.legend(['Not Survived', 'Survived'], fontsize=20,loc=0)\n",
        "f2_ax3.set_title('Survivors by family classification', fontsize=25, pad=15)\n",
        "f2_ax3.set_ylabel('Total', fontsize=15)\n",
        "f2_ax3.tick_params(labelsize=15)"
      ],
      "execution_count": 41,
      "outputs": [
        {
          "output_type": "display_data",
          "data": {
            "image/png": "[encoded data removed]",
            "text/plain": [
              "<Figure size 720x1152 with 3 Axes>"
            ]
          },
          "metadata": {
            "tags": [],
            "needs_background": "light"
          }
        }
      ]
    },
    {
      "cell_type": "code",
      "metadata": {
        "execution": {
          "iopub.status.busy": "2021-07-23T02:17:12.07635Z",
          "iopub.execute_input": "2021-07-23T02:17:12.076661Z",
          "iopub.status.idle": "2021-07-23T02:17:12.694534Z",
          "shell.execute_reply.started": "2021-07-23T02:17:12.076629Z",
          "shell.execute_reply": "2021-07-23T02:17:12.693468Z"
        },
        "trusted": true,
        "colab": {
          "base_uri": "https://localhost:8080/",
          "height": 394
        },
        "id": "QsijP9f8QOZ1",
        "outputId": "ecb4968b-204c-46b7-c835-f7f83eb2ea9c"
      },
      "source": [
        "import matplotlib.pyplot as plt\n",
        "\n",
        "fig = plt.figure(figsize=(5,4))\n",
        "eixo = fig.add_axes([0,0,1,1])\n",
        "\n",
        "mu, sigma = train_data['Age'].mean(), train_data['Age'].std()\n",
        "\n",
        "eixo.hist(train_data['Age'], bins=80)\n",
        "eixo.set_title('Histogram - Age Training Data', fontsize=15, pad=10)\n",
        "eixo.set_xlabel('Age', fontsize=15)\n",
        "eixo.set_ylabel('Frequency', fontsize=15)\n",
        "eixo.grid(True)\n",
        "\n",
        "eixo.annotate('$\\mu = {0:.2f}$\\n$\\sigma = {1:.2f}$'.format(mu, sigma),\n",
        "               xy=(50, 10), fontsize=20)\n",
        "\n",
        "eixo.axvline(mu, color = 'k', linestyle='--')\n",
        "eixo.annotate('mean', xy=(mu-1.3, 44), fontsize=20)\n",
        "\n",
        "eixo.axvline(train_data['Age'].median(), color='g', linestyle='--')\n",
        "eixo.annotate('average', xy=(train_data['Age'].median(), 35), fontsize=20)"
      ],
      "execution_count": 42,
      "outputs": [
        {
          "output_type": "execute_result",
          "data": {
            "text/plain": [
              "Text(27.0, 35, 'average')"
            ]
          },
          "metadata": {
            "tags": []
          },
          "execution_count": 42
        },
        {
          "output_type": "display_data",
          "data": {
            "image/png": "[encoded data removed]",
            "text/plain": [
              "<Figure size 360x288 with 1 Axes>"
            ]
          },
          "metadata": {
            "tags": [],
            "needs_background": "light"
          }
        }
      ]
    },
    {
      "cell_type": "code",
      "metadata": {
        "execution": {
          "iopub.status.busy": "2021-07-23T02:17:12.695838Z",
          "iopub.execute_input": "2021-07-23T02:17:12.696177Z",
          "iopub.status.idle": "2021-07-23T02:17:12.978767Z",
          "shell.execute_reply.started": "2021-07-23T02:17:12.696146Z",
          "shell.execute_reply": "2021-07-23T02:17:12.977651Z"
        },
        "trusted": true,
        "colab": {
          "base_uri": "https://localhost:8080/",
          "height": 430
        },
        "id": "6OFbqsUNQOZ2",
        "outputId": "becd8f1d-ecae-495e-9d60-adcc94beede0"
      },
      "source": [
        "import seaborn as sns\n",
        "\n",
        "sobreviveram = train_data[train_data.Survived == 1]\n",
        "morreram = train_data[train_data.Survived == 0]\n",
        "cores = {'Survived': 'g','Die': 'r', 'All': 'b'}\n",
        "\n",
        "ax = sns.kdeplot(sobreviveram.Age, color='g')\n",
        "ax = sns.kdeplot(morreram.Age, color='r')\n",
        "ax = sns.kdeplot(train_data.Age, color='b')\n",
        "\n",
        "ax.figure.set_size_inches(12, 6)\n",
        "ax.set_title('Frequency Distribution - Age - KDE', fontsize=18)\n",
        "ax.set_xlabel('Anos', fontsize=14)\n",
        "ax.legend(cores, fontsize=20)\n",
        "ax"
      ],
      "execution_count": 43,
      "outputs": [
        {
          "output_type": "execute_result",
          "data": {
            "text/plain": [
              "<matplotlib.axes._subplots.AxesSubplot at 0x7f4694fb0810>"
            ]
          },
          "metadata": {
            "tags": []
          },
          "execution_count": 43
        },
        {
          "output_type": "display_data",
          "data": {
            "image/png": "[encoded data removed]",
            "text/plain": [
              "<Figure size 864x432 with 1 Axes>"
            ]
          },
          "metadata": {
            "tags": [],
            "needs_background": "light"
          }
        }
      ]
    },
    {
      "cell_type": "code",
      "metadata": {
        "execution": {
          "iopub.status.busy": "2021-07-23T02:17:12.980451Z",
          "iopub.execute_input": "2021-07-23T02:17:12.980908Z",
          "iopub.status.idle": "2021-07-23T02:17:13.173194Z",
          "shell.execute_reply.started": "2021-07-23T02:17:12.980846Z",
          "shell.execute_reply": "2021-07-23T02:17:13.172065Z"
        },
        "trusted": true,
        "colab": {
          "base_uri": "https://localhost:8080/",
          "height": 321
        },
        "id": "nPB0oA_0QOZ2",
        "outputId": "7f7f1739-aae0-41fc-f15a-9771d7e6cd27"
      },
      "source": [
        "train_data.Sex.bool\n",
        "ax = sns.boxplot( x = 'Age', y = 'Survived', data = train_data , orient = 'h')\n",
        "ax.figure.set_size_inches(12, 4)\n",
        "ax.set_title('Survived x Age', fontsize=18)\n",
        "ax.set_xlabel('Years', fontsize=14)\n",
        "ax.set_yticklabels(['Not Survived','Survived'])\n",
        "ax"
      ],
      "execution_count": 44,
      "outputs": [
        {
          "output_type": "execute_result",
          "data": {
            "text/plain": [
              "<matplotlib.axes._subplots.AxesSubplot at 0x7f469ea3e150>"
            ]
          },
          "metadata": {
            "tags": []
          },
          "execution_count": 44
        },
        {
          "output_type": "display_data",
          "data": {
            "image/png": "[encoded data removed]",
            "text/plain": [
              "<Figure size 864x288 with 1 Axes>"
            ]
          },
          "metadata": {
            "tags": [],
            "needs_background": "light"
          }
        }
      ]
    },
    {
      "cell_type": "code",
      "metadata": {
        "execution": {
          "iopub.status.busy": "2021-07-23T02:17:13.17443Z",
          "iopub.execute_input": "2021-07-23T02:17:13.174708Z",
          "iopub.status.idle": "2021-07-23T02:17:13.455046Z",
          "shell.execute_reply.started": "2021-07-23T02:17:13.174682Z",
          "shell.execute_reply": "2021-07-23T02:17:13.454088Z"
        },
        "trusted": true,
        "colab": {
          "base_uri": "https://localhost:8080/",
          "height": 430
        },
        "id": "lblL3VIfQOZ3",
        "outputId": "50452446-0522-4ed2-8424-e7494965f609"
      },
      "source": [
        "sobreviveram = train_data[train_data.Survived == 1]\n",
        "morreram = train_data[train_data.Survived == 0]\n",
        "cores = {'Survived': 'g','Die': 'r', 'All': 'b'}\n",
        "\n",
        "ax = sns.kdeplot(sobreviveram.Pclass, color='g')\n",
        "ax = sns.kdeplot(morreram.Pclass, color='r')\n",
        "ax = sns.kdeplot(train_data.Pclass, color='b')\n",
        "\n",
        "ax.figure.set_size_inches(12, 6)\n",
        "ax.set_title('Frequency Distribution - Pclass - KDE', fontsize=18)\n",
        "ax.set_xlabel('Pclass', fontsize=14)\n",
        "ax.legend(cores, fontsize=20)\n",
        "ax"
      ],
      "execution_count": 45,
      "outputs": [
        {
          "output_type": "execute_result",
          "data": {
            "text/plain": [
              "<matplotlib.axes._subplots.AxesSubplot at 0x7f4692f5b650>"
            ]
          },
          "metadata": {
            "tags": []
          },
          "execution_count": 45
        },
        {
          "output_type": "display_data",
          "data": {
            "image/png": "[encoded data removed]",
            "text/plain": [
              "<Figure size 864x432 with 1 Axes>"
            ]
          },
          "metadata": {
            "tags": [],
            "needs_background": "light"
          }
        }
      ]
    },
    {
      "cell_type": "code",
      "metadata": {
        "execution": {
          "iopub.status.busy": "2021-07-23T02:17:13.456233Z",
          "iopub.execute_input": "2021-07-23T02:17:13.456528Z",
          "iopub.status.idle": "2021-07-23T02:17:13.583178Z",
          "shell.execute_reply.started": "2021-07-23T02:17:13.456498Z",
          "shell.execute_reply": "2021-07-23T02:17:13.582224Z"
        },
        "trusted": true,
        "colab": {
          "base_uri": "https://localhost:8080/",
          "height": 358
        },
        "id": "YimG2GMyQOZ3",
        "outputId": "47716035-84c9-4a48-a552-eb87de3caa3c"
      },
      "source": [
        "fig = plt.figure(figsize=(5,4))\n",
        "eixo = fig.add_axes([0,0,1,1])\n",
        "\n",
        "eixo.pie(train_data.groupby('Sex').PassengerId.count(), labels=['man', 'women'],\n",
        "         autopct='%.1f%%',explode=[0.1,0], shadow=True)\n",
        "eixo.set_title('Percentage of passengers by sex', size=15, pad=10)"
      ],
      "execution_count": 46,
      "outputs": [
        {
          "output_type": "execute_result",
          "data": {
            "text/plain": [
              "Text(0.5, 1.0, 'Percentage of passengers by sex')"
            ]
          },
          "metadata": {
            "tags": []
          },
          "execution_count": 46
        },
        {
          "output_type": "display_data",
          "data": {
            "image/png": "[encoded data removed]",
            "text/plain": [
              "<Figure size 360x288 with 1 Axes>"
            ]
          },
          "metadata": {
            "tags": []
          }
        }
      ]
    },
    {
      "cell_type": "code",
      "metadata": {
        "execution": {
          "iopub.status.busy": "2021-07-23T02:17:13.584509Z",
          "iopub.execute_input": "2021-07-23T02:17:13.584794Z",
          "iopub.status.idle": "2021-07-23T02:17:13.750222Z",
          "shell.execute_reply.started": "2021-07-23T02:17:13.584767Z",
          "shell.execute_reply": "2021-07-23T02:17:13.749206Z"
        },
        "trusted": true,
        "colab": {
          "base_uri": "https://localhost:8080/",
          "height": 358
        },
        "id": "Tu9P_wEjQOZ4",
        "outputId": "96c2fbd3-257d-4e12-c88e-75ae6240fa9f"
      },
      "source": [
        "fig = plt.figure(figsize=(5,4))\n",
        "eixo = fig.add_axes([0,0,1,1])\n",
        "eixo.pie(train_data.groupby(['Sex', 'Survived']).Survived.count(),labels=['Not Survived W.', 'Survived W.','Not Survived M.','Survived M.'],\n",
        "         autopct='%.1f%%',explode=[0.1,0.1,0,0], shadow=True)\n",
        "eixo.set_title('Total survivors and deaths by sex', size=15, pad=10)"
      ],
      "execution_count": 47,
      "outputs": [
        {
          "output_type": "execute_result",
          "data": {
            "text/plain": [
              "Text(0.5, 1.0, 'Total survivors and deaths by sex')"
            ]
          },
          "metadata": {
            "tags": []
          },
          "execution_count": 47
        },
        {
          "output_type": "display_data",
          "data": {
            "image/png": "[encoded data removed]",
            "text/plain": [
              "<Figure size 360x288 with 1 Axes>"
            ]
          },
          "metadata": {
            "tags": []
          }
        }
      ]
    },
    {
      "cell_type": "code",
      "metadata": {
        "execution": {
          "iopub.status.busy": "2021-07-23T02:17:13.751409Z",
          "iopub.execute_input": "2021-07-23T02:17:13.751734Z",
          "iopub.status.idle": "2021-07-23T02:17:13.761779Z",
          "shell.execute_reply.started": "2021-07-23T02:17:13.751705Z",
          "shell.execute_reply": "2021-07-23T02:17:13.76073Z"
        },
        "trusted": true,
        "colab": {
          "base_uri": "https://localhost:8080/"
        },
        "id": "viI1siWMQOZ4",
        "outputId": "cfe93ba7-d75f-4647-c94c-c29938da8076"
      },
      "source": [
        "train_data.groupby(['Sex', 'Survived']).Survived.count()"
      ],
      "execution_count": 48,
      "outputs": [
        {
          "output_type": "execute_result",
          "data": {
            "text/plain": [
              "Sex     Survived\n",
              "female  0            81\n",
              "        1           233\n",
              "male    0           468\n",
              "        1           109\n",
              "Name: Survived, dtype: int64"
            ]
          },
          "metadata": {
            "tags": []
          },
          "execution_count": 48
        }
      ]
    },
    {
      "cell_type": "code",
      "metadata": {
        "execution": {
          "iopub.status.busy": "2021-07-23T02:17:13.763268Z",
          "iopub.execute_input": "2021-07-23T02:17:13.763563Z",
          "iopub.status.idle": "2021-07-23T02:17:13.803201Z",
          "shell.execute_reply.started": "2021-07-23T02:17:13.763536Z",
          "shell.execute_reply": "2021-07-23T02:17:13.802415Z"
        },
        "trusted": true,
        "colab": {
          "base_uri": "https://localhost:8080/",
          "height": 155
        },
        "id": "FU5_1xV4QOZ4",
        "outputId": "c0acc192-21be-483e-a375-89c8c99ec28e"
      },
      "source": [
        "women = train_data.query('Sex == \"female\"')\n",
        "women_survived = len(women.query('Survived == 1'))\n",
        "women_survived_percent = (women_survived)/(women.shape[0])\n",
        "print('Total of women: {}, total of survived women: {:.4%}({})'.format(women.shape[0],\n",
        "                                                                   women_survived_percent,\n",
        "                                                                   women_survived))\n",
        "\n",
        "Survive = {0: 'No',\n",
        "           1: 'Yes'}\n",
        "\n",
        "Class = {1: '1º - Class',\n",
        "         2: '2º - Class',\n",
        "         3: '3º - Class'}\n",
        "df_women_percent = pd.crosstab(women.Survived,\n",
        "                               women.Pclass,\n",
        "                               normalize = True) * 100\n",
        "df_women_percent.rename(index = Survive, inplace = True)\n",
        "df_women_percent.rename(columns = Class, inplace = True)\n",
        "df_women_percent"
      ],
      "execution_count": 49,
      "outputs": [
        {
          "output_type": "stream",
          "text": [
            "Total of women: 314, total of survived women: 74.2038%(233)\n"
          ],
          "name": "stdout"
        },
        {
          "output_type": "execute_result",
          "data": {
            "text/html": [
              "<div>\n",
              "<style scoped>\n",
              "    .dataframe tbody tr th:only-of-type {\n",
              "        vertical-align: middle;\n",
              "    }\n",
              "\n",
              "    .dataframe tbody tr th {\n",
              "        vertical-align: top;\n",
              "    }\n",
              "\n",
              "    .dataframe thead th {\n",
              "        text-align: right;\n",
              "    }\n",
              "</style>\n",
              "<table border=\"1\" class=\"dataframe\">\n",
              "  <thead>\n",
              "    <tr style=\"text-align: right;\">\n",
              "      <th>Pclass</th>\n",
              "      <th>1º - Class</th>\n",
              "      <th>2º - Class</th>\n",
              "      <th>3º - Class</th>\n",
              "    </tr>\n",
              "    <tr>\n",
              "      <th>Survived</th>\n",
              "      <th></th>\n",
              "      <th></th>\n",
              "      <th></th>\n",
              "    </tr>\n",
              "  </thead>\n",
              "  <tbody>\n",
              "    <tr>\n",
              "      <th>No</th>\n",
              "      <td>0.955414</td>\n",
              "      <td>1.910828</td>\n",
              "      <td>22.929936</td>\n",
              "    </tr>\n",
              "    <tr>\n",
              "      <th>Yes</th>\n",
              "      <td>28.980892</td>\n",
              "      <td>22.292994</td>\n",
              "      <td>22.929936</td>\n",
              "    </tr>\n",
              "  </tbody>\n",
              "</table>\n",
              "</div>"
            ],
            "text/plain": [
              "Pclass    1º - Class  2º - Class  3º - Class\n",
              "Survived                                    \n",
              "No          0.955414    1.910828   22.929936\n",
              "Yes        28.980892   22.292994   22.929936"
            ]
          },
          "metadata": {
            "tags": []
          },
          "execution_count": 49
        }
      ]
    },
    {
      "cell_type": "code",
      "metadata": {
        "execution": {
          "iopub.status.busy": "2021-07-23T02:17:13.804382Z",
          "iopub.execute_input": "2021-07-23T02:17:13.804835Z",
          "iopub.status.idle": "2021-07-23T02:17:13.86549Z",
          "shell.execute_reply.started": "2021-07-23T02:17:13.804799Z",
          "shell.execute_reply": "2021-07-23T02:17:13.864725Z"
        },
        "trusted": true,
        "colab": {
          "base_uri": "https://localhost:8080/",
          "height": 347
        },
        "id": "onY6wYxJQOZ5",
        "outputId": "eafc5051-f755-422f-a7eb-32101c067ac9"
      },
      "source": [
        "women.groupby(['Pclass','Embarked']).Age.describe()"
      ],
      "execution_count": 50,
      "outputs": [
        {
          "output_type": "execute_result",
          "data": {
            "text/html": [
              "<div>\n",
              "<style scoped>\n",
              "    .dataframe tbody tr th:only-of-type {\n",
              "        vertical-align: middle;\n",
              "    }\n",
              "\n",
              "    .dataframe tbody tr th {\n",
              "        vertical-align: top;\n",
              "    }\n",
              "\n",
              "    .dataframe thead th {\n",
              "        text-align: right;\n",
              "    }\n",
              "</style>\n",
              "<table border=\"1\" class=\"dataframe\">\n",
              "  <thead>\n",
              "    <tr style=\"text-align: right;\">\n",
              "      <th></th>\n",
              "      <th></th>\n",
              "      <th>count</th>\n",
              "      <th>mean</th>\n",
              "      <th>std</th>\n",
              "      <th>min</th>\n",
              "      <th>25%</th>\n",
              "      <th>50%</th>\n",
              "      <th>75%</th>\n",
              "      <th>max</th>\n",
              "    </tr>\n",
              "    <tr>\n",
              "      <th>Pclass</th>\n",
              "      <th>Embarked</th>\n",
              "      <th></th>\n",
              "      <th></th>\n",
              "      <th></th>\n",
              "      <th></th>\n",
              "      <th></th>\n",
              "      <th></th>\n",
              "      <th></th>\n",
              "      <th></th>\n",
              "    </tr>\n",
              "  </thead>\n",
              "  <tbody>\n",
              "    <tr>\n",
              "      <th rowspan=\"3\" valign=\"top\">1</th>\n",
              "      <th>C</th>\n",
              "      <td>43.0</td>\n",
              "      <td>35.930233</td>\n",
              "      <td>12.265700</td>\n",
              "      <td>16.00</td>\n",
              "      <td>24.00</td>\n",
              "      <td>35.0</td>\n",
              "      <td>44.00</td>\n",
              "      <td>60.0</td>\n",
              "    </tr>\n",
              "    <tr>\n",
              "      <th>Q</th>\n",
              "      <td>1.0</td>\n",
              "      <td>33.000000</td>\n",
              "      <td>NaN</td>\n",
              "      <td>33.00</td>\n",
              "      <td>33.00</td>\n",
              "      <td>33.0</td>\n",
              "      <td>33.00</td>\n",
              "      <td>33.0</td>\n",
              "    </tr>\n",
              "    <tr>\n",
              "      <th>S</th>\n",
              "      <td>50.0</td>\n",
              "      <td>33.580000</td>\n",
              "      <td>13.639813</td>\n",
              "      <td>2.00</td>\n",
              "      <td>22.25</td>\n",
              "      <td>35.0</td>\n",
              "      <td>39.75</td>\n",
              "      <td>63.0</td>\n",
              "    </tr>\n",
              "    <tr>\n",
              "      <th rowspan=\"3\" valign=\"top\">2</th>\n",
              "      <th>C</th>\n",
              "      <td>7.0</td>\n",
              "      <td>19.142857</td>\n",
              "      <td>8.706866</td>\n",
              "      <td>3.00</td>\n",
              "      <td>15.50</td>\n",
              "      <td>22.0</td>\n",
              "      <td>25.00</td>\n",
              "      <td>28.0</td>\n",
              "    </tr>\n",
              "    <tr>\n",
              "      <th>Q</th>\n",
              "      <td>2.0</td>\n",
              "      <td>29.500000</td>\n",
              "      <td>0.707107</td>\n",
              "      <td>29.00</td>\n",
              "      <td>29.25</td>\n",
              "      <td>29.5</td>\n",
              "      <td>29.75</td>\n",
              "      <td>30.0</td>\n",
              "    </tr>\n",
              "    <tr>\n",
              "      <th>S</th>\n",
              "      <td>67.0</td>\n",
              "      <td>29.708955</td>\n",
              "      <td>12.870317</td>\n",
              "      <td>2.00</td>\n",
              "      <td>24.00</td>\n",
              "      <td>29.0</td>\n",
              "      <td>37.00</td>\n",
              "      <td>57.0</td>\n",
              "    </tr>\n",
              "    <tr>\n",
              "      <th rowspan=\"3\" valign=\"top\">3</th>\n",
              "      <th>C</th>\n",
              "      <td>23.0</td>\n",
              "      <td>16.478261</td>\n",
              "      <td>10.328940</td>\n",
              "      <td>0.75</td>\n",
              "      <td>11.00</td>\n",
              "      <td>17.0</td>\n",
              "      <td>22.00</td>\n",
              "      <td>45.0</td>\n",
              "    </tr>\n",
              "    <tr>\n",
              "      <th>Q</th>\n",
              "      <td>33.0</td>\n",
              "      <td>22.257576</td>\n",
              "      <td>4.351941</td>\n",
              "      <td>15.00</td>\n",
              "      <td>22.00</td>\n",
              "      <td>22.0</td>\n",
              "      <td>22.00</td>\n",
              "      <td>39.0</td>\n",
              "    </tr>\n",
              "    <tr>\n",
              "      <th>S</th>\n",
              "      <td>88.0</td>\n",
              "      <td>23.056818</td>\n",
              "      <td>12.043368</td>\n",
              "      <td>1.00</td>\n",
              "      <td>18.00</td>\n",
              "      <td>22.0</td>\n",
              "      <td>29.25</td>\n",
              "      <td>63.0</td>\n",
              "    </tr>\n",
              "  </tbody>\n",
              "</table>\n",
              "</div>"
            ],
            "text/plain": [
              "                 count       mean        std    min    25%   50%    75%   max\n",
              "Pclass Embarked                                                              \n",
              "1      C          43.0  35.930233  12.265700  16.00  24.00  35.0  44.00  60.0\n",
              "       Q           1.0  33.000000        NaN  33.00  33.00  33.0  33.00  33.0\n",
              "       S          50.0  33.580000  13.639813   2.00  22.25  35.0  39.75  63.0\n",
              "2      C           7.0  19.142857   8.706866   3.00  15.50  22.0  25.00  28.0\n",
              "       Q           2.0  29.500000   0.707107  29.00  29.25  29.5  29.75  30.0\n",
              "       S          67.0  29.708955  12.870317   2.00  24.00  29.0  37.00  57.0\n",
              "3      C          23.0  16.478261  10.328940   0.75  11.00  17.0  22.00  45.0\n",
              "       Q          33.0  22.257576   4.351941  15.00  22.00  22.0  22.00  39.0\n",
              "       S          88.0  23.056818  12.043368   1.00  18.00  22.0  29.25  63.0"
            ]
          },
          "metadata": {
            "tags": []
          },
          "execution_count": 50
        }
      ]
    },
    {
      "cell_type": "code",
      "metadata": {
        "execution": {
          "iopub.status.busy": "2021-07-23T02:17:13.866702Z",
          "iopub.execute_input": "2021-07-23T02:17:13.867169Z",
          "iopub.status.idle": "2021-07-23T02:17:13.906301Z",
          "shell.execute_reply.started": "2021-07-23T02:17:13.86712Z",
          "shell.execute_reply": "2021-07-23T02:17:13.905305Z"
        },
        "trusted": true,
        "colab": {
          "base_uri": "https://localhost:8080/",
          "height": 155
        },
        "id": "Sugzhw3aQOZ5",
        "outputId": "ac9742b0-576b-4600-fa38-998c345e6fa9"
      },
      "source": [
        "men = train_data.query('Sex == \"male\"')\n",
        "men_survived = len(men.query('Survived == 1'))\n",
        "men_survived_percent = (men_survived)/(men.shape[0])\n",
        "print('Total of men: {}, total of survived men: {:.4%}({})'.format(men.shape[0],\n",
        "                                                                   men_survived_percent,\n",
        "                                                                   men_survived))\n",
        "\n",
        "\n",
        "df_men_percent = pd.crosstab(men.Survived,\n",
        "                               men.Pclass,\n",
        "                               normalize = True) * 100\n",
        "df_men_percent.rename(index = Survive, inplace = True)\n",
        "df_men_percent.rename(columns = Class, inplace = True)\n",
        "df_men_percent"
      ],
      "execution_count": 51,
      "outputs": [
        {
          "output_type": "stream",
          "text": [
            "Total of men: 577, total of survived men: 18.8908%(109)\n"
          ],
          "name": "stdout"
        },
        {
          "output_type": "execute_result",
          "data": {
            "text/html": [
              "<div>\n",
              "<style scoped>\n",
              "    .dataframe tbody tr th:only-of-type {\n",
              "        vertical-align: middle;\n",
              "    }\n",
              "\n",
              "    .dataframe tbody tr th {\n",
              "        vertical-align: top;\n",
              "    }\n",
              "\n",
              "    .dataframe thead th {\n",
              "        text-align: right;\n",
              "    }\n",
              "</style>\n",
              "<table border=\"1\" class=\"dataframe\">\n",
              "  <thead>\n",
              "    <tr style=\"text-align: right;\">\n",
              "      <th>Pclass</th>\n",
              "      <th>1º - Class</th>\n",
              "      <th>2º - Class</th>\n",
              "      <th>3º - Class</th>\n",
              "    </tr>\n",
              "    <tr>\n",
              "      <th>Survived</th>\n",
              "      <th></th>\n",
              "      <th></th>\n",
              "      <th></th>\n",
              "    </tr>\n",
              "  </thead>\n",
              "  <tbody>\n",
              "    <tr>\n",
              "      <th>No</th>\n",
              "      <td>13.344887</td>\n",
              "      <td>15.771231</td>\n",
              "      <td>51.993068</td>\n",
              "    </tr>\n",
              "    <tr>\n",
              "      <th>Yes</th>\n",
              "      <td>7.798960</td>\n",
              "      <td>2.946274</td>\n",
              "      <td>8.145581</td>\n",
              "    </tr>\n",
              "  </tbody>\n",
              "</table>\n",
              "</div>"
            ],
            "text/plain": [
              "Pclass    1º - Class  2º - Class  3º - Class\n",
              "Survived                                    \n",
              "No         13.344887   15.771231   51.993068\n",
              "Yes         7.798960    2.946274    8.145581"
            ]
          },
          "metadata": {
            "tags": []
          },
          "execution_count": 51
        }
      ]
    },
    {
      "cell_type": "code",
      "metadata": {
        "execution": {
          "iopub.status.busy": "2021-07-23T02:17:13.907821Z",
          "iopub.execute_input": "2021-07-23T02:17:13.90818Z",
          "iopub.status.idle": "2021-07-23T02:17:14.008773Z",
          "shell.execute_reply.started": "2021-07-23T02:17:13.908147Z",
          "shell.execute_reply": "2021-07-23T02:17:14.007726Z"
        },
        "trusted": true,
        "colab": {
          "base_uri": "https://localhost:8080/",
          "height": 542
        },
        "id": "MSMs12aDQOZ5",
        "outputId": "e934e854-09c3-4ee2-bd71-1d33059a5309"
      },
      "source": [
        "import plotly.graph_objects as go\n",
        "import numpy as np\n",
        "Series_1 = train_data.query('Survived == 1')\n",
        "Series_2 = train_data.query('Survived == 0')\n",
        "fig = go.Figure()\n",
        "fig.add_trace(go.Scatter3d(x=Series_1['PassengerId'], \n",
        "                           y=Series_1['Age'], z=Series_1['Pclass'],name='Survived', \n",
        "                           mode='markers', \n",
        "                           marker=dict(size=5,\n",
        "                           color='green',                # set color to an array/list of desired values\n",
        "                           colorscale='Viridis',   # choose a colorscale\n",
        "                           opacity=0.8),\n",
        "                           text= 'agrupador'))\n",
        "\n",
        "fig.add_trace(go.Scatter3d(x=Series_2['PassengerId'], \n",
        "                           y=Series_2['Age'], z=Series_2['Pclass'],name='Not Survived', \n",
        "                           mode='markers', \n",
        "                           marker=dict(size=5,\n",
        "                           color='red',                # set color to an array/list of desired values\n",
        "                           colorscale='Viridis',   # choose a colorscale\n",
        "                           opacity=0.8),\n",
        "                           text= 'agrupador'))\n",
        "\n",
        "fig.update_layout(scene=dict(xaxis_title='PassengerId',\n",
        "                             yaxis_title='Age', zaxis_title='Pclass'))\n",
        "\n",
        "fig.update_layout(scene = dict(\n",
        "                    zaxis = dict(\n",
        "                        ticktext= ['1º - Class','2º - Class','3º - Class'],\n",
        "                        tickvals= [1, 2, 3]))                    \n",
        "                  )\n",
        "\n",
        "\n",
        "fig.show()"
      ],
      "execution_count": 52,
      "outputs": [
        {
          "output_type": "display_data",
          "data": {
            "text/html": [
              "<html>\n",
              "<head><meta charset=\"utf-8\" /></head>\n",
              "<body>\n",
              "    <div>\n",
              "            <script src=\"https://cdnjs.cloudflare.com/ajax/libs/mathjax/2.7.5/MathJax.js?config=TeX-AMS-MML_SVG\"></script><script type=\"text/javascript\">if (window.MathJax) {MathJax.Hub.Config({SVG: {font: \"STIX-Web\"}});}</script>\n",
              "                <script type=\"text/javascript\">window.PlotlyConfig = {MathJaxConfig: 'local'};</script>\n",
              "        <script src=\"https://cdn.plot.ly/plotly-latest.min.js\"></script>    \n",
              "            <div id=\"5bc6b89c-9c2e-4287-a697-ddb41eac9513\" class=\"plotly-graph-div\" style=\"height:525px; width:100%;\"></div>\n",
              "            <script type=\"text/javascript\">\n",
              "                \n",
              "                    window.PLOTLYENV=window.PLOTLYENV || {};\n",
              "                    \n",
              "                if (document.getElementById(\"5bc6b89c-9c2e-4287-a697-ddb41eac9513\")) {\n",
              "                    Plotly.newPlot(\n",
              "                        '5bc6b89c-9c2e-4287-a697-ddb41eac9513',\n",
              "                        [{\"marker\": {\"color\": \"green\", \"colorscale\": [[0.0, \"#440154\"], [0.1111111111111111, \"#482878\"], [0.2222222222222222, \"#3e4989\"], [0.3333333333333333, \"#31688e\"], [0.4444444444444444, \"#26828e\"], [0.5555555555555556, \"#1f9e89\"], [0.6666666666666666, \"#35b779\"], [0.7777777777777778, \"#6ece58\"], [0.8888888888888888, \"#b5de2b\"], [1.0, \"#fde725\"]], \"opacity\": 0.8, \"size\": 5}, \"mode\": \"markers\", \"name\": \"Survived\", \"text\": \"agrupador\", \"type\": \"scatter3d\", \"x\": [2, 3, 4, 9, 10, 11, 12, 16, 18, 20, 22, 23, 24, 26, 29, 32, 33, 37, 40, 44, 45, 48, 53, 54, 56, 57, 59, 62, 66, 67, 69, 75, 79, 80, 82, 83, 85, 86, 89, 98, 99, 107, 108, 110, 124, 126, 128, 129, 134, 137, 142, 143, 147, 152, 157, 162, 166, 167, 173, 184, 185, 187, 188, 191, 193, 194, 195, 196, 199, 205, 208, 209, 210, 212, 216, 217, 219, 221, 225, 227, 231, 234, 238, 242, 248, 249, 256, 257, 258, 259, 260, 262, 268, 269, 270, 272, 273, 275, 276, 280, 284, 287, 289, 290, 291, 292, 299, 300, 301, 302, 304, 306, 307, 308, 310, 311, 312, 316, 317, 319, 320, 323, 324, 326, 328, 329, 330, 331, 335, 338, 339, 341, 342, 346, 347, 348, 349, 357, 359, 360, 367, 368, 369, 370, 371, 376, 377, 381, 382, 384, 388, 390, 391, 392, 394, 395, 400, 401, 408, 413, 415, 417, 418, 427, 428, 430, 431, 432, 433, 436, 438, 441, 444, 445, 446, 447, 448, 449, 450, 454, 456, 458, 459, 461, 470, 473, 474, 480, 484, 485, 487, 490, 497, 505, 507, 508, 510, 511, 513, 514, 517, 519, 521, 524, 527, 531, 534, 536, 538, 540, 541, 544, 547, 548, 550, 551, 554, 555, 557, 559, 560, 570, 571, 572, 573, 574, 577, 578, 580, 581, 582, 586, 588, 592, 597, 600, 601, 605, 608, 609, 610, 613, 616, 619, 622, 623, 628, 631, 633, 636, 642, 644, 645, 646, 648, 650, 652, 654, 661, 665, 670, 671, 674, 678, 680, 682, 690, 691, 692, 693, 698, 701, 702, 707, 708, 709, 710, 711, 713, 717, 718, 721, 725, 727, 728, 731, 738, 741, 743, 745, 748, 751, 752, 755, 756, 760, 763, 764, 766, 775, 778, 780, 781, 782, 787, 789, 797, 798, 802, 803, 804, 805, 810, 821, 822, 824, 828, 829, 830, 831, 832, 836, 839, 840, 843, 850, 854, 856, 857, 858, 859, 863, 866, 867, 870, 872, 875, 876, 880, 881, 888, 890], \"y\": [38.0, 26.0, 35.0, 27.0, 14.0, 4.0, 58.0, 55.0, 31.0, 22.0, 34.0, 15.0, 28.0, 38.0, 22.0, 35.0, 22.0, 27.0, 14.0, 3.0, 19.0, 22.0, 49.0, 29.0, 41.0, 21.0, 5.0, 38.0, 27.0, 29.0, 17.0, 32.0, 0.83, 30.0, 29.0, 22.0, 17.0, 33.0, 23.0, 23.0, 34.0, 21.0, 27.0, 22.0, 32.5, 12.0, 24.0, 22.0, 29.0, 19.0, 22.0, 24.0, 27.0, 22.0, 16.0, 40.0, 9.0, 35.0, 1.0, 1.0, 4.0, 22.0, 45.0, 32.0, 19.0, 3.0, 44.0, 58.0, 22.0, 18.0, 26.0, 16.0, 40.0, 35.0, 31.0, 27.0, 32.0, 16.0, 38.0, 19.0, 35.0, 5.0, 8.0, 22.0, 24.0, 37.0, 29.0, 35.0, 30.0, 35.0, 50.0, 3.0, 25.0, 58.0, 35.0, 25.0, 41.0, 22.0, 63.0, 35.0, 19.0, 30.0, 42.0, 22.0, 26.0, 19.0, 41.0, 50.0, 22.0, 27.0, 29.0, 0.92, 35.0, 17.0, 30.0, 24.0, 18.0, 26.0, 24.0, 31.0, 40.0, 30.0, 22.0, 36.0, 36.0, 31.0, 16.0, 22.0, 35.0, 41.0, 45.0, 2.0, 24.0, 24.0, 40.0, 22.0, 3.0, 22.0, 22.0, 22.0, 60.0, 22.0, 22.0, 24.0, 25.0, 35.0, 22.0, 42.0, 1.0, 35.0, 36.0, 17.0, 36.0, 21.0, 23.0, 24.0, 28.0, 39.0, 3.0, 33.0, 44.0, 34.0, 18.0, 28.0, 19.0, 32.0, 28.0, 22.0, 42.0, 14.0, 24.0, 45.0, 28.0, 27.0, 4.0, 13.0, 34.0, 5.0, 52.0, 49.0, 29.0, 35.0, 50.0, 48.0, 0.75, 33.0, 23.0, 2.0, 63.0, 25.0, 35.0, 9.0, 54.0, 16.0, 33.0, 41.0, 26.0, 29.0, 36.0, 54.0, 34.0, 36.0, 30.0, 44.0, 50.0, 2.0, 22.0, 7.0, 30.0, 22.0, 36.0, 32.0, 19.0, 31.0, 8.0, 17.0, 22.0, 22.0, 48.0, 39.0, 36.0, 32.0, 62.0, 53.0, 36.0, 22.0, 34.0, 39.0, 32.0, 25.0, 39.0, 18.0, 60.0, 52.0, 29.0, 49.0, 24.0, 35.0, 27.0, 22.0, 40.0, 22.0, 24.0, 4.0, 42.0, 20.0, 21.0, 80.0, 32.0, 28.0, 24.0, 27.0, 0.75, 48.0, 56.0, 23.0, 18.0, 22.0, 50.0, 20.0, 35.0, 40.0, 31.0, 18.0, 36.0, 27.0, 15.0, 31.0, 4.0, 27.0, 22.0, 18.0, 35.0, 45.0, 42.0, 22.0, 27.0, 24.0, 48.0, 38.0, 27.0, 6.0, 27.0, 30.0, 22.0, 29.0, 35.0, 41.0, 21.0, 31.0, 30.0, 4.0, 6.0, 48.0, 0.67, 33.0, 20.0, 36.0, 51.0, 54.0, 5.0, 43.0, 13.0, 17.0, 18.0, 1.0, 49.0, 31.0, 31.0, 11.0, 0.42, 27.0, 33.0, 52.0, 27.0, 27.0, 1.0, 27.0, 62.0, 15.0, 0.83, 39.0, 32.0, 41.0, 30.0, 35.0, 16.0, 18.0, 45.0, 51.0, 24.0, 48.0, 42.0, 27.0, 4.0, 47.0, 28.0, 15.0, 56.0, 25.0, 19.0, 26.0], \"z\": [1, 3, 1, 3, 2, 3, 1, 2, 2, 3, 2, 3, 1, 3, 3, 1, 3, 3, 3, 2, 3, 3, 1, 2, 1, 2, 2, 1, 3, 2, 3, 3, 2, 3, 3, 3, 2, 3, 1, 1, 2, 3, 3, 3, 2, 3, 3, 3, 2, 1, 3, 3, 3, 1, 3, 2, 3, 1, 3, 2, 3, 3, 1, 2, 3, 2, 1, 1, 3, 3, 3, 3, 1, 2, 1, 3, 1, 3, 1, 2, 1, 3, 2, 3, 2, 1, 3, 1, 1, 1, 2, 3, 3, 1, 1, 3, 2, 3, 1, 3, 3, 3, 2, 3, 1, 1, 1, 1, 3, 3, 2, 1, 1, 1, 1, 1, 1, 3, 2, 1, 1, 2, 2, 1, 2, 3, 1, 3, 1, 1, 3, 2, 1, 2, 2, 3, 3, 1, 3, 3, 1, 3, 3, 1, 1, 1, 3, 1, 3, 1, 2, 2, 1, 3, 1, 3, 2, 3, 2, 1, 3, 2, 2, 2, 2, 3, 1, 3, 2, 1, 2, 2, 2, 3, 1, 2, 1, 3, 1, 1, 3, 1, 2, 1, 3, 2, 2, 3, 3, 1, 1, 3, 1, 1, 2, 1, 3, 3, 1, 1, 2, 2, 1, 1, 2, 2, 3, 2, 1, 1, 1, 2, 2, 2, 2, 1, 3, 3, 1, 1, 3, 3, 2, 1, 1, 3, 2, 1, 3, 2, 1, 1, 1, 1, 2, 1, 2, 1, 1, 2, 1, 3, 2, 2, 1, 3, 1, 1, 1, 2, 1, 3, 3, 1, 1, 3, 2, 3, 1, 3, 1, 2, 2, 3, 1, 1, 1, 1, 3, 3, 3, 1, 1, 2, 1, 1, 3, 1, 1, 1, 2, 2, 1, 2, 3, 1, 1, 1, 1, 3, 2, 2, 3, 2, 2, 1, 3, 1, 1, 2, 3, 1, 3, 1, 3, 3, 1, 3, 2, 1, 3, 3, 1, 1, 3, 3, 2, 3, 1, 3, 2, 1, 3, 1, 1, 1, 1, 3, 1, 1, 3, 1, 2, 2, 3, 1, 2, 3, 1, 2, 1, 1]}, {\"marker\": {\"color\": \"red\", \"colorscale\": [[0.0, \"#440154\"], [0.1111111111111111, \"#482878\"], [0.2222222222222222, \"#3e4989\"], [0.3333333333333333, \"#31688e\"], [0.4444444444444444, \"#26828e\"], [0.5555555555555556, \"#1f9e89\"], [0.6666666666666666, \"#35b779\"], [0.7777777777777778, \"#6ece58\"], [0.8888888888888888, \"#b5de2b\"], [1.0, \"#fde725\"]], \"opacity\": 0.8, \"size\": 5}, \"mode\": \"markers\", \"name\": \"Not Survived\", \"text\": \"agrupador\", \"type\": \"scatter3d\", \"x\": [1, 5, 6, 7, 8, 13, 14, 15, 17, 19, 21, 25, 27, 28, 30, 31, 34, 35, 36, 38, 39, 41, 42, 43, 46, 47, 49, 50, 51, 52, 55, 58, 60, 61, 63, 64, 65, 68, 70, 71, 72, 73, 74, 76, 77, 78, 81, 84, 87, 88, 90, 91, 92, 93, 94, 95, 96, 97, 100, 101, 102, 103, 104, 105, 106, 109, 111, 112, 113, 114, 115, 116, 117, 118, 119, 120, 121, 122, 123, 125, 127, 130, 131, 132, 133, 135, 136, 138, 139, 140, 141, 144, 145, 146, 148, 149, 150, 151, 153, 154, 155, 156, 158, 159, 160, 161, 163, 164, 165, 168, 169, 170, 171, 172, 174, 175, 176, 177, 178, 179, 180, 181, 182, 183, 186, 189, 190, 192, 197, 198, 200, 201, 202, 203, 204, 206, 207, 211, 213, 214, 215, 218, 220, 222, 223, 224, 226, 228, 229, 230, 232, 233, 235, 236, 237, 239, 240, 241, 243, 244, 245, 246, 247, 250, 251, 252, 253, 254, 255, 261, 263, 264, 265, 266, 267, 271, 274, 277, 278, 279, 281, 282, 283, 285, 286, 288, 293, 294, 295, 296, 297, 298, 303, 305, 309, 313, 314, 315, 318, 321, 322, 325, 327, 332, 333, 334, 336, 337, 340, 343, 344, 345, 350, 351, 352, 353, 354, 355, 356, 358, 361, 362, 363, 364, 365, 366, 372, 373, 374, 375, 378, 379, 380, 383, 385, 386, 387, 389, 393, 396, 397, 398, 399, 402, 403, 404, 405, 406, 407, 409, 410, 411, 412, 414, 416, 419, 420, 421, 422, 423, 424, 425, 426, 429, 434, 435, 437, 439, 440, 442, 443, 451, 452, 453, 455, 457, 460, 462, 463, 464, 465, 466, 467, 468, 469, 471, 472, 475, 476, 477, 478, 479, 481, 482, 483, 486, 488, 489, 491, 492, 493, 494, 495, 496, 498, 499, 500, 501, 502, 503, 504, 506, 509, 512, 515, 516, 518, 520, 522, 523, 525, 526, 528, 529, 530, 532, 533, 535, 537, 539, 542, 543, 545, 546, 549, 552, 553, 556, 558, 561, 562, 563, 564, 565, 566, 567, 568, 569, 575, 576, 579, 583, 584, 585, 587, 589, 590, 591, 593, 594, 595, 596, 598, 599, 602, 603, 604, 606, 607, 611, 612, 614, 615, 617, 618, 620, 621, 624, 625, 626, 627, 629, 630, 632, 634, 635, 637, 638, 639, 640, 641, 643, 647, 649, 651, 653, 655, 656, 657, 658, 659, 660, 662, 663, 664, 666, 667, 668, 669, 672, 673, 675, 676, 677, 679, 681, 683, 684, 685, 686, 687, 688, 689, 694, 695, 696, 697, 699, 700, 703, 704, 705, 706, 712, 714, 715, 716, 719, 720, 722, 723, 724, 726, 729, 730, 732, 733, 734, 735, 736, 737, 739, 740, 742, 744, 746, 747, 749, 750, 753, 754, 757, 758, 759, 761, 762, 765, 767, 768, 769, 770, 771, 772, 773, 774, 776, 777, 779, 783, 784, 785, 786, 788, 790, 791, 792, 793, 794, 795, 796, 799, 800, 801, 806, 807, 808, 809, 811, 812, 813, 814, 815, 816, 817, 818, 819, 820, 823, 825, 826, 827, 833, 834, 835, 837, 838, 841, 842, 844, 845, 846, 847, 848, 849, 851, 852, 853, 855, 860, 861, 862, 864, 865, 868, 869, 871, 873, 874, 877, 878, 879, 882, 883, 884, 885, 886, 887, 889, 891], \"y\": [22.0, 35.0, 27.0, 54.0, 2.0, 20.0, 39.0, 14.0, 2.0, 31.0, 35.0, 8.0, 27.0, 19.0, 27.0, 40.0, 66.0, 28.0, 42.0, 21.0, 18.0, 40.0, 27.0, 27.0, 27.0, 27.0, 27.0, 18.0, 7.0, 21.0, 65.0, 28.5, 11.0, 22.0, 45.0, 4.0, 41.0, 19.0, 26.0, 32.0, 16.0, 21.0, 26.0, 25.0, 27.0, 27.0, 22.0, 28.0, 16.0, 27.0, 24.0, 29.0, 20.0, 46.0, 26.0, 59.0, 27.0, 71.0, 34.0, 28.0, 27.0, 21.0, 33.0, 37.0, 28.0, 38.0, 47.0, 14.5, 22.0, 20.0, 17.0, 21.0, 70.5, 29.0, 24.0, 2.0, 21.0, 27.0, 32.5, 54.0, 27.0, 45.0, 33.0, 20.0, 47.0, 25.0, 23.0, 37.0, 16.0, 24.0, 22.0, 19.0, 18.0, 19.0, 9.0, 36.5, 42.0, 51.0, 55.5, 40.5, 27.0, 51.0, 30.0, 27.0, 27.0, 44.0, 26.0, 17.0, 1.0, 45.0, 41.0, 28.0, 61.0, 4.0, 21.0, 56.0, 18.0, 27.0, 50.0, 30.0, 36.0, 22.0, 31.0, 9.0, 41.0, 40.0, 36.0, 19.0, 27.0, 42.0, 24.0, 28.0, 27.0, 34.0, 45.5, 2.0, 32.0, 24.0, 22.0, 30.0, 27.0, 42.0, 30.0, 27.0, 51.0, 27.0, 22.0, 20.5, 18.0, 22.0, 29.0, 59.0, 24.0, 22.0, 44.0, 19.0, 33.0, 22.0, 29.0, 22.0, 30.0, 44.0, 25.0, 54.0, 27.0, 29.0, 62.0, 30.0, 41.0, 27.0, 52.0, 40.0, 22.0, 36.0, 16.0, 41.0, 37.0, 45.0, 31.0, 7.0, 65.0, 28.0, 16.0, 41.0, 33.0, 22.0, 36.0, 24.0, 24.0, 41.0, 23.5, 2.0, 19.0, 27.0, 30.0, 26.0, 28.0, 43.0, 54.0, 22.0, 27.0, 27.0, 61.0, 45.5, 38.0, 16.0, 27.0, 29.0, 45.0, 28.0, 25.0, 36.0, 42.0, 23.0, 41.0, 15.0, 25.0, 27.0, 28.0, 38.0, 40.0, 29.0, 45.0, 35.0, 27.0, 30.0, 18.0, 19.0, 22.0, 3.0, 27.0, 20.0, 19.0, 32.0, 27.0, 18.0, 1.0, 27.0, 28.0, 22.0, 31.0, 46.0, 23.0, 26.0, 21.0, 28.0, 20.0, 34.0, 51.0, 21.0, 22.0, 27.0, 27.0, 31.0, 22.0, 30.0, 10.0, 27.0, 21.0, 29.0, 28.0, 18.0, 27.0, 27.0, 17.0, 50.0, 21.0, 64.0, 31.0, 20.0, 25.0, 36.0, 27.0, 30.0, 27.0, 65.0, 27.0, 34.0, 47.0, 48.0, 27.0, 38.0, 31.0, 56.0, 27.0, 27.0, 38.0, 22.0, 41.0, 34.0, 29.0, 22.0, 9.0, 31.0, 50.0, 22.0, 58.0, 30.0, 27.0, 21.0, 55.0, 71.0, 21.0, 27.0, 27.0, 25.0, 24.0, 17.0, 21.0, 22.0, 37.0, 18.0, 28.0, 27.0, 24.0, 47.0, 27.0, 32.0, 22.0, 27.0, 27.0, 40.5, 41.0, 39.0, 23.0, 27.0, 17.0, 30.0, 45.0, 27.0, 9.0, 11.0, 50.0, 64.0, 33.0, 27.0, 27.0, 62.0, 41.0, 27.0, 40.0, 28.0, 27.0, 22.0, 24.0, 19.0, 29.0, 27.0, 16.0, 19.0, 22.0, 54.0, 36.0, 27.0, 47.0, 22.0, 27.0, 35.0, 47.0, 22.0, 37.0, 36.0, 49.0, 27.0, 27.0, 41.0, 44.0, 36.0, 30.0, 39.0, 27.0, 27.0, 35.0, 34.0, 26.0, 26.0, 27.0, 21.0, 21.0, 61.0, 57.0, 26.0, 27.0, 51.0, 41.0, 9.0, 32.0, 31.0, 41.0, 27.0, 20.0, 2.0, 19.0, 27.0, 27.0, 21.0, 18.0, 24.0, 27.0, 32.0, 23.0, 58.0, 40.0, 47.0, 36.0, 32.0, 25.0, 27.0, 43.0, 31.0, 70.0, 31.0, 18.0, 24.5, 43.0, 22.0, 20.0, 14.0, 60.0, 25.0, 14.0, 19.0, 18.0, 25.0, 60.0, 52.0, 44.0, 49.0, 42.0, 18.0, 25.0, 26.0, 39.0, 41.0, 29.0, 52.0, 19.0, 27.0, 33.0, 17.0, 34.0, 50.0, 20.0, 25.0, 25.0, 11.0, 31.0, 23.0, 23.0, 28.5, 48.0, 27.0, 27.0, 36.0, 24.0, 70.0, 16.0, 19.0, 31.0, 33.0, 23.0, 28.0, 18.0, 34.0, 27.0, 41.0, 16.0, 41.0, 30.5, 27.0, 32.0, 24.0, 48.0, 57.0, 27.0, 18.0, 27.0, 27.0, 29.0, 27.0, 25.0, 25.0, 8.0, 46.0, 27.0, 16.0, 22.0, 41.0, 25.0, 39.0, 30.0, 30.0, 34.0, 31.0, 39.0, 18.0, 39.0, 26.0, 39.0, 35.0, 6.0, 30.5, 41.0, 23.0, 31.0, 43.0, 10.0, 38.0, 2.0, 27.0, 27.0, 27.0, 23.0, 18.0, 21.0, 27.0, 20.0, 16.0, 34.5, 17.0, 42.0, 27.0, 35.0, 28.0, 4.0, 74.0, 9.0, 44.0, 27.0, 41.0, 21.0, 22.0, 24.0, 31.0, 27.0, 26.0, 33.0, 47.0, 20.0, 19.0, 27.0, 33.0, 22.0, 28.0, 25.0, 39.0, 27.0, 22.0, 32.0], \"z\": [3, 3, 3, 1, 3, 3, 3, 3, 3, 3, 2, 3, 3, 1, 3, 1, 2, 1, 1, 3, 3, 3, 2, 3, 3, 3, 3, 3, 3, 3, 1, 3, 3, 3, 1, 3, 1, 3, 3, 2, 3, 2, 3, 3, 3, 3, 3, 1, 3, 3, 3, 3, 3, 1, 3, 3, 3, 1, 2, 3, 3, 1, 3, 3, 3, 3, 1, 3, 3, 3, 3, 3, 3, 2, 1, 3, 2, 3, 2, 1, 3, 3, 3, 3, 3, 2, 2, 1, 3, 1, 3, 3, 2, 2, 3, 2, 2, 2, 3, 3, 3, 1, 3, 3, 3, 3, 3, 3, 3, 3, 1, 3, 1, 3, 3, 1, 3, 3, 1, 2, 3, 3, 2, 3, 1, 3, 3, 2, 3, 3, 2, 3, 3, 3, 3, 3, 3, 3, 3, 2, 3, 2, 2, 2, 3, 3, 3, 3, 2, 3, 3, 2, 2, 3, 2, 2, 2, 3, 2, 3, 3, 1, 3, 2, 3, 3, 1, 3, 3, 3, 1, 1, 3, 2, 3, 1, 1, 3, 2, 3, 3, 3, 3, 1, 3, 3, 2, 3, 3, 1, 3, 1, 3, 3, 2, 2, 3, 2, 2, 3, 3, 3, 3, 1, 1, 3, 3, 1, 1, 2, 2, 2, 3, 3, 1, 3, 3, 3, 3, 2, 3, 2, 3, 3, 3, 3, 3, 3, 1, 3, 1, 3, 3, 3, 3, 2, 3, 3, 3, 3, 3, 2, 2, 3, 3, 3, 3, 2, 3, 3, 3, 3, 3, 2, 3, 2, 3, 3, 3, 3, 3, 3, 3, 3, 3, 1, 3, 1, 2, 3, 3, 2, 3, 1, 3, 1, 3, 3, 1, 2, 3, 3, 2, 1, 3, 3, 3, 3, 1, 2, 3, 3, 3, 2, 3, 3, 1, 3, 3, 3, 1, 1, 3, 3, 3, 1, 3, 3, 3, 3, 3, 1, 3, 3, 3, 1, 3, 3, 3, 3, 3, 3, 1, 3, 2, 3, 3, 3, 1, 3, 3, 3, 1, 1, 3, 2, 3, 1, 1, 3, 3, 2, 3, 3, 3, 3, 3, 3, 3, 3, 3, 2, 1, 3, 2, 3, 3, 3, 3, 3, 2, 3, 3, 3, 3, 1, 3, 3, 3, 3, 3, 3, 3, 3, 3, 2, 3, 3, 3, 1, 2, 3, 3, 3, 1, 3, 3, 2, 3, 3, 3, 3, 3, 3, 3, 3, 3, 2, 3, 3, 2, 1, 3, 1, 3, 2, 2, 3, 3, 1, 2, 2, 3, 3, 3, 3, 3, 3, 2, 2, 3, 3, 3, 3, 1, 2, 3, 1, 3, 3, 3, 3, 2, 1, 3, 2, 3, 3, 3, 3, 2, 2, 3, 2, 3, 3, 2, 2, 2, 3, 3, 3, 3, 1, 3, 1, 3, 1, 3, 3, 3, 3, 2, 3, 3, 3, 3, 1, 3, 3, 3, 3, 3, 2, 3, 3, 3, 3, 1, 3, 3, 3, 3, 1, 3, 2, 3, 1, 3, 2, 3, 3, 2, 3, 1, 3, 2, 3, 3, 2, 3, 3, 1, 3, 2, 3, 3, 1, 3, 3, 3, 3, 3, 3, 3, 3, 3, 2, 3, 3, 3, 3, 3, 2, 3, 3, 3, 2, 3, 3, 2, 3, 2, 1, 3, 3, 1, 3, 3, 3, 3, 3, 3, 2, 3, 3, 2, 3, 3]}],\n",
              "                        {\"scene\": {\"xaxis\": {\"title\": {\"text\": \"PassengerId\"}}, \"yaxis\": {\"title\": {\"text\": \"Age\"}}, \"zaxis\": {\"ticktext\": [\"1\\u00ba - Class\", \"2\\u00ba - Class\", \"3\\u00ba - Class\"], \"tickvals\": [1, 2, 3], \"title\": {\"text\": \"Pclass\"}}}, \"template\": {\"data\": {\"bar\": [{\"error_x\": {\"color\": \"#2a3f5f\"}, \"error_y\": {\"color\": \"#2a3f5f\"}, \"marker\": {\"line\": {\"color\": \"#E5ECF6\", \"width\": 0.5}}, \"type\": \"bar\"}], \"barpolar\": [{\"marker\": {\"line\": {\"color\": \"#E5ECF6\", \"width\": 0.5}}, \"type\": \"barpolar\"}], \"carpet\": [{\"aaxis\": {\"endlinecolor\": \"#2a3f5f\", \"gridcolor\": \"white\", \"linecolor\": \"white\", \"minorgridcolor\": \"white\", \"startlinecolor\": \"#2a3f5f\"}, \"baxis\": {\"endlinecolor\": \"#2a3f5f\", \"gridcolor\": \"white\", \"linecolor\": \"white\", \"minorgridcolor\": \"white\", \"startlinecolor\": \"#2a3f5f\"}, \"type\": \"carpet\"}], \"choropleth\": [{\"colorbar\": {\"outlinewidth\": 0, \"ticks\": \"\"}, \"type\": \"choropleth\"}], \"contour\": [{\"colorbar\": {\"outlinewidth\": 0, \"ticks\": \"\"}, \"colorscale\": [[0.0, \"#0d0887\"], [0.1111111111111111, \"#46039f\"], [0.2222222222222222, \"#7201a8\"], [0.3333333333333333, \"#9c179e\"], [0.4444444444444444, \"#bd3786\"], [0.5555555555555556, \"#d8576b\"], [0.6666666666666666, \"#ed7953\"], [0.7777777777777778, \"#fb9f3a\"], [0.8888888888888888, \"#fdca26\"], [1.0, \"#f0f921\"]], \"type\": \"contour\"}], \"contourcarpet\": [{\"colorbar\": {\"outlinewidth\": 0, \"ticks\": \"\"}, \"type\": \"contourcarpet\"}], \"heatmap\": [{\"colorbar\": {\"outlinewidth\": 0, \"ticks\": \"\"}, \"colorscale\": [[0.0, \"#0d0887\"], [0.1111111111111111, \"#46039f\"], [0.2222222222222222, \"#7201a8\"], [0.3333333333333333, \"#9c179e\"], [0.4444444444444444, \"#bd3786\"], [0.5555555555555556, \"#d8576b\"], [0.6666666666666666, \"#ed7953\"], [0.7777777777777778, \"#fb9f3a\"], [0.8888888888888888, \"#fdca26\"], [1.0, \"#f0f921\"]], \"type\": \"heatmap\"}], \"heatmapgl\": [{\"colorbar\": {\"outlinewidth\": 0, \"ticks\": \"\"}, \"colorscale\": [[0.0, \"#0d0887\"], [0.1111111111111111, \"#46039f\"], [0.2222222222222222, \"#7201a8\"], [0.3333333333333333, \"#9c179e\"], [0.4444444444444444, \"#bd3786\"], [0.5555555555555556, \"#d8576b\"], [0.6666666666666666, \"#ed7953\"], [0.7777777777777778, \"#fb9f3a\"], [0.8888888888888888, \"#fdca26\"], [1.0, \"#f0f921\"]], \"type\": \"heatmapgl\"}], \"histogram\": [{\"marker\": {\"colorbar\": {\"outlinewidth\": 0, \"ticks\": \"\"}}, \"type\": \"histogram\"}], \"histogram2d\": [{\"colorbar\": {\"outlinewidth\": 0, \"ticks\": \"\"}, \"colorscale\": [[0.0, \"#0d0887\"], [0.1111111111111111, \"#46039f\"], [0.2222222222222222, \"#7201a8\"], [0.3333333333333333, \"#9c179e\"], [0.4444444444444444, \"#bd3786\"], [0.5555555555555556, \"#d8576b\"], [0.6666666666666666, \"#ed7953\"], [0.7777777777777778, \"#fb9f3a\"], [0.8888888888888888, \"#fdca26\"], [1.0, \"#f0f921\"]], \"type\": \"histogram2d\"}], \"histogram2dcontour\": [{\"colorbar\": {\"outlinewidth\": 0, \"ticks\": \"\"}, \"colorscale\": [[0.0, \"#0d0887\"], [0.1111111111111111, \"#46039f\"], [0.2222222222222222, \"#7201a8\"], [0.3333333333333333, \"#9c179e\"], [0.4444444444444444, \"#bd3786\"], [0.5555555555555556, \"#d8576b\"], [0.6666666666666666, \"#ed7953\"], [0.7777777777777778, \"#fb9f3a\"], [0.8888888888888888, \"#fdca26\"], [1.0, \"#f0f921\"]], \"type\": \"histogram2dcontour\"}], \"mesh3d\": [{\"colorbar\": {\"outlinewidth\": 0, \"ticks\": \"\"}, \"type\": \"mesh3d\"}], \"parcoords\": [{\"line\": {\"colorbar\": {\"outlinewidth\": 0, \"ticks\": \"\"}}, \"type\": \"parcoords\"}], \"pie\": [{\"automargin\": true, \"type\": \"pie\"}], \"scatter\": [{\"marker\": {\"colorbar\": {\"outlinewidth\": 0, \"ticks\": \"\"}}, \"type\": \"scatter\"}], \"scatter3d\": [{\"line\": {\"colorbar\": {\"outlinewidth\": 0, \"ticks\": \"\"}}, \"marker\": {\"colorbar\": {\"outlinewidth\": 0, \"ticks\": \"\"}}, \"type\": \"scatter3d\"}], \"scattercarpet\": [{\"marker\": {\"colorbar\": {\"outlinewidth\": 0, \"ticks\": \"\"}}, \"type\": \"scattercarpet\"}], \"scattergeo\": [{\"marker\": {\"colorbar\": {\"outlinewidth\": 0, \"ticks\": \"\"}}, \"type\": \"scattergeo\"}], \"scattergl\": [{\"marker\": {\"colorbar\": {\"outlinewidth\": 0, \"ticks\": \"\"}}, \"type\": \"scattergl\"}], \"scattermapbox\": [{\"marker\": {\"colorbar\": {\"outlinewidth\": 0, \"ticks\": \"\"}}, \"type\": \"scattermapbox\"}], \"scatterpolar\": [{\"marker\": {\"colorbar\": {\"outlinewidth\": 0, \"ticks\": \"\"}}, \"type\": \"scatterpolar\"}], \"scatterpolargl\": [{\"marker\": {\"colorbar\": {\"outlinewidth\": 0, \"ticks\": \"\"}}, \"type\": \"scatterpolargl\"}], \"scatterternary\": [{\"marker\": {\"colorbar\": {\"outlinewidth\": 0, \"ticks\": \"\"}}, \"type\": \"scatterternary\"}], \"surface\": [{\"colorbar\": {\"outlinewidth\": 0, \"ticks\": \"\"}, \"colorscale\": [[0.0, \"#0d0887\"], [0.1111111111111111, \"#46039f\"], [0.2222222222222222, \"#7201a8\"], [0.3333333333333333, \"#9c179e\"], [0.4444444444444444, \"#bd3786\"], [0.5555555555555556, \"#d8576b\"], [0.6666666666666666, \"#ed7953\"], [0.7777777777777778, \"#fb9f3a\"], [0.8888888888888888, \"#fdca26\"], [1.0, \"#f0f921\"]], \"type\": \"surface\"}], \"table\": [{\"cells\": {\"fill\": {\"color\": \"#EBF0F8\"}, \"line\": {\"color\": \"white\"}}, \"header\": {\"fill\": {\"color\": \"#C8D4E3\"}, \"line\": {\"color\": \"white\"}}, \"type\": \"table\"}]}, \"layout\": {\"annotationdefaults\": {\"arrowcolor\": \"#2a3f5f\", \"arrowhead\": 0, \"arrowwidth\": 1}, \"coloraxis\": {\"colorbar\": {\"outlinewidth\": 0, \"ticks\": \"\"}}, \"colorscale\": {\"diverging\": [[0, \"#8e0152\"], [0.1, \"#c51b7d\"], [0.2, \"#de77ae\"], [0.3, \"#f1b6da\"], [0.4, \"#fde0ef\"], [0.5, \"#f7f7f7\"], [0.6, \"#e6f5d0\"], [0.7, \"#b8e186\"], [0.8, \"#7fbc41\"], [0.9, \"#4d9221\"], [1, \"#276419\"]], \"sequential\": [[0.0, \"#0d0887\"], [0.1111111111111111, \"#46039f\"], [0.2222222222222222, \"#7201a8\"], [0.3333333333333333, \"#9c179e\"], [0.4444444444444444, \"#bd3786\"], [0.5555555555555556, \"#d8576b\"], [0.6666666666666666, \"#ed7953\"], [0.7777777777777778, \"#fb9f3a\"], [0.8888888888888888, \"#fdca26\"], [1.0, \"#f0f921\"]], \"sequentialminus\": [[0.0, \"#0d0887\"], [0.1111111111111111, \"#46039f\"], [0.2222222222222222, \"#7201a8\"], [0.3333333333333333, \"#9c179e\"], [0.4444444444444444, \"#bd3786\"], [0.5555555555555556, \"#d8576b\"], [0.6666666666666666, \"#ed7953\"], [0.7777777777777778, \"#fb9f3a\"], [0.8888888888888888, \"#fdca26\"], [1.0, \"#f0f921\"]]}, \"colorway\": [\"#636efa\", \"#EF553B\", \"#00cc96\", \"#ab63fa\", \"#FFA15A\", \"#19d3f3\", \"#FF6692\", \"#B6E880\", \"#FF97FF\", \"#FECB52\"], \"font\": {\"color\": \"#2a3f5f\"}, \"geo\": {\"bgcolor\": \"white\", \"lakecolor\": \"white\", \"landcolor\": \"#E5ECF6\", \"showlakes\": true, \"showland\": true, \"subunitcolor\": \"white\"}, \"hoverlabel\": {\"align\": \"left\"}, \"hovermode\": \"closest\", \"mapbox\": {\"style\": \"light\"}, \"paper_bgcolor\": \"white\", \"plot_bgcolor\": \"#E5ECF6\", \"polar\": {\"angularaxis\": {\"gridcolor\": \"white\", \"linecolor\": \"white\", \"ticks\": \"\"}, \"bgcolor\": \"#E5ECF6\", \"radialaxis\": {\"gridcolor\": \"white\", \"linecolor\": \"white\", \"ticks\": \"\"}}, \"scene\": {\"xaxis\": {\"backgroundcolor\": \"#E5ECF6\", \"gridcolor\": \"white\", \"gridwidth\": 2, \"linecolor\": \"white\", \"showbackground\": true, \"ticks\": \"\", \"zerolinecolor\": \"white\"}, \"yaxis\": {\"backgroundcolor\": \"#E5ECF6\", \"gridcolor\": \"white\", \"gridwidth\": 2, \"linecolor\": \"white\", \"showbackground\": true, \"ticks\": \"\", \"zerolinecolor\": \"white\"}, \"zaxis\": {\"backgroundcolor\": \"#E5ECF6\", \"gridcolor\": \"white\", \"gridwidth\": 2, \"linecolor\": \"white\", \"showbackground\": true, \"ticks\": \"\", \"zerolinecolor\": \"white\"}}, \"shapedefaults\": {\"line\": {\"color\": \"#2a3f5f\"}}, \"ternary\": {\"aaxis\": {\"gridcolor\": \"white\", \"linecolor\": \"white\", \"ticks\": \"\"}, \"baxis\": {\"gridcolor\": \"white\", \"linecolor\": \"white\", \"ticks\": \"\"}, \"bgcolor\": \"#E5ECF6\", \"caxis\": {\"gridcolor\": \"white\", \"linecolor\": \"white\", \"ticks\": \"\"}}, \"title\": {\"x\": 0.05}, \"xaxis\": {\"automargin\": true, \"gridcolor\": \"white\", \"linecolor\": \"white\", \"ticks\": \"\", \"title\": {\"standoff\": 15}, \"zerolinecolor\": \"white\", \"zerolinewidth\": 2}, \"yaxis\": {\"automargin\": true, \"gridcolor\": \"white\", \"linecolor\": \"white\", \"ticks\": \"\", \"title\": {\"standoff\": 15}, \"zerolinecolor\": \"white\", \"zerolinewidth\": 2}}}},\n",
              "                        {\"responsive\": true}\n",
              "                    ).then(function(){\n",
              "                            \n",
              "var gd = document.getElementById('5bc6b89c-9c2e-4287-a697-ddb41eac9513');\n",
              "var x = new MutationObserver(function (mutations, observer) {{\n",
              "        var display = window.getComputedStyle(gd).display;\n",
              "        if (!display || display === 'none') {{\n",
              "            console.log([gd, 'removed!']);\n",
              "            Plotly.purge(gd);\n",
              "            observer.disconnect();\n",
              "        }}\n",
              "}});\n",
              "\n",
              "// Listen for the removal of the full notebook cells\n",
              "var notebookContainer = gd.closest('#notebook-container');\n",
              "if (notebookContainer) {{\n",
              "    x.observe(notebookContainer, {childList: true});\n",
              "}}\n",
              "\n",
              "// Listen for the clearing of the current output cell\n",
              "var outputEl = gd.closest('.output');\n",
              "if (outputEl) {{\n",
              "    x.observe(outputEl, {childList: true});\n",
              "}}\n",
              "\n",
              "                        })\n",
              "                };\n",
              "                \n",
              "            </script>\n",
              "        </div>\n",
              "</body>\n",
              "</html>"
            ]
          },
          "metadata": {
            "tags": []
          }
        }
      ]
    },
    {
      "cell_type": "markdown",
      "metadata": {
        "id": "9cbO6acvQOZ6"
      },
      "source": [
        "## Training Data Considerations \n",
        "\n",
        "Based on training data, graphs and tables, it is noted that most of the deaths were of people in 3rd class (Pclass), among the genders the most affected was men, 75% of the people who did not survive had below 37 years."
      ]
    },
    {
      "cell_type": "markdown",
      "metadata": {
        "id": "6VvPBioFQOZ6"
      },
      "source": [
        "# Model"
      ]
    },
    {
      "cell_type": "code",
      "metadata": {
        "execution": {
          "iopub.status.busy": "2021-07-23T02:17:14.010209Z",
          "iopub.execute_input": "2021-07-23T02:17:14.01053Z",
          "iopub.status.idle": "2021-07-23T02:17:14.022298Z",
          "shell.execute_reply.started": "2021-07-23T02:17:14.010499Z",
          "shell.execute_reply": "2021-07-23T02:17:14.021162Z"
        },
        "trusted": true,
        "id": "rmjzVSvHQOZ6"
      },
      "source": [
        "# functions\n",
        "\n",
        "def fit_and_predict(name, model, train_data, train_mark, test_data, test_mark):\n",
        "    model.fit(train_data, train_mark)\n",
        "\n",
        "    result = model.predict(test_data)\n",
        "\n",
        "    hits = result == test_mark\n",
        "\n",
        "    total_hits = sum(hits) \n",
        "    total_elements = len(test_data)\n",
        "\n",
        "    hit_rate = 100.0 * total_hits / total_elements\n",
        "\n",
        "    msg = \"Algorithm Hit Rate {0}: {1}\".format(name, hit_rate)\n",
        "    \n",
        "    print('classification result %.2f%%' %(model.score(test_data, test_mark)*100))\n",
        "    print(msg)\n",
        "    return hit_rate\n",
        "\n",
        "def real_test(best, model, data_validation, mark_validation):\n",
        "    result = model.predict(data_validation)\n",
        "    hits = result == mark_validation\n",
        "\n",
        "    total_hits = sum(hits)\n",
        "    total_elements = len(mark_validation)\n",
        "\n",
        "    hit_rate = 100.0 * total_hits / total_elements\n",
        "\n",
        "    msg = \"Winner hit rate {1} in the real world: {0}\".format(hit_rate, best)\n",
        "    print(msg)\n",
        "\n",
        "def best_train_predict(name, model, train_data, train_mark, test_data_final, ID):\n",
        "    model.fit(train_data, train_mark)\n",
        "\n",
        "    predictions = model.predict(test_data_final)\n",
        "    output = pd.DataFrame({'PassengerId': ID, 'Survived': predictions})\n",
        "    output.to_csv('my_submission.csv', index=False)\n",
        "    \n",
        "    \n",
        "    s = len(output[output.Survived==1])\n",
        "    d = len(output[output.Survived==0])\n",
        "\n",
        "    msg = \"Algoritmo: {0} - S: {1} - D: {2}\".format(name, s, d)\n",
        "\n",
        "    print(msg)\n",
        "    return output"
      ],
      "execution_count": 53,
      "outputs": []
    },
    {
      "cell_type": "markdown",
      "metadata": {
        "id": "9IX4ZuwOQOZ7"
      },
      "source": [
        "Created 5 Classifiers and selected the best one"
      ]
    },
    {
      "cell_type": "code",
      "metadata": {
        "execution": {
          "iopub.status.busy": "2021-07-23T02:17:14.02373Z",
          "iopub.execute_input": "2021-07-23T02:17:14.024124Z",
          "iopub.status.idle": "2021-07-23T02:17:22.990052Z",
          "shell.execute_reply.started": "2021-07-23T02:17:14.024084Z",
          "shell.execute_reply": "2021-07-23T02:17:22.989009Z"
        },
        "trusted": true,
        "colab": {
          "base_uri": "https://localhost:8080/"
        },
        "id": "T3nPMQHHQOZ7",
        "outputId": "24379483-b776-490c-b40a-0189ae983e15"
      },
      "source": [
        "features = [\"Pclass\", \"Sex\",\"Age\" , \"SibSp\", \"Parch\", \"Embarked\", \"Fare\", \"classes\", 'Family_size']\n",
        "X_df = train_data[features]\n",
        "Y_df = train_data[\"Survived\"]\n",
        "\n",
        "Xdummies_df = pd.get_dummies(X_df)\n",
        "Ydummies_df = Y_df\n",
        "\n",
        "X = Xdummies_df.values\n",
        "Y = Ydummies_df.values \n",
        "\n",
        "training_percentage = 0.3\n",
        "test_percentage = 0.6\n",
        "\n",
        "train_size = int(training_percentage * len(Y))\n",
        "test_size = int(test_percentage * len(Y))\n",
        "validation_size = len(Y) - train_size - test_size\n",
        "\n",
        "train_data_x = X[:train_size]\n",
        "train_mark_y = Y[:train_size]\n",
        "\n",
        "test_end = train_size + test_size\n",
        "\n",
        "test_data = X[train_size:test_end]\n",
        "test_mark = Y[train_size:test_end]\n",
        "\n",
        "data_validation = X[test_end:]\n",
        "mark_validation = Y[test_end:]\n",
        "\n",
        "# ------------------------------------------------------------------------------------------------------------------------------\n",
        "\n",
        "\n",
        "from collections import Counter\n",
        "from sklearn.naive_bayes import MultinomialNB\n",
        "modelMultinomial = MultinomialNB()\n",
        "resultMultinomial = fit_and_predict(\"MultinomialNB\", modelMultinomial, train_data_x, train_mark_y, test_data, test_mark)\n",
        "\n",
        "from sklearn.ensemble import AdaBoostClassifier\n",
        "modelAdaBoost = AdaBoostClassifier(n_estimators=1000, random_state=1)\n",
        "resultAdaBoost = fit_and_predict(\"AdaBoostClassifier\", modelAdaBoost, train_data_x, train_mark_y, test_data, test_mark)\n",
        "\n",
        "from sklearn.ensemble import RandomForestClassifier\n",
        "modelRandomForestClassifier = RandomForestClassifier(n_estimators=1000, max_depth=5, random_state=1)\n",
        "resulRandomForestClassifier = fit_and_predict(\"RandomForestClassifier\", modelRandomForestClassifier, train_data_x, \n",
        "                                              train_mark_y, test_data, test_mark)\n",
        "\n",
        "from sklearn.tree import DecisionTreeClassifier\n",
        "modelDecisionTreeClassifier = DecisionTreeClassifier( max_depth=5, random_state=1)\n",
        "resulDecisionTreeClassifier = fit_and_predict(\"DecisionTreeClassifier\", modelDecisionTreeClassifier, train_data_x, \n",
        "                                              train_mark_y, test_data, test_mark)\n",
        "\n",
        "from sklearn.ensemble import ExtraTreesClassifier\n",
        "modelExtraTreesClassifier = ExtraTreesClassifier(n_estimators=1000, max_depth=5, random_state=1)\n",
        "resulExtraTreesClassifier = fit_and_predict(\"ExtraTreesClassifier\", modelExtraTreesClassifier, train_data_x, \n",
        "                                              train_mark_y, test_data, test_mark)\n",
        "\n",
        "\n",
        "test_results_k = {'Multinomial':resultMultinomial, \n",
        "                'AdaBoost':resultAdaBoost, \n",
        "                'RandomForestClassifier':resulRandomForestClassifier, \n",
        "                'DecisionTreeClassifier':resulDecisionTreeClassifier, \n",
        "                'ExtraTreesClassifier':resulExtraTreesClassifier}\n",
        "\n",
        "key_list = list(test_results_k.keys())\n",
        "val_list = list(test_results_k.values())\n",
        "\n",
        "position = val_list.index(max(val_list))\n",
        "\n",
        "best = key_list[position]\n",
        "\n",
        "if best == 'Multinomial':\n",
        "    winner = modelMultinomial    \n",
        "elif best == 'AdaBoost':\n",
        "    winner = modelAdaBoost    \n",
        "elif best == 'RandomForestClassifier':\n",
        "    winner = modelRandomForestClassifier    \n",
        "elif best == 'DecisionTreeClassifier':\n",
        "    winner = modelDecisionTreeClassifier    \n",
        "else:\n",
        "    winner = modelExtraTreesClassifier  \n",
        "\n",
        "real_test(best, winner, data_validation, mark_validation)\n",
        "\n",
        "base_hit = max(Counter(mark_validation).values())\n",
        "base_hit_rate = 100.0 * base_hit / len(mark_validation)\n",
        "print(\"Base hit rate: %f\" % base_hit_rate)\n",
        "\n",
        "total_elements = len(data_validation)\n",
        "print(\"Test total: %d\" % total_elements)\n",
        "\n",
        "\n",
        "X_predict = pd.get_dummies(test_data_final[features])\n",
        "Best_result_modifi = best_train_predict(best, winner,X , Y, X_predict, test_data_final['PassengerId'])"
      ],
      "execution_count": 54,
      "outputs": [
        {
          "output_type": "stream",
          "text": [
            "classification result 73.41%\n",
            "Algorithm Hit Rate MultinomialNB: 73.40823970037454\n",
            "classification result 74.91%\n",
            "Algorithm Hit Rate AdaBoostClassifier: 74.90636704119851\n",
            "classification result 82.02%\n",
            "Algorithm Hit Rate RandomForestClassifier: 82.02247191011236\n",
            "classification result 79.96%\n",
            "Algorithm Hit Rate DecisionTreeClassifier: 79.9625468164794\n",
            "classification result 81.27%\n",
            "Algorithm Hit Rate ExtraTreesClassifier: 81.27340823970037\n",
            "Winner hit rate RandomForestClassifier in the real world: 83.33333333333333\n",
            "Base hit rate: 62.222222\n",
            "Test total: 90\n",
            "Algoritmo: RandomForestClassifier - S: 162 - D: 256\n"
          ],
          "name": "stdout"
        }
      ]
    },
    {
      "cell_type": "markdown",
      "metadata": {
        "id": "a8kP4A9kQOZ7"
      },
      "source": [
        "Further more included two random variables that wasn't  correlated in any way with the target variable (survived):\n",
        "\n",
        " \n",
        "\n",
        "*   random_num is a high cardinality numerical variable (as many unique values as records).\n",
        "*   random_cat is a low cardinality categorical variable (3 possible values)."
      ]
    },
    {
      "cell_type": "code",
      "metadata": {
        "execution": {
          "iopub.status.busy": "2021-07-23T02:17:22.991529Z",
          "iopub.execute_input": "2021-07-23T02:17:22.991945Z",
          "iopub.status.idle": "2021-07-23T02:17:25.227641Z",
          "shell.execute_reply.started": "2021-07-23T02:17:22.991887Z",
          "shell.execute_reply": "2021-07-23T02:17:25.226476Z"
        },
        "trusted": true,
        "colab": {
          "base_uri": "https://localhost:8080/"
        },
        "id": "MsWq_LvbQOZ8",
        "outputId": "97ee7c69-fe98-473a-f424-f961e5f2cfe2"
      },
      "source": [
        "from sklearn.ensemble import RandomForestClassifier\n",
        "from sklearn.impute import SimpleImputer\n",
        "from sklearn.inspection import permutation_importance\n",
        "from sklearn.compose import ColumnTransformer\n",
        "from sklearn.model_selection import train_test_split\n",
        "from sklearn.pipeline import Pipeline\n",
        "from sklearn.preprocessing import OneHotEncoder\n",
        "\n",
        "features = [\"Pclass\", \"Sex\",\"Age\" , \"SibSp\", \"Parch\", \"Embarked\", \"Fare\", \"classes\", 'Family_size']\n",
        "X_df = train_data[features]\n",
        "Y_df = train_data[\"Survived\"]\n",
        "\n",
        "X = X_df\n",
        "y = Y_df\n",
        "rng = np.random.RandomState(seed=1)\n",
        "X['random_cat'] = rng.randint(3, size=X.shape[0])\n",
        "X['random_num'] = rng.randn(X.shape[0])\n",
        "\n",
        "categorical_columns = ['Pclass', 'Sex', 'Embarked','classes','Family_size', 'random_cat']\n",
        "numerical_columns = ['Age', 'SibSp', 'Parch', 'Fare', 'random_num']\n",
        "\n",
        "X = X[categorical_columns + numerical_columns]\n",
        "\n",
        "X_train, X_test, y_train, y_test = train_test_split(\n",
        "    X, y, stratify=y, random_state=1)\n",
        "\n",
        "categorical_encoder = OneHotEncoder(handle_unknown='ignore')\n",
        "numerical_pipe = Pipeline([\n",
        "    ('imputer', SimpleImputer(strategy='mean'))\n",
        "])\n",
        "\n",
        "preprocessing = ColumnTransformer(\n",
        "    [('cat', categorical_encoder, categorical_columns),\n",
        "     ('num', numerical_pipe, numerical_columns)])\n",
        "\n",
        "rf = Pipeline([\n",
        "    ('preprocess', preprocessing),\n",
        "    ('classifier', winner)\n",
        "])\n",
        "rf.fit(X_train, y_train)"
      ],
      "execution_count": 55,
      "outputs": [
        {
          "output_type": "stream",
          "text": [
            "/usr/local/lib/python3.7/dist-packages/ipykernel_launcher.py:16: SettingWithCopyWarning:\n",
            "\n",
            "\n",
            "A value is trying to be set on a copy of a slice from a DataFrame.\n",
            "Try using .loc[row_indexer,col_indexer] = value instead\n",
            "\n",
            "See the caveats in the documentation: https://pandas.pydata.org/pandas-docs/stable/user_guide/indexing.html#returning-a-view-versus-a-copy\n",
            "\n",
            "/usr/local/lib/python3.7/dist-packages/ipykernel_launcher.py:17: SettingWithCopyWarning:\n",
            "\n",
            "\n",
            "A value is trying to be set on a copy of a slice from a DataFrame.\n",
            "Try using .loc[row_indexer,col_indexer] = value instead\n",
            "\n",
            "See the caveats in the documentation: https://pandas.pydata.org/pandas-docs/stable/user_guide/indexing.html#returning-a-view-versus-a-copy\n",
            "\n"
          ],
          "name": "stderr"
        },
        {
          "output_type": "execute_result",
          "data": {
            "text/plain": [
              "Pipeline(memory=None,\n",
              "         steps=[('preprocess',\n",
              "                 ColumnTransformer(n_jobs=None, remainder='drop',\n",
              "                                   sparse_threshold=0.3,\n",
              "                                   transformer_weights=None,\n",
              "                                   transformers=[('cat',\n",
              "                                                  OneHotEncoder(categories='auto',\n",
              "                                                                drop=None,\n",
              "                                                                dtype=<class 'numpy.float64'>,\n",
              "                                                                handle_unknown='ignore',\n",
              "                                                                sparse=True),\n",
              "                                                  ['Pclass', 'Sex', 'Embarked',\n",
              "                                                   'classes', 'Family_size',\n",
              "                                                   'random_cat']),\n",
              "                                                 ('num',\n",
              "                                                  Pipeline(memo...\n",
              "                 RandomForestClassifier(bootstrap=True, ccp_alpha=0.0,\n",
              "                                        class_weight=None, criterion='gini',\n",
              "                                        max_depth=5, max_features='auto',\n",
              "                                        max_leaf_nodes=None, max_samples=None,\n",
              "                                        min_impurity_decrease=0.0,\n",
              "                                        min_impurity_split=None,\n",
              "                                        min_samples_leaf=1, min_samples_split=2,\n",
              "                                        min_weight_fraction_leaf=0.0,\n",
              "                                        n_estimators=1000, n_jobs=None,\n",
              "                                        oob_score=False, random_state=1,\n",
              "                                        verbose=0, warm_start=False))],\n",
              "         verbose=False)"
            ]
          },
          "metadata": {
            "tags": []
          },
          "execution_count": 55
        }
      ]
    },
    {
      "cell_type": "code",
      "metadata": {
        "execution": {
          "iopub.status.busy": "2021-07-23T02:17:25.228717Z",
          "iopub.execute_input": "2021-07-23T02:17:25.229001Z",
          "iopub.status.idle": "2021-07-23T02:17:25.519085Z",
          "shell.execute_reply.started": "2021-07-23T02:17:25.228973Z",
          "shell.execute_reply": "2021-07-23T02:17:25.517766Z"
        },
        "trusted": true,
        "colab": {
          "base_uri": "https://localhost:8080/"
        },
        "id": "s7BOE055QOZ8",
        "outputId": "a82dbc8a-c665-407b-ee0f-e6d767b7fcdb"
      },
      "source": [
        "print(\"RF train accuracy: %0.3f\" % rf.score(X_train, y_train))\n",
        "print(\"RF test accuracy: %0.3f\" % rf.score(X_test, y_test))"
      ],
      "execution_count": 56,
      "outputs": [
        {
          "output_type": "stream",
          "text": [
            "RF train accuracy: 0.846\n",
            "RF test accuracy: 0.839\n"
          ],
          "name": "stdout"
        }
      ]
    },
    {
      "cell_type": "code",
      "metadata": {
        "execution": {
          "iopub.status.busy": "2021-07-23T02:17:25.520565Z",
          "iopub.execute_input": "2021-07-23T02:17:25.521025Z",
          "iopub.status.idle": "2021-07-23T02:17:25.982397Z",
          "shell.execute_reply.started": "2021-07-23T02:17:25.520977Z",
          "shell.execute_reply": "2021-07-23T02:17:25.981307Z"
        },
        "trusted": true,
        "colab": {
          "base_uri": "https://localhost:8080/",
          "height": 296
        },
        "id": "6XJkPxvnQOZ8",
        "outputId": "a08dd3db-b2ca-4e48-89f3-460ed9da650c"
      },
      "source": [
        "ohe = (rf.named_steps['preprocess']\n",
        "         .named_transformers_['cat'])\n",
        "feature_names = ohe.get_feature_names(input_features=categorical_columns)\n",
        "feature_names = np.r_[feature_names, numerical_columns]\n",
        "\n",
        "tree_feature_importances = (\n",
        "    rf.named_steps['classifier'].feature_importances_)\n",
        "sorted_idx = tree_feature_importances.argsort()\n",
        "\n",
        "y_ticks = np.arange(0, len(feature_names))\n",
        "fig, ax = plt.subplots()\n",
        "ax.barh(y_ticks, tree_feature_importances[sorted_idx])\n",
        "ax.set_yticks(y_ticks)\n",
        "ax.set_yticklabels(feature_names[sorted_idx])\n",
        "ax.set_title(\"Random Forest Feature Importances (MDI)\")\n",
        "fig.tight_layout()\n",
        "plt.show()\n",
        "# Reference: https://scikit-learn.org/stable/auto_examples/inspection/plot_permutation_importance.html#sphx-glr-auto-examples-inspection-plot-permutation-importance-py"
      ],
      "execution_count": 57,
      "outputs": [
        {
          "output_type": "display_data",
          "data": {
            "image/png": "[encoded data removed]",
            "text/plain": [
              "<Figure size 432x288 with 1 Axes>"
            ]
          },
          "metadata": {
            "tags": [],
            "needs_background": "light"
          }
        }
      ]
    },
    {
      "cell_type": "markdown",
      "metadata": {
        "id": "vxmFe_kHQOZ9"
      },
      "source": [
        "This shows that the low cardinality categorical feature, sex and classes is the most important feature.\n",
        "\n",
        "Also note that both random features have very low importances (close to 0) as expected."
      ]
    },
    {
      "cell_type": "code",
      "metadata": {
        "execution": {
          "iopub.status.busy": "2021-07-23T02:17:25.983514Z",
          "iopub.execute_input": "2021-07-23T02:17:25.983789Z",
          "iopub.status.idle": "2021-07-23T02:17:28.581648Z",
          "shell.execute_reply.started": "2021-07-23T02:17:25.983762Z",
          "shell.execute_reply": "2021-07-23T02:17:28.580465Z"
        },
        "trusted": true,
        "colab": {
          "base_uri": "https://localhost:8080/",
          "height": 541
        },
        "id": "vr0SWx7uQOZ9",
        "outputId": "9eb1b49c-ea79-4314-ed9e-b205d65cd57a"
      },
      "source": [
        "from sklearn.svm import SVC\n",
        "\n",
        "from sklearn.metrics import plot_roc_curve\n",
        "\n",
        "\n",
        "X = Xdummies_df\n",
        "y = Ydummies_df\n",
        "\n",
        "X_train, X_test, y_train, y_test = train_test_split(X, y, random_state=1)\n",
        "svc = SVC(random_state=1)\n",
        "svc.fit(X_train, y_train)\n",
        "# Next, we plot the ROC curve with a single call to \n",
        "# sklearn.metrics.plot_roc_curve. The returned svc_disp \n",
        "# object allows us to continue using the already computed \n",
        "# ROC curve for the SVC in future plots.\n",
        "svc_disp = plot_roc_curve(svc, X_test, y_test)\n",
        "plt.show()\n",
        "\n",
        "# We train a random forest classifier and create a plot comparing it to the \n",
        "# SVC ROC curve. Notice how svc_disp uses plot to plot the SVC ROC curve \n",
        "# without recomputing the values of the roc curve itself. Furthermore, \n",
        "# we pass alpha=0.8 to the plot functions to adjust the alpha values of \n",
        "# the curves.\n",
        "# Reference: https://scikit-learn.org/stable/auto_examples/miscellaneous/plot_roc_curve_visualization_api.html#sphx-glr-auto-examples-miscellaneous-plot-roc-curve-visualization-api-py\n",
        "rfc = winner\n",
        "rfc.fit(X_train, y_train)\n",
        "ax = plt.gca()\n",
        "rfc_disp = plot_roc_curve(rfc, X_test, y_test, ax=ax, alpha=0.8)\n",
        "svc_disp.plot(ax=ax, alpha=0.8)\n",
        "plt.show()"
      ],
      "execution_count": 58,
      "outputs": [
        {
          "output_type": "display_data",
          "data": {
            "image/png": "[encoded data removed]",
            "text/plain": [
              "<Figure size 432x288 with 1 Axes>"
            ]
          },
          "metadata": {
            "tags": [],
            "needs_background": "light"
          }
        },
        {
          "output_type": "display_data",
          "data": {
            "image/png": "[encoded data removed]",
            "text/plain": [
              "<Figure size 432x288 with 1 Axes>"
            ]
          },
          "metadata": {
            "tags": [],
            "needs_background": "light"
          }
        }
      ]
    },
    {
      "cell_type": "code",
      "metadata": {
        "execution": {
          "iopub.status.busy": "2021-07-23T02:17:28.583114Z",
          "iopub.execute_input": "2021-07-23T02:17:28.583404Z",
          "iopub.status.idle": "2021-07-23T02:17:51.930784Z",
          "shell.execute_reply.started": "2021-07-23T02:17:28.583377Z",
          "shell.execute_reply": "2021-07-23T02:17:51.929056Z"
        },
        "trusted": true,
        "colab": {
          "base_uri": "https://localhost:8080/",
          "height": 541
        },
        "id": "4T8tO9B5QOZ9",
        "outputId": "8abffbfa-8259-4104-c93b-850867eee803"
      },
      "source": [
        "from sklearn.metrics import confusion_matrix\n",
        "from sklearn.feature_selection import RFE\n",
        "from sklearn.feature_selection import RFECV\n",
        "import seaborn as sns\n",
        "import matplotlib.pyplot as plt\n",
        "\n",
        "\n",
        "\n",
        "train_data2 = train_data\n",
        "test_data2 = test_data\n",
        "treino_x, teste_x, treino_y, teste_y = train_data_x, test_data2, train_mark_y, test_mark\n",
        "\n",
        "classificador = winner\n",
        "classificador.fit(treino_x, treino_y)\n",
        "\n",
        "\n",
        "\n",
        "selecionador_rfe = RFE(estimator = classificador, n_features_to_select = 9, step = 1)\n",
        "selecionador_rfe.fit(treino_x, treino_y)\n",
        "treino_rfe = selecionador_rfe.transform(treino_x)\n",
        "teste_rfe = selecionador_rfe.transform(teste_x)\n",
        "classificador.fit(treino_rfe, treino_y)\n",
        "\n",
        "matriz_confusao = confusion_matrix(teste_y, classificador.predict(teste_rfe))\n",
        "plt.figure(figsize = (10, 8))\n",
        "sns.set(font_scale = 2)\n",
        "sns.heatmap(matriz_confusao, annot = True, fmt = \"d\").set(xlabel = \"Predição\", ylabel = \"Real\")\n",
        "\n",
        "print(\"Resultado da classificação %.2f%%\" % (classificador.score(teste_rfe, teste_y)* 100))"
      ],
      "execution_count": 59,
      "outputs": [
        {
          "output_type": "stream",
          "text": [
            "Resultado da classificação 81.65%\n"
          ],
          "name": "stdout"
        },
        {
          "output_type": "display_data",
          "data": {
            "image/png": "[encoded data removed]",
            "text/plain": [
              "<Figure size 720x576 with 2 Axes>"
            ]
          },
          "metadata": {
            "tags": [],
            "needs_background": "light"
          }
        }
      ]
    },
    {
      "cell_type": "code",
      "metadata": {
        "execution": {
          "iopub.status.busy": "2021-07-23T02:17:51.932568Z",
          "iopub.execute_input": "2021-07-23T02:17:51.932989Z",
          "iopub.status.idle": "2021-07-23T02:17:51.979834Z",
          "shell.execute_reply.started": "2021-07-23T02:17:51.932947Z",
          "shell.execute_reply": "2021-07-23T02:17:51.978095Z"
        },
        "trusted": true,
        "colab": {
          "base_uri": "https://localhost:8080/",
          "height": 440
        },
        "id": "xoAxPnkiQOZ9",
        "outputId": "4fbe32ab-b564-493d-81fe-88dbdc0ed262"
      },
      "source": [
        "table_result_modifi = test_data_final\n",
        "table_result_modifi['Survived'] = Best_result_modifi.Survived\n",
        "table_result_modifi"
      ],
      "execution_count": 60,
      "outputs": [
        {
          "output_type": "execute_result",
          "data": {
            "text/html": [
              "<div>\n",
              "<style scoped>\n",
              "    .dataframe tbody tr th:only-of-type {\n",
              "        vertical-align: middle;\n",
              "    }\n",
              "\n",
              "    .dataframe tbody tr th {\n",
              "        vertical-align: top;\n",
              "    }\n",
              "\n",
              "    .dataframe thead th {\n",
              "        text-align: right;\n",
              "    }\n",
              "</style>\n",
              "<table border=\"1\" class=\"dataframe\">\n",
              "  <thead>\n",
              "    <tr style=\"text-align: right;\">\n",
              "      <th></th>\n",
              "      <th>PassengerId</th>\n",
              "      <th>Pclass</th>\n",
              "      <th>Name</th>\n",
              "      <th>Sex</th>\n",
              "      <th>Age</th>\n",
              "      <th>SibSp</th>\n",
              "      <th>Parch</th>\n",
              "      <th>Ticket</th>\n",
              "      <th>Fare</th>\n",
              "      <th>Cabin</th>\n",
              "      <th>Embarked</th>\n",
              "      <th>classes</th>\n",
              "      <th>Family_size</th>\n",
              "      <th>Survived</th>\n",
              "    </tr>\n",
              "  </thead>\n",
              "  <tbody>\n",
              "    <tr>\n",
              "      <th>0</th>\n",
              "      <td>892</td>\n",
              "      <td>3</td>\n",
              "      <td>Kelly, Mr. James</td>\n",
              "      <td>male</td>\n",
              "      <td>34.5</td>\n",
              "      <td>0</td>\n",
              "      <td>0</td>\n",
              "      <td>330911</td>\n",
              "      <td>7.8292</td>\n",
              "      <td>NaN</td>\n",
              "      <td>Q</td>\n",
              "      <td>Mr</td>\n",
              "      <td>Medium</td>\n",
              "      <td>0</td>\n",
              "    </tr>\n",
              "    <tr>\n",
              "      <th>1</th>\n",
              "      <td>893</td>\n",
              "      <td>3</td>\n",
              "      <td>Wilkes, Mrs. James (Ellen Needs)</td>\n",
              "      <td>female</td>\n",
              "      <td>47.0</td>\n",
              "      <td>1</td>\n",
              "      <td>0</td>\n",
              "      <td>363272</td>\n",
              "      <td>7.0000</td>\n",
              "      <td>NaN</td>\n",
              "      <td>S</td>\n",
              "      <td>Miss</td>\n",
              "      <td>Alone</td>\n",
              "      <td>0</td>\n",
              "    </tr>\n",
              "    <tr>\n",
              "      <th>2</th>\n",
              "      <td>894</td>\n",
              "      <td>2</td>\n",
              "      <td>Myles, Mr. Thomas Francis</td>\n",
              "      <td>male</td>\n",
              "      <td>62.0</td>\n",
              "      <td>0</td>\n",
              "      <td>0</td>\n",
              "      <td>240276</td>\n",
              "      <td>9.6875</td>\n",
              "      <td>NaN</td>\n",
              "      <td>Q</td>\n",
              "      <td>Mr</td>\n",
              "      <td>Alone</td>\n",
              "      <td>0</td>\n",
              "    </tr>\n",
              "    <tr>\n",
              "      <th>3</th>\n",
              "      <td>895</td>\n",
              "      <td>3</td>\n",
              "      <td>Wirz, Mr. Albert</td>\n",
              "      <td>male</td>\n",
              "      <td>27.0</td>\n",
              "      <td>0</td>\n",
              "      <td>0</td>\n",
              "      <td>315154</td>\n",
              "      <td>8.6625</td>\n",
              "      <td>NaN</td>\n",
              "      <td>S</td>\n",
              "      <td>Mr</td>\n",
              "      <td>Alone</td>\n",
              "      <td>0</td>\n",
              "    </tr>\n",
              "    <tr>\n",
              "      <th>4</th>\n",
              "      <td>896</td>\n",
              "      <td>3</td>\n",
              "      <td>Hirvonen, Mrs. Alexander (Helga E Lindqvist)</td>\n",
              "      <td>female</td>\n",
              "      <td>22.0</td>\n",
              "      <td>1</td>\n",
              "      <td>1</td>\n",
              "      <td>3101298</td>\n",
              "      <td>12.2875</td>\n",
              "      <td>NaN</td>\n",
              "      <td>S</td>\n",
              "      <td>Miss</td>\n",
              "      <td>Small</td>\n",
              "      <td>1</td>\n",
              "    </tr>\n",
              "    <tr>\n",
              "      <th>...</th>\n",
              "      <td>...</td>\n",
              "      <td>...</td>\n",
              "      <td>...</td>\n",
              "      <td>...</td>\n",
              "      <td>...</td>\n",
              "      <td>...</td>\n",
              "      <td>...</td>\n",
              "      <td>...</td>\n",
              "      <td>...</td>\n",
              "      <td>...</td>\n",
              "      <td>...</td>\n",
              "      <td>...</td>\n",
              "      <td>...</td>\n",
              "      <td>...</td>\n",
              "    </tr>\n",
              "    <tr>\n",
              "      <th>413</th>\n",
              "      <td>1305</td>\n",
              "      <td>3</td>\n",
              "      <td>Spector, Mr. Woolf</td>\n",
              "      <td>male</td>\n",
              "      <td>27.0</td>\n",
              "      <td>0</td>\n",
              "      <td>0</td>\n",
              "      <td>A.5. 3236</td>\n",
              "      <td>8.0500</td>\n",
              "      <td>NaN</td>\n",
              "      <td>S</td>\n",
              "      <td>Mr</td>\n",
              "      <td>Alone</td>\n",
              "      <td>0</td>\n",
              "    </tr>\n",
              "    <tr>\n",
              "      <th>414</th>\n",
              "      <td>1306</td>\n",
              "      <td>1</td>\n",
              "      <td>Oliva y Ocana, Dona. Fermina</td>\n",
              "      <td>female</td>\n",
              "      <td>39.0</td>\n",
              "      <td>0</td>\n",
              "      <td>0</td>\n",
              "      <td>PC 17758</td>\n",
              "      <td>108.9000</td>\n",
              "      <td>C105</td>\n",
              "      <td>C</td>\n",
              "      <td>Miss</td>\n",
              "      <td>Alone</td>\n",
              "      <td>1</td>\n",
              "    </tr>\n",
              "    <tr>\n",
              "      <th>415</th>\n",
              "      <td>1307</td>\n",
              "      <td>3</td>\n",
              "      <td>Saether, Mr. Simon Sivertsen</td>\n",
              "      <td>male</td>\n",
              "      <td>38.5</td>\n",
              "      <td>0</td>\n",
              "      <td>0</td>\n",
              "      <td>SOTON/O.Q. 3101262</td>\n",
              "      <td>7.2500</td>\n",
              "      <td>NaN</td>\n",
              "      <td>S</td>\n",
              "      <td>Mr</td>\n",
              "      <td>Alone</td>\n",
              "      <td>0</td>\n",
              "    </tr>\n",
              "    <tr>\n",
              "      <th>416</th>\n",
              "      <td>1308</td>\n",
              "      <td>3</td>\n",
              "      <td>Ware, Mr. Frederick</td>\n",
              "      <td>male</td>\n",
              "      <td>27.0</td>\n",
              "      <td>0</td>\n",
              "      <td>0</td>\n",
              "      <td>359309</td>\n",
              "      <td>8.0500</td>\n",
              "      <td>NaN</td>\n",
              "      <td>S</td>\n",
              "      <td>Mr</td>\n",
              "      <td>Medium</td>\n",
              "      <td>0</td>\n",
              "    </tr>\n",
              "    <tr>\n",
              "      <th>417</th>\n",
              "      <td>1309</td>\n",
              "      <td>3</td>\n",
              "      <td>Peter, Master. Michael J</td>\n",
              "      <td>male</td>\n",
              "      <td>27.0</td>\n",
              "      <td>1</td>\n",
              "      <td>1</td>\n",
              "      <td>2668</td>\n",
              "      <td>22.3583</td>\n",
              "      <td>NaN</td>\n",
              "      <td>C</td>\n",
              "      <td>Dr.\\Sir.\\Capt.\\Rev.</td>\n",
              "      <td>Small</td>\n",
              "      <td>1</td>\n",
              "    </tr>\n",
              "  </tbody>\n",
              "</table>\n",
              "<p>418 rows × 14 columns</p>\n",
              "</div>"
            ],
            "text/plain": [
              "     PassengerId  Pclass  ... Family_size Survived\n",
              "0            892       3  ...      Medium        0\n",
              "1            893       3  ...       Alone        0\n",
              "2            894       2  ...       Alone        0\n",
              "3            895       3  ...       Alone        0\n",
              "4            896       3  ...       Small        1\n",
              "..           ...     ...  ...         ...      ...\n",
              "413         1305       3  ...       Alone        0\n",
              "414         1306       1  ...       Alone        1\n",
              "415         1307       3  ...       Alone        0\n",
              "416         1308       3  ...      Medium        0\n",
              "417         1309       3  ...       Small        1\n",
              "\n",
              "[418 rows x 14 columns]"
            ]
          },
          "metadata": {
            "tags": []
          },
          "execution_count": 60
        }
      ]
    },
    {
      "cell_type": "code",
      "metadata": {
        "execution": {
          "iopub.status.busy": "2021-07-23T02:17:51.98303Z",
          "iopub.execute_input": "2021-07-23T02:17:51.983398Z",
          "iopub.status.idle": "2021-07-23T02:17:52.026615Z",
          "shell.execute_reply.started": "2021-07-23T02:17:51.983364Z",
          "shell.execute_reply": "2021-07-23T02:17:52.024789Z"
        },
        "trusted": true,
        "colab": {
          "base_uri": "https://localhost:8080/",
          "height": 542
        },
        "id": "8qssr4SmQOZ-",
        "outputId": "2840b657-a55e-49de-b28f-a385db0c9b8c"
      },
      "source": [
        "import plotly.graph_objects as go\n",
        "Series_1 = table_result_modifi.query('Survived == 1')\n",
        "Series_2 = table_result_modifi.query('Survived == 0')\n",
        "fig = go.Figure()\n",
        "fig.add_trace(go.Scatter3d(x=Series_1['PassengerId'], \n",
        "                           y=Series_1['Age'], z=Series_1['Pclass'],name='Survived', \n",
        "                           mode='markers', \n",
        "                           marker=dict(size=5,\n",
        "                           color='green',                # set color to an array/list of desired values\n",
        "                           colorscale='Viridis',   # choose a colorscale\n",
        "                           opacity=0.8),\n",
        "                           text= 'agrupador'))\n",
        "\n",
        "fig.add_trace(go.Scatter3d(x=Series_2['PassengerId'], \n",
        "                           y=Series_2['Age'], z=Series_2['Pclass'],name='Not Survived', \n",
        "                           mode='markers', \n",
        "                           marker=dict(size=5,\n",
        "                           color='red',                # set color to an array/list of desired values\n",
        "                           colorscale='Viridis',   # choose a colorscale\n",
        "                           opacity=0.8),\n",
        "                           text= 'agrupador'))\n",
        "\n",
        "fig.update_layout(scene=dict(xaxis_title='PassengerId',\n",
        "                             yaxis_title='Age', zaxis_title='Pclass'))\n",
        "\n",
        "fig.update_layout(scene = dict(\n",
        "                    zaxis = dict(\n",
        "                        ticktext= ['1º - Class','2º - Class','3º - Class'],\n",
        "                        tickvals= [1, 2, 3]))                    \n",
        "                  )\n",
        "# fig.update_layout(showlegend=True)\n",
        "\n",
        "# fig.update_layout(legend_title_text = \"Status\")\n",
        "\n",
        "fig.show()"
      ],
      "execution_count": 61,
      "outputs": [
        {
          "output_type": "display_data",
          "data": {
            "text/html": [
              "<html>\n",
              "<head><meta charset=\"utf-8\" /></head>\n",
              "<body>\n",
              "    <div>\n",
              "            <script src=\"https://cdnjs.cloudflare.com/ajax/libs/mathjax/2.7.5/MathJax.js?config=TeX-AMS-MML_SVG\"></script><script type=\"text/javascript\">if (window.MathJax) {MathJax.Hub.Config({SVG: {font: \"STIX-Web\"}});}</script>\n",
              "                <script type=\"text/javascript\">window.PlotlyConfig = {MathJaxConfig: 'local'};</script>\n",
              "        <script src=\"https://cdn.plot.ly/plotly-latest.min.js\"></script>    \n",
              "            <div id=\"01192216-0751-4905-9685-571ac90624a7\" class=\"plotly-graph-div\" style=\"height:525px; width:100%;\"></div>\n",
              "            <script type=\"text/javascript\">\n",
              "                \n",
              "                    window.PLOTLYENV=window.PLOTLYENV || {};\n",
              "                    \n",
              "                if (document.getElementById(\"01192216-0751-4905-9685-571ac90624a7\")) {\n",
              "                    Plotly.newPlot(\n",
              "                        '01192216-0751-4905-9685-571ac90624a7',\n",
              "                        [{\"marker\": {\"color\": \"green\", \"colorscale\": [[0.0, \"#440154\"], [0.1111111111111111, \"#482878\"], [0.2222222222222222, \"#3e4989\"], [0.3333333333333333, \"#31688e\"], [0.4444444444444444, \"#26828e\"], [0.5555555555555556, \"#1f9e89\"], [0.6666666666666666, \"#35b779\"], [0.7777777777777778, \"#6ece58\"], [0.8888888888888888, \"#b5de2b\"], [1.0, \"#fde725\"]], \"opacity\": 0.8, \"size\": 5}, \"mode\": \"markers\", \"name\": \"Survived\", \"text\": \"agrupador\", \"type\": \"scatter3d\", \"x\": [896, 898, 900, 904, 906, 907, 910, 911, 913, 914, 916, 918, 924, 928, 929, 935, 936, 940, 941, 944, 945, 951, 955, 956, 957, 958, 961, 962, 964, 966, 969, 971, 972, 978, 979, 980, 981, 982, 984, 988, 990, 992, 996, 1003, 1004, 1005, 1006, 1009, 1011, 1012, 1014, 1017, 1019, 1030, 1033, 1041, 1042, 1045, 1048, 1049, 1051, 1052, 1053, 1054, 1057, 1060, 1061, 1067, 1068, 1070, 1071, 1074, 1076, 1078, 1084, 1086, 1088, 1089, 1091, 1092, 1093, 1094, 1095, 1098, 1100, 1105, 1108, 1110, 1112, 1114, 1116, 1117, 1119, 1123, 1130, 1131, 1132, 1133, 1138, 1140, 1141, 1142, 1150, 1154, 1155, 1160, 1164, 1165, 1167, 1172, 1173, 1174, 1175, 1176, 1183, 1185, 1188, 1196, 1197, 1199, 1205, 1206, 1207, 1216, 1218, 1222, 1225, 1231, 1235, 1236, 1237, 1239, 1241, 1242, 1246, 1248, 1251, 1253, 1254, 1256, 1259, 1260, 1263, 1266, 1267, 1268, 1274, 1275, 1277, 1283, 1284, 1287, 1289, 1292, 1294, 1300, 1301, 1302, 1303, 1304, 1306, 1309], \"y\": [22.0, 30.0, 18.0, 23.0, 47.0, 24.0, 27.0, 45.0, 9.0, 35.0, 48.0, 22.0, 33.0, 22.0, 21.0, 30.0, 45.0, 60.0, 36.0, 20.0, 28.0, 36.0, 22.0, 13.0, 29.0, 18.0, 60.0, 24.0, 29.0, 35.0, 55.0, 24.0, 6.0, 27.0, 18.0, 22.0, 2.0, 22.0, 27.0, 76.0, 20.0, 43.0, 16.0, 22.0, 36.0, 18.5, 63.0, 1.0, 29.0, 12.0, 35.0, 17.0, 22.0, 23.0, 33.0, 30.0, 23.0, 36.0, 29.0, 23.0, 26.0, 22.0, 7.0, 26.0, 26.0, 35.0, 22.0, 15.0, 20.0, 36.0, 64.0, 18.0, 27.0, 21.0, 11.5, 8.0, 6.0, 18.0, 22.0, 22.0, 0.33, 47.0, 8.0, 35.0, 33.0, 60.0, 22.0, 50.0, 30.0, 22.0, 53.0, 22.0, 22.0, 21.0, 18.0, 48.0, 55.0, 45.0, 22.0, 29.0, 22.0, 0.92, 19.0, 29.0, 1.0, 22.0, 26.0, 22.0, 20.0, 23.0, 0.75, 22.0, 9.0, 2.0, 30.0, 53.0, 1.0, 22.0, 64.0, 0.83, 37.0, 55.0, 17.0, 39.0, 12.0, 48.0, 19.0, 27.0, 58.0, 27.0, 16.0, 38.0, 31.0, 45.0, 0.17, 59.0, 30.0, 24.0, 31.0, 25.0, 22.0, 45.0, 31.0, 54.0, 45.0, 22.0, 22.0, 19.0, 24.0, 51.0, 13.0, 18.0, 48.0, 30.0, 22.0, 22.0, 3.0, 22.0, 37.0, 28.0, 39.0, 27.0], \"z\": [3, 3, 3, 1, 1, 2, 3, 3, 3, 1, 1, 1, 3, 3, 3, 2, 1, 1, 3, 2, 1, 1, 3, 1, 2, 3, 1, 3, 3, 1, 1, 3, 3, 3, 3, 3, 2, 3, 1, 1, 3, 1, 3, 3, 1, 3, 1, 3, 2, 2, 1, 3, 3, 3, 1, 2, 1, 3, 1, 3, 3, 3, 3, 2, 3, 1, 3, 2, 2, 2, 1, 1, 1, 2, 3, 2, 1, 3, 3, 3, 3, 1, 2, 3, 1, 2, 3, 1, 2, 2, 1, 3, 3, 1, 2, 1, 1, 2, 2, 2, 3, 2, 2, 2, 3, 3, 1, 3, 2, 3, 3, 3, 3, 3, 3, 1, 2, 3, 1, 3, 3, 1, 3, 1, 2, 2, 3, 3, 1, 3, 3, 3, 2, 1, 3, 1, 3, 2, 2, 1, 3, 1, 1, 1, 1, 3, 3, 3, 2, 1, 3, 1, 1, 1, 1, 3, 3, 3, 1, 3, 1, 3]}, {\"marker\": {\"color\": \"red\", \"colorscale\": [[0.0, \"#440154\"], [0.1111111111111111, \"#482878\"], [0.2222222222222222, \"#3e4989\"], [0.3333333333333333, \"#31688e\"], [0.4444444444444444, \"#26828e\"], [0.5555555555555556, \"#1f9e89\"], [0.6666666666666666, \"#35b779\"], [0.7777777777777778, \"#6ece58\"], [0.8888888888888888, \"#b5de2b\"], [1.0, \"#fde725\"]], \"opacity\": 0.8, \"size\": 5}, \"mode\": \"markers\", \"name\": \"Not Survived\", \"text\": \"agrupador\", \"type\": \"scatter3d\", \"x\": [892, 893, 894, 895, 897, 899, 901, 902, 903, 905, 908, 909, 912, 915, 917, 919, 920, 921, 922, 923, 925, 926, 927, 930, 931, 932, 933, 934, 937, 938, 939, 942, 943, 946, 947, 948, 949, 950, 952, 953, 954, 959, 960, 963, 965, 967, 968, 970, 973, 974, 975, 976, 977, 983, 985, 986, 987, 989, 991, 993, 994, 995, 997, 998, 999, 1000, 1001, 1002, 1007, 1008, 1010, 1013, 1015, 1016, 1018, 1020, 1021, 1022, 1023, 1024, 1025, 1026, 1027, 1028, 1029, 1031, 1032, 1034, 1035, 1036, 1037, 1038, 1039, 1040, 1043, 1044, 1046, 1047, 1050, 1055, 1056, 1058, 1059, 1062, 1063, 1064, 1065, 1066, 1069, 1072, 1073, 1075, 1077, 1079, 1080, 1081, 1082, 1083, 1085, 1087, 1090, 1096, 1097, 1099, 1101, 1102, 1103, 1104, 1106, 1107, 1109, 1111, 1113, 1115, 1118, 1120, 1121, 1122, 1124, 1125, 1126, 1127, 1128, 1129, 1134, 1135, 1136, 1137, 1139, 1143, 1144, 1145, 1146, 1147, 1148, 1149, 1151, 1152, 1153, 1156, 1157, 1158, 1159, 1161, 1162, 1163, 1166, 1168, 1169, 1170, 1171, 1177, 1178, 1179, 1180, 1181, 1182, 1184, 1186, 1187, 1189, 1190, 1191, 1192, 1193, 1194, 1195, 1198, 1200, 1201, 1202, 1203, 1204, 1208, 1209, 1210, 1211, 1212, 1213, 1214, 1215, 1217, 1219, 1220, 1221, 1223, 1224, 1226, 1227, 1228, 1229, 1230, 1232, 1233, 1234, 1238, 1240, 1243, 1244, 1245, 1247, 1249, 1250, 1252, 1255, 1257, 1258, 1261, 1262, 1264, 1265, 1269, 1270, 1271, 1272, 1273, 1276, 1278, 1279, 1280, 1281, 1282, 1285, 1286, 1288, 1290, 1291, 1293, 1295, 1296, 1297, 1298, 1299, 1305, 1307, 1308], \"y\": [34.5, 47.0, 62.0, 27.0, 14.0, 26.0, 21.0, 27.0, 46.0, 63.0, 35.0, 21.0, 55.0, 21.0, 50.0, 22.5, 41.0, 27.0, 50.0, 24.0, 22.0, 30.0, 18.5, 25.0, 27.0, 39.0, 41.0, 41.0, 25.0, 45.0, 27.0, 24.0, 27.0, 31.0, 10.0, 35.0, 25.0, 27.0, 17.0, 32.0, 18.0, 47.0, 31.0, 21.0, 28.5, 32.5, 27.0, 30.0, 67.0, 49.0, 27.0, 31.0, 27.0, 27.0, 27.0, 25.0, 25.0, 29.0, 33.0, 27.0, 27.0, 26.0, 28.0, 21.0, 27.0, 27.0, 18.5, 41.0, 18.0, 27.0, 36.0, 27.0, 28.0, 27.0, 22.0, 42.0, 24.0, 32.0, 53.0, 22.0, 27.0, 43.0, 24.0, 26.5, 26.0, 40.0, 10.0, 61.0, 28.0, 42.0, 31.0, 41.0, 22.0, 41.0, 27.0, 60.5, 13.0, 24.0, 42.0, 27.0, 41.0, 48.0, 18.0, 27.0, 27.0, 23.0, 27.0, 40.0, 54.0, 30.0, 37.0, 27.0, 40.0, 17.0, 22.0, 40.0, 34.0, 41.0, 61.0, 33.0, 23.0, 25.0, 41.0, 24.0, 25.0, 32.0, 27.0, 17.0, 38.0, 42.0, 57.0, 27.0, 21.0, 21.0, 23.0, 40.5, 36.0, 14.0, 21.0, 27.0, 39.0, 20.0, 64.0, 20.0, 45.0, 27.0, 27.0, 41.0, 42.0, 20.0, 27.0, 24.0, 32.5, 27.0, 27.0, 28.0, 21.0, 36.5, 21.0, 30.0, 27.0, 41.0, 27.0, 17.0, 46.0, 27.0, 27.0, 28.0, 40.0, 30.0, 22.0, 36.0, 27.0, 24.0, 27.0, 27.0, 41.0, 27.0, 36.0, 26.0, 27.0, 30.0, 29.0, 32.0, 31.0, 43.0, 24.0, 30.0, 55.0, 45.0, 18.0, 22.0, 27.0, 57.0, 19.0, 27.0, 22.0, 26.0, 25.0, 26.0, 33.0, 23.0, 46.0, 29.0, 21.0, 39.0, 27.0, 27.0, 30.0, 32.0, 39.0, 25.0, 18.0, 32.0, 27.0, 26.0, 24.0, 25.0, 18.0, 49.0, 50.0, 27.0, 27.0, 14.5, 27.0, 22.0, 27.0, 29.0, 21.0, 49.0, 44.0, 21.0, 55.0, 5.0, 27.0, 26.0, 31.0, 24.0, 57.0, 21.0, 6.0, 23.0, 47.0, 29.0, 24.0, 22.0, 31.0, 38.0, 17.0, 43.0, 20.0, 23.0, 50.0, 27.0, 38.5, 27.0], \"z\": [3, 3, 2, 3, 3, 2, 3, 3, 1, 2, 2, 3, 1, 1, 3, 3, 1, 3, 2, 2, 3, 1, 3, 3, 3, 3, 1, 3, 3, 1, 3, 1, 2, 2, 3, 3, 3, 3, 3, 2, 3, 1, 1, 3, 1, 1, 3, 2, 1, 1, 3, 2, 3, 3, 3, 1, 3, 3, 3, 2, 3, 3, 3, 3, 3, 3, 2, 2, 3, 3, 1, 3, 3, 3, 3, 2, 3, 3, 1, 3, 3, 3, 3, 3, 2, 3, 3, 1, 2, 1, 3, 1, 3, 1, 3, 3, 3, 3, 1, 3, 2, 1, 3, 3, 3, 3, 3, 3, 1, 2, 1, 3, 2, 3, 3, 2, 2, 1, 2, 3, 2, 2, 1, 2, 3, 3, 3, 2, 3, 1, 1, 3, 3, 3, 3, 3, 2, 2, 3, 3, 1, 3, 1, 3, 1, 3, 3, 1, 2, 3, 1, 3, 3, 3, 3, 3, 3, 3, 3, 2, 3, 1, 3, 3, 1, 3, 3, 2, 2, 2, 2, 3, 3, 1, 3, 3, 1, 3, 3, 3, 3, 1, 3, 3, 2, 2, 3, 1, 1, 3, 3, 3, 3, 1, 2, 3, 2, 3, 3, 2, 1, 3, 1, 2, 2, 1, 3, 3, 1, 2, 3, 2, 2, 3, 3, 2, 2, 2, 2, 2, 1, 3, 3, 3, 3, 3, 3, 2, 2, 1, 2, 2, 1, 3, 3, 3, 2, 3, 2, 3, 3, 1, 2, 3, 3, 3, 3, 2, 1, 1, 2, 2, 1, 3, 3, 3]}],\n",
              "                        {\"scene\": {\"xaxis\": {\"title\": {\"text\": \"PassengerId\"}}, \"yaxis\": {\"title\": {\"text\": \"Age\"}}, \"zaxis\": {\"ticktext\": [\"1\\u00ba - Class\", \"2\\u00ba - Class\", \"3\\u00ba - Class\"], \"tickvals\": [1, 2, 3], \"title\": {\"text\": \"Pclass\"}}}, \"template\": {\"data\": {\"bar\": [{\"error_x\": {\"color\": \"#2a3f5f\"}, \"error_y\": {\"color\": \"#2a3f5f\"}, \"marker\": {\"line\": {\"color\": \"#E5ECF6\", \"width\": 0.5}}, \"type\": \"bar\"}], \"barpolar\": [{\"marker\": {\"line\": {\"color\": \"#E5ECF6\", \"width\": 0.5}}, \"type\": \"barpolar\"}], \"carpet\": [{\"aaxis\": {\"endlinecolor\": \"#2a3f5f\", \"gridcolor\": \"white\", \"linecolor\": \"white\", \"minorgridcolor\": \"white\", \"startlinecolor\": \"#2a3f5f\"}, \"baxis\": {\"endlinecolor\": \"#2a3f5f\", \"gridcolor\": \"white\", \"linecolor\": \"white\", \"minorgridcolor\": \"white\", \"startlinecolor\": \"#2a3f5f\"}, \"type\": \"carpet\"}], \"choropleth\": [{\"colorbar\": {\"outlinewidth\": 0, \"ticks\": \"\"}, \"type\": \"choropleth\"}], \"contour\": [{\"colorbar\": {\"outlinewidth\": 0, \"ticks\": \"\"}, \"colorscale\": [[0.0, \"#0d0887\"], [0.1111111111111111, \"#46039f\"], [0.2222222222222222, \"#7201a8\"], [0.3333333333333333, \"#9c179e\"], [0.4444444444444444, \"#bd3786\"], [0.5555555555555556, \"#d8576b\"], [0.6666666666666666, \"#ed7953\"], [0.7777777777777778, \"#fb9f3a\"], [0.8888888888888888, \"#fdca26\"], [1.0, \"#f0f921\"]], \"type\": \"contour\"}], \"contourcarpet\": [{\"colorbar\": {\"outlinewidth\": 0, \"ticks\": \"\"}, \"type\": \"contourcarpet\"}], \"heatmap\": [{\"colorbar\": {\"outlinewidth\": 0, \"ticks\": \"\"}, \"colorscale\": [[0.0, \"#0d0887\"], [0.1111111111111111, \"#46039f\"], [0.2222222222222222, \"#7201a8\"], [0.3333333333333333, \"#9c179e\"], [0.4444444444444444, \"#bd3786\"], [0.5555555555555556, \"#d8576b\"], [0.6666666666666666, \"#ed7953\"], [0.7777777777777778, \"#fb9f3a\"], [0.8888888888888888, \"#fdca26\"], [1.0, \"#f0f921\"]], \"type\": \"heatmap\"}], \"heatmapgl\": [{\"colorbar\": {\"outlinewidth\": 0, \"ticks\": \"\"}, \"colorscale\": [[0.0, \"#0d0887\"], [0.1111111111111111, \"#46039f\"], [0.2222222222222222, \"#7201a8\"], [0.3333333333333333, \"#9c179e\"], [0.4444444444444444, \"#bd3786\"], [0.5555555555555556, \"#d8576b\"], [0.6666666666666666, \"#ed7953\"], [0.7777777777777778, \"#fb9f3a\"], [0.8888888888888888, \"#fdca26\"], [1.0, \"#f0f921\"]], \"type\": \"heatmapgl\"}], \"histogram\": [{\"marker\": {\"colorbar\": {\"outlinewidth\": 0, \"ticks\": \"\"}}, \"type\": \"histogram\"}], \"histogram2d\": [{\"colorbar\": {\"outlinewidth\": 0, \"ticks\": \"\"}, \"colorscale\": [[0.0, \"#0d0887\"], [0.1111111111111111, \"#46039f\"], [0.2222222222222222, \"#7201a8\"], [0.3333333333333333, \"#9c179e\"], [0.4444444444444444, \"#bd3786\"], [0.5555555555555556, \"#d8576b\"], [0.6666666666666666, \"#ed7953\"], [0.7777777777777778, \"#fb9f3a\"], [0.8888888888888888, \"#fdca26\"], [1.0, \"#f0f921\"]], \"type\": \"histogram2d\"}], \"histogram2dcontour\": [{\"colorbar\": {\"outlinewidth\": 0, \"ticks\": \"\"}, \"colorscale\": [[0.0, \"#0d0887\"], [0.1111111111111111, \"#46039f\"], [0.2222222222222222, \"#7201a8\"], [0.3333333333333333, \"#9c179e\"], [0.4444444444444444, \"#bd3786\"], [0.5555555555555556, \"#d8576b\"], [0.6666666666666666, \"#ed7953\"], [0.7777777777777778, \"#fb9f3a\"], [0.8888888888888888, \"#fdca26\"], [1.0, \"#f0f921\"]], \"type\": \"histogram2dcontour\"}], \"mesh3d\": [{\"colorbar\": {\"outlinewidth\": 0, \"ticks\": \"\"}, \"type\": \"mesh3d\"}], \"parcoords\": [{\"line\": {\"colorbar\": {\"outlinewidth\": 0, \"ticks\": \"\"}}, \"type\": \"parcoords\"}], \"pie\": [{\"automargin\": true, \"type\": \"pie\"}], \"scatter\": [{\"marker\": {\"colorbar\": {\"outlinewidth\": 0, \"ticks\": \"\"}}, \"type\": \"scatter\"}], \"scatter3d\": [{\"line\": {\"colorbar\": {\"outlinewidth\": 0, \"ticks\": \"\"}}, \"marker\": {\"colorbar\": {\"outlinewidth\": 0, \"ticks\": \"\"}}, \"type\": \"scatter3d\"}], \"scattercarpet\": [{\"marker\": {\"colorbar\": {\"outlinewidth\": 0, \"ticks\": \"\"}}, \"type\": \"scattercarpet\"}], \"scattergeo\": [{\"marker\": {\"colorbar\": {\"outlinewidth\": 0, \"ticks\": \"\"}}, \"type\": \"scattergeo\"}], \"scattergl\": [{\"marker\": {\"colorbar\": {\"outlinewidth\": 0, \"ticks\": \"\"}}, \"type\": \"scattergl\"}], \"scattermapbox\": [{\"marker\": {\"colorbar\": {\"outlinewidth\": 0, \"ticks\": \"\"}}, \"type\": \"scattermapbox\"}], \"scatterpolar\": [{\"marker\": {\"colorbar\": {\"outlinewidth\": 0, \"ticks\": \"\"}}, \"type\": \"scatterpolar\"}], \"scatterpolargl\": [{\"marker\": {\"colorbar\": {\"outlinewidth\": 0, \"ticks\": \"\"}}, \"type\": \"scatterpolargl\"}], \"scatterternary\": [{\"marker\": {\"colorbar\": {\"outlinewidth\": 0, \"ticks\": \"\"}}, \"type\": \"scatterternary\"}], \"surface\": [{\"colorbar\": {\"outlinewidth\": 0, \"ticks\": \"\"}, \"colorscale\": [[0.0, \"#0d0887\"], [0.1111111111111111, \"#46039f\"], [0.2222222222222222, \"#7201a8\"], [0.3333333333333333, \"#9c179e\"], [0.4444444444444444, \"#bd3786\"], [0.5555555555555556, \"#d8576b\"], [0.6666666666666666, \"#ed7953\"], [0.7777777777777778, \"#fb9f3a\"], [0.8888888888888888, \"#fdca26\"], [1.0, \"#f0f921\"]], \"type\": \"surface\"}], \"table\": [{\"cells\": {\"fill\": {\"color\": \"#EBF0F8\"}, \"line\": {\"color\": \"white\"}}, \"header\": {\"fill\": {\"color\": \"#C8D4E3\"}, \"line\": {\"color\": \"white\"}}, \"type\": \"table\"}]}, \"layout\": {\"annotationdefaults\": {\"arrowcolor\": \"#2a3f5f\", \"arrowhead\": 0, \"arrowwidth\": 1}, \"coloraxis\": {\"colorbar\": {\"outlinewidth\": 0, \"ticks\": \"\"}}, \"colorscale\": {\"diverging\": [[0, \"#8e0152\"], [0.1, \"#c51b7d\"], [0.2, \"#de77ae\"], [0.3, \"#f1b6da\"], [0.4, \"#fde0ef\"], [0.5, \"#f7f7f7\"], [0.6, \"#e6f5d0\"], [0.7, \"#b8e186\"], [0.8, \"#7fbc41\"], [0.9, \"#4d9221\"], [1, \"#276419\"]], \"sequential\": [[0.0, \"#0d0887\"], [0.1111111111111111, \"#46039f\"], [0.2222222222222222, \"#7201a8\"], [0.3333333333333333, \"#9c179e\"], [0.4444444444444444, \"#bd3786\"], [0.5555555555555556, \"#d8576b\"], [0.6666666666666666, \"#ed7953\"], [0.7777777777777778, \"#fb9f3a\"], [0.8888888888888888, \"#fdca26\"], [1.0, \"#f0f921\"]], \"sequentialminus\": [[0.0, \"#0d0887\"], [0.1111111111111111, \"#46039f\"], [0.2222222222222222, \"#7201a8\"], [0.3333333333333333, \"#9c179e\"], [0.4444444444444444, \"#bd3786\"], [0.5555555555555556, \"#d8576b\"], [0.6666666666666666, \"#ed7953\"], [0.7777777777777778, \"#fb9f3a\"], [0.8888888888888888, \"#fdca26\"], [1.0, \"#f0f921\"]]}, \"colorway\": [\"#636efa\", \"#EF553B\", \"#00cc96\", \"#ab63fa\", \"#FFA15A\", \"#19d3f3\", \"#FF6692\", \"#B6E880\", \"#FF97FF\", \"#FECB52\"], \"font\": {\"color\": \"#2a3f5f\"}, \"geo\": {\"bgcolor\": \"white\", \"lakecolor\": \"white\", \"landcolor\": \"#E5ECF6\", \"showlakes\": true, \"showland\": true, \"subunitcolor\": \"white\"}, \"hoverlabel\": {\"align\": \"left\"}, \"hovermode\": \"closest\", \"mapbox\": {\"style\": \"light\"}, \"paper_bgcolor\": \"white\", \"plot_bgcolor\": \"#E5ECF6\", \"polar\": {\"angularaxis\": {\"gridcolor\": \"white\", \"linecolor\": \"white\", \"ticks\": \"\"}, \"bgcolor\": \"#E5ECF6\", \"radialaxis\": {\"gridcolor\": \"white\", \"linecolor\": \"white\", \"ticks\": \"\"}}, \"scene\": {\"xaxis\": {\"backgroundcolor\": \"#E5ECF6\", \"gridcolor\": \"white\", \"gridwidth\": 2, \"linecolor\": \"white\", \"showbackground\": true, \"ticks\": \"\", \"zerolinecolor\": \"white\"}, \"yaxis\": {\"backgroundcolor\": \"#E5ECF6\", \"gridcolor\": \"white\", \"gridwidth\": 2, \"linecolor\": \"white\", \"showbackground\": true, \"ticks\": \"\", \"zerolinecolor\": \"white\"}, \"zaxis\": {\"backgroundcolor\": \"#E5ECF6\", \"gridcolor\": \"white\", \"gridwidth\": 2, \"linecolor\": \"white\", \"showbackground\": true, \"ticks\": \"\", \"zerolinecolor\": \"white\"}}, \"shapedefaults\": {\"line\": {\"color\": \"#2a3f5f\"}}, \"ternary\": {\"aaxis\": {\"gridcolor\": \"white\", \"linecolor\": \"white\", \"ticks\": \"\"}, \"baxis\": {\"gridcolor\": \"white\", \"linecolor\": \"white\", \"ticks\": \"\"}, \"bgcolor\": \"#E5ECF6\", \"caxis\": {\"gridcolor\": \"white\", \"linecolor\": \"white\", \"ticks\": \"\"}}, \"title\": {\"x\": 0.05}, \"xaxis\": {\"automargin\": true, \"gridcolor\": \"white\", \"linecolor\": \"white\", \"ticks\": \"\", \"title\": {\"standoff\": 15}, \"zerolinecolor\": \"white\", \"zerolinewidth\": 2}, \"yaxis\": {\"automargin\": true, \"gridcolor\": \"white\", \"linecolor\": \"white\", \"ticks\": \"\", \"title\": {\"standoff\": 15}, \"zerolinecolor\": \"white\", \"zerolinewidth\": 2}}}},\n",
              "                        {\"responsive\": true}\n",
              "                    ).then(function(){\n",
              "                            \n",
              "var gd = document.getElementById('01192216-0751-4905-9685-571ac90624a7');\n",
              "var x = new MutationObserver(function (mutations, observer) {{\n",
              "        var display = window.getComputedStyle(gd).display;\n",
              "        if (!display || display === 'none') {{\n",
              "            console.log([gd, 'removed!']);\n",
              "            Plotly.purge(gd);\n",
              "            observer.disconnect();\n",
              "        }}\n",
              "}});\n",
              "\n",
              "// Listen for the removal of the full notebook cells\n",
              "var notebookContainer = gd.closest('#notebook-container');\n",
              "if (notebookContainer) {{\n",
              "    x.observe(notebookContainer, {childList: true});\n",
              "}}\n",
              "\n",
              "// Listen for the clearing of the current output cell\n",
              "var outputEl = gd.closest('.output');\n",
              "if (outputEl) {{\n",
              "    x.observe(outputEl, {childList: true});\n",
              "}}\n",
              "\n",
              "                        })\n",
              "                };\n",
              "                \n",
              "            </script>\n",
              "        </div>\n",
              "</body>\n",
              "</html>"
            ]
          },
          "metadata": {
            "tags": []
          }
        }
      ]
    },
    {
      "cell_type": "markdown",
      "metadata": {
        "id": "8wotIjWRQOZ-"
      },
      "source": [
        "References: \n",
        "* https://scikit-learn.org/stable/auto_examples/inspection/plot_permutation_importance.html#sphx-glr-auto-examples-inspection-plot-permutation-importance-py\n",
        "\n",
        "*  https://www.kaggle.com/gunesevitan/titanic-advanced-feature-engineering-tutorial/notebook"
      ]
    }
  ]
}